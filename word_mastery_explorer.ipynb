{
 "cells": [
  {
   "cell_type": "code",
   "execution_count": 17,
   "metadata": {},
   "outputs": [],
   "source": [
    "import pandas as pd"
   ]
  },
  {
   "cell_type": "code",
   "execution_count": 48,
   "metadata": {},
   "outputs": [
    {
     "data": {
      "text/html": [
       "<div>\n",
       "<style scoped>\n",
       "    .dataframe tbody tr th:only-of-type {\n",
       "        vertical-align: middle;\n",
       "    }\n",
       "\n",
       "    .dataframe tbody tr th {\n",
       "        vertical-align: top;\n",
       "    }\n",
       "\n",
       "    .dataframe thead th {\n",
       "        text-align: right;\n",
       "    }\n",
       "</style>\n",
       "<table border=\"1\" class=\"dataframe\">\n",
       "  <thead>\n",
       "    <tr style=\"text-align: right;\">\n",
       "      <th></th>\n",
       "      <th>datetime</th>\n",
       "      <th>english_word</th>\n",
       "      <th>game_id</th>\n",
       "      <th>killed</th>\n",
       "      <th>lesson</th>\n",
       "      <th>presented_word</th>\n",
       "      <th>read_duration</th>\n",
       "      <th>student_name</th>\n",
       "    </tr>\n",
       "  </thead>\n",
       "  <tbody>\n",
       "    <tr>\n",
       "      <th>0</th>\n",
       "      <td>2021-06-02 22:21:16.641017</td>\n",
       "      <td>sō</td>\n",
       "      <td>RHTVRdOLzgrNtZrqokSWYXZZCPQigvbpmAYajByp</td>\n",
       "      <td>no</td>\n",
       "      <td>70</td>\n",
       "      <td>sō</td>\n",
       "      <td>14.929104</td>\n",
       "      <td>B</td>\n",
       "    </tr>\n",
       "    <tr>\n",
       "      <th>0</th>\n",
       "      <td>2021-06-02 22:22:36.687587</td>\n",
       "      <td>sō</td>\n",
       "      <td>SDtHMzxnkupwpDNukjfSNzYRkiXqhFsDkPLnWfiC</td>\n",
       "      <td>no</td>\n",
       "      <td>70</td>\n",
       "      <td>sō</td>\n",
       "      <td>3.267537</td>\n",
       "      <td>B</td>\n",
       "    </tr>\n",
       "    <tr>\n",
       "      <th>0</th>\n",
       "      <td>2021-06-02 22:23:13.914859</td>\n",
       "      <td>sō</td>\n",
       "      <td>QyDPDQcBcwpVzTRJeRatJzTKUGJMakWBsyTHurMs</td>\n",
       "      <td>no</td>\n",
       "      <td>70</td>\n",
       "      <td>sō</td>\n",
       "      <td>5.593357</td>\n",
       "      <td>B</td>\n",
       "    </tr>\n",
       "  </tbody>\n",
       "</table>\n",
       "</div>"
      ],
      "text/plain": [
       "                    datetime english_word  \\\n",
       "0 2021-06-02 22:21:16.641017           sō   \n",
       "0 2021-06-02 22:22:36.687587           sō   \n",
       "0 2021-06-02 22:23:13.914859           sō   \n",
       "\n",
       "                                    game_id killed lesson presented_word  \\\n",
       "0  RHTVRdOLzgrNtZrqokSWYXZZCPQigvbpmAYajByp     no     70             sō   \n",
       "0  SDtHMzxnkupwpDNukjfSNzYRkiXqhFsDkPLnWfiC     no     70             sō   \n",
       "0  QyDPDQcBcwpVzTRJeRatJzTKUGJMakWBsyTHurMs     no     70             sō   \n",
       "\n",
       "   read_duration student_name  \n",
       "0      14.929104            B  \n",
       "0       3.267537            B  \n",
       "0       5.593357            B  "
      ]
     },
     "execution_count": 48,
     "metadata": {},
     "output_type": "execute_result"
    }
   ],
   "source": [
    "df = pd.read_pickle('maryo_scores.pkl')\n",
    "df[df['english_word'] == 'sō']"
   ]
  },
  {
   "cell_type": "code",
   "execution_count": null,
   "metadata": {},
   "outputs": [],
   "source": []
  },
  {
   "cell_type": "code",
   "execution_count": null,
   "metadata": {},
   "outputs": [],
   "source": []
  }
 ],
 "metadata": {
  "kernelspec": {
   "display_name": "Python 3",
   "language": "python",
   "name": "python3"
  },
  "language_info": {
   "codemirror_mode": {
    "name": "ipython",
    "version": 3
   },
   "file_extension": ".py",
   "mimetype": "text/x-python",
   "name": "python",
   "nbconvert_exporter": "python",
   "pygments_lexer": "ipython3",
   "version": "3.7.2"
  }
 },
 "nbformat": 4,
 "nbformat_minor": 2
}
