{
 "cells": [
  {
   "cell_type": "code",
   "execution_count": 2,
   "metadata": {},
   "outputs": [],
   "source": [
    "import pandas as pdb"
   ]
  },
  {
   "cell_type": "code",
   "execution_count": 72,
   "metadata": {},
   "outputs": [
    {
     "data": {
      "text/plain": [
       "array([ 0,  1,  2,  3,  4,  5,  6,  7,  8,  9, 10, 11, 12, 13, 14, 15, 16,\n",
       "       17, 18, 19, 20, 21, 22, 23, 24, 25, 26, 27, 28, 29, 30, 31, 32, 33,\n",
       "       34, 35, 36, 37, 38, 39, 40, 41, 42, 43, 44, 45, 46, 47, 48, 49, 50,\n",
       "       51, 52, 53, 54, 55, 56, 57, 58, 59, 60, 61, 62, 63, 64, 65, 66, 67,\n",
       "       68, 69, 70, 71, 72, 73, 74, 75, 76, 77, 78, 79, 80, 81, 82, 83, 84,\n",
       "       85, 86, 87, 88, 89, 90, 91, 92, 93, 94, 95, 96, 97, 98, 99])"
      ]
     },
     "execution_count": 72,
     "metadata": {},
     "output_type": "execute_result"
    }
   ],
   "source": [
    "import numpy as np\n",
    "f = np.arange(0,100,1)\n",
    "f"
   ]
  },
  {
   "cell_type": "code",
   "execution_count": 89,
   "metadata": {},
   "outputs": [
    {
     "data": {
      "text/plain": [
       "array([[<matplotlib.axes._subplots.AxesSubplot object at 0x7f993a461fd0>]],\n",
       "      dtype=object)"
      ]
     },
     "execution_count": 89,
     "metadata": {},
     "output_type": "execute_result"
    },
    {
     "data": {
      "image/png": "[encoded data removed]",
      "text/plain": [
       "<Figure size 432x288 with 1 Axes>"
      ]
     },
     "metadata": {
      "needs_background": "light"
     },
     "output_type": "display_data"
    }
   ],
   "source": [
    "df = pd.read_pickle('maryo_scores.pkl')\n",
    "focus_word = df[(df['english_word'] == 'the')]# & (df['english_word'] > 'the')]\n",
    "focus_word = df[(df.read_duration >.07) & (df.english_word != '')]\n",
    "focus_word.hist('read_duration',bins=f)"
   ]
  },
  {
   "cell_type": "code",
   "execution_count": 90,
   "metadata": {},
   "outputs": [
    {
     "data": {
      "application/vnd.plotly.v1+json": {
       "config": {
        "plotlyServerURL": "https://plot.ly"
       },
       "data": [
        {
         "hovertemplate": "color=sō<br>x=%{x}<br>y=%{y}<extra></extra>",
         "legendgroup": "sō",
         "marker": {
          "color": "#636efa",
          "symbol": "circle"
         },
         "mode": "markers",
         "name": "sō",
         "orientation": "v",
         "showlegend": true,
         "type": "scatter",
         "x": [
          "2021-06-02T22:21:16.641017",
          "2021-06-02T22:22:36.687587",
          "2021-06-02T22:23:13.914859",
          "2021-06-02T22:28:43.007798",
          "2021-06-03T19:01:46.849267"
         ],
         "xaxis": "x",
         "y": [
          14.929104,
          3.267537,
          5.593357,
          3.628511,
          10.364727
         ],
         "yaxis": "y"
        },
        {
         "hovertemplate": "color=i<br>x=%{x}<br>y=%{y}<extra></extra>",
         "legendgroup": "i",
         "marker": {
          "color": "#EF553B",
          "symbol": "circle"
         },
         "mode": "markers",
         "name": "i",
         "orientation": "v",
         "showlegend": true,
         "type": "scatter",
         "x": [
          "2021-06-02T22:21:17.447527",
          "2021-06-02T22:22:38.324823",
          "2021-06-02T22:23:14.276443",
          "2021-06-03T19:01:49.089567",
          "2021-06-08T20:06:31.734259",
          "2021-06-08T20:27:30.252150",
          "2021-06-08T20:32:20.869625"
         ],
         "xaxis": "x",
         "y": [
          0.800786,
          1.629701,
          0.355704,
          2.231525,
          1.828104,
          1.962176,
          2.371681
         ],
         "yaxis": "y"
        },
        {
         "hovertemplate": "color=am<br>x=%{x}<br>y=%{y}<extra></extra>",
         "legendgroup": "am",
         "marker": {
          "color": "#00cc96",
          "symbol": "circle"
         },
         "mode": "markers",
         "name": "am",
         "orientation": "v",
         "showlegend": true,
         "type": "scatter",
         "x": [
          "2021-06-02T22:21:18.500546",
          "2021-06-02T22:22:39.902119",
          "2021-06-02T22:23:14.625090",
          "2021-06-03T19:01:50.359072"
         ],
         "xaxis": "x",
         "y": [
          1.049375,
          1.573374,
          0.345191,
          1.265854
         ],
         "yaxis": "y"
        },
        {
         "hovertemplate": "color=rich<br>x=%{x}<br>y=%{y}<extra></extra>",
         "legendgroup": "rich",
         "marker": {
          "color": "#ab63fa",
          "symbol": "circle"
         },
         "mode": "markers",
         "name": "rich",
         "orientation": "v",
         "showlegend": true,
         "type": "scatter",
         "x": [
          "2021-06-02T22:21:19.483105",
          "2021-06-02T22:22:41.541762",
          "2021-06-02T22:23:16.527522"
         ],
         "xaxis": "x",
         "y": [
          0.978929,
          1.633247,
          1.89843
         ],
         "yaxis": "y"
        },
        {
         "hovertemplate": "color=this<br>x=%{x}<br>y=%{y}<extra></extra>",
         "legendgroup": "this",
         "marker": {
          "color": "#FFA15A",
          "symbol": "circle"
         },
         "mode": "markers",
         "name": "this",
         "orientation": "v",
         "showlegend": true,
         "type": "scatter",
         "x": [
          "2021-06-02T22:22:46.880901",
          "2021-06-02T22:23:19.117732"
         ],
         "xaxis": "x",
         "y": [
          3.40795,
          1.134652
         ],
         "yaxis": "y"
        },
        {
         "hovertemplate": "color=is<br>x=%{x}<br>y=%{y}<extra></extra>",
         "legendgroup": "is",
         "marker": {
          "color": "#19d3f3",
          "symbol": "circle"
         },
         "mode": "markers",
         "name": "is",
         "orientation": "v",
         "showlegend": true,
         "type": "scatter",
         "x": [
          "2021-06-02T22:22:48.651915",
          "2021-06-08T19:46:18.853401",
          "2021-06-08T19:48:33.425576"
         ],
         "xaxis": "x",
         "y": [
          1.764257,
          14.122191,
          14.270009
         ],
         "yaxis": "y"
        },
        {
         "hovertemplate": "color=the<br>x=%{x}<br>y=%{y}<extra></extra>",
         "legendgroup": "the",
         "marker": {
          "color": "#FF6692",
          "symbol": "circle"
         },
         "mode": "markers",
         "name": "the",
         "orientation": "v",
         "showlegend": true,
         "type": "scatter",
         "x": [
          "2021-06-02T22:22:50.401303",
          "2021-06-02T22:29:00.299114",
          "2021-06-03T19:02:48.747139",
          "2021-06-03T19:05:08.770647",
          "2021-06-08T19:33:06.678457",
          "2021-06-08T19:33:42.981091",
          "2021-06-08T20:07:01.989371",
          "2021-06-08T20:20:18.459216",
          "2021-06-08T20:27:12.480226",
          "2021-06-08T20:32:05.484951",
          "2021-06-08T20:34:57.475064",
          "2021-06-08T20:35:14.677964",
          "2021-06-08T20:35:27.829913",
          "2021-06-08T20:39:10.528001",
          "2021-06-08T20:40:00.514276",
          "2021-06-08T20:40:47.032764",
          "2021-06-08T20:43:57.104161",
          "2021-06-08T20:45:00.082717",
          "2021-06-08T20:49:38.656719",
          "2021-06-08T20:49:46.936647",
          "2021-06-08T20:59:38.282503"
         ],
         "xaxis": "x",
         "y": [
          1.741993,
          17.285668,
          4.779927,
          6.375244,
          5.406186,
          6.28,
          1.018192,
          2.326733,
          1.113222,
          3.959134,
          1.782704,
          1.128708,
          2.440654,
          10.982639,
          22.528306,
          7.886774,
          1.80234,
          6.916602,
          1.975958,
          2.128529,
          3.516795
         ],
         "yaxis": "y"
        },
        {
         "hovertemplate": "color=end<br>x=%{x}<br>y=%{y}<extra></extra>",
         "legendgroup": "end",
         "marker": {
          "color": "#B6E880",
          "symbol": "circle"
         },
         "mode": "markers",
         "name": "end",
         "orientation": "v",
         "showlegend": true,
         "type": "scatter",
         "x": [
          "2021-06-02T22:22:51.351221",
          "2021-06-08T20:49:48.401000"
         ],
         "xaxis": "x",
         "y": [
          0.946086,
          1.460775
         ],
         "yaxis": "y"
        },
        {
         "hovertemplate": "color=fat<br>x=%{x}<br>y=%{y}<extra></extra>",
         "legendgroup": "fat",
         "marker": {
          "color": "#FF97FF",
          "symbol": "circle"
         },
         "mode": "markers",
         "name": "fat",
         "orientation": "v",
         "showlegend": true,
         "type": "scatter",
         "x": [
          "2021-06-03T19:03:04.500323",
          "2021-06-03T19:05:02.391708"
         ],
         "xaxis": "x",
         "y": [
          15.7479,
          2.902863
         ],
         "yaxis": "y"
        },
        {
         "hovertemplate": "color=ēagle<br>x=%{x}<br>y=%{y}<extra></extra>",
         "legendgroup": "ēagle",
         "marker": {
          "color": "#FECB52",
          "symbol": "circle"
         },
         "mode": "markers",
         "name": "ēagle",
         "orientation": "v",
         "showlegend": true,
         "type": "scatter",
         "x": [
          "2021-06-03T19:03:11.425807",
          "2021-06-03T19:04:26.988084"
         ],
         "xaxis": "x",
         "y": [
          6.921717,
          5.380808
         ],
         "yaxis": "y"
        },
        {
         "hovertemplate": "color=there<br>x=%{x}<br>y=%{y}<extra></extra>",
         "legendgroup": "there",
         "marker": {
          "color": "#636efa",
          "symbol": "circle"
         },
         "mode": "markers",
         "name": "there",
         "orientation": "v",
         "showlegend": true,
         "type": "scatter",
         "x": [
          "2021-06-03T19:03:19.741768"
         ],
         "xaxis": "x",
         "y": [
          7.251217
         ],
         "yaxis": "y"
        },
        {
         "hovertemplate": "color=was<br>x=%{x}<br>y=%{y}<extra></extra>",
         "legendgroup": "was",
         "marker": {
          "color": "#EF553B",
          "symbol": "circle"
         },
         "mode": "markers",
         "name": "was",
         "orientation": "v",
         "showlegend": true,
         "type": "scatter",
         "x": [
          "2021-06-03T19:03:27.282106",
          "2021-06-03T19:04:40.531566",
          "2021-06-08T20:07:18.699681",
          "2021-06-08T20:08:43.416562",
          "2021-06-08T20:09:16.814312",
          "2021-06-08T20:16:25.179294",
          "2021-06-08T20:17:02.183939"
         ],
         "xaxis": "x",
         "y": [
          7.536766,
          13.526248,
          15.756184,
          13.39044,
          6.843922,
          7.568624,
          6.863061
         ],
         "yaxis": "y"
        },
        {
         "hovertemplate": "color=an<br>x=%{x}<br>y=%{y}<extra></extra>",
         "legendgroup": "an",
         "marker": {
          "color": "#00cc96",
          "symbol": "circle"
         },
         "mode": "markers",
         "name": "an",
         "orientation": "v",
         "showlegend": true,
         "type": "scatter",
         "x": [
          "2021-06-03T19:03:37.654536"
         ],
         "xaxis": "x",
         "y": [
          10.368872
         ],
         "yaxis": "y"
        },
        {
         "hovertemplate": "color=that<br>x=%{x}<br>y=%{y}<extra></extra>",
         "legendgroup": "that",
         "marker": {
          "color": "#ab63fa",
          "symbol": "circle"
         },
         "mode": "markers",
         "name": "that",
         "orientation": "v",
         "showlegend": true,
         "type": "scatter",
         "x": [
          "2021-06-03T19:03:49.743866",
          "2021-06-08T19:38:36.166231",
          "2021-06-08T19:41:15.831993",
          "2021-06-08T20:13:00.181931",
          "2021-06-08T20:16:13.291602",
          "2021-06-08T20:32:49.141927",
          "2021-06-08T20:44:27.458826",
          "2021-06-08T20:46:40.013148",
          "2021-06-08T20:47:51.716005",
          "2021-06-08T20:48:29.177950"
         ],
         "xaxis": "x",
         "y": [
          12.078532,
          5.856819,
          5.506034,
          14.585173,
          9.222575,
          8.462642,
          9.614794,
          10.836455,
          7.277686,
          8.362378
         ],
         "yaxis": "y"
        },
        {
         "hovertemplate": "color=other<br>x=%{x}<br>y=%{y}<extra></extra>",
         "legendgroup": "other",
         "marker": {
          "color": "#FFA15A",
          "symbol": "circle"
         },
         "mode": "markers",
         "name": "other",
         "orientation": "v",
         "showlegend": true,
         "type": "scatter",
         "x": [
          "2021-06-03T19:03:59.876122",
          "2021-06-03T19:04:00.506524",
          "2021-06-03T19:04:02.257906",
          "2021-06-03T19:04:02.800616",
          "2021-06-03T19:04:05.969204"
         ],
         "xaxis": "x",
         "y": [
          10.128759,
          10.759161,
          12.510544,
          13.053256,
          16.221836
         ],
         "yaxis": "y"
        },
        {
         "hovertemplate": "color=fat,<br>x=%{x}<br>y=%{y}<extra></extra>",
         "legendgroup": "fat,",
         "marker": {
          "color": "#19d3f3",
          "symbol": "circle"
         },
         "mode": "markers",
         "name": "fat,",
         "orientation": "v",
         "showlegend": true,
         "type": "scatter",
         "x": [
          "2021-06-03T19:04:49.967523",
          "2021-06-03T19:04:59.484900"
         ],
         "xaxis": "x",
         "y": [
          9.428687,
          9.513652
         ],
         "yaxis": "y"
        },
        {
         "hovertemplate": "color=ēagles<br>x=%{x}<br>y=%{y}<extra></extra>",
         "legendgroup": "ēagles",
         "marker": {
          "color": "#FF6692",
          "symbol": "circle"
         },
         "mode": "markers",
         "name": "ēagles",
         "orientation": "v",
         "showlegend": true,
         "type": "scatter",
         "x": [
          "2021-06-03T19:08:56.447115"
         ],
         "xaxis": "x",
         "y": [
          21.742523
         ],
         "yaxis": "y"
        },
        {
         "hovertemplate": "color=shē<br>x=%{x}<br>y=%{y}<extra></extra>",
         "legendgroup": "shē",
         "marker": {
          "color": "#B6E880",
          "symbol": "circle"
         },
         "mode": "markers",
         "name": "shē",
         "orientation": "v",
         "showlegend": true,
         "type": "scatter",
         "x": [
          "2021-06-08T19:32:29.393555",
          "2021-06-08T19:38:08.535412",
          "2021-06-08T19:38:45.822296",
          "2021-06-08T19:40:50.783766",
          "2021-06-08T19:41:17.515764",
          "2021-06-08T19:43:42.678759",
          "2021-06-08T19:44:03.508570",
          "2021-06-08T20:09:39.261147",
          "2021-06-08T20:09:39.442125",
          "2021-06-08T20:11:32.632714",
          "2021-06-08T20:12:44.330272",
          "2021-06-08T20:13:22.083033",
          "2021-06-08T20:15:00.547580",
          "2021-06-08T20:40:25.291510"
         ],
         "xaxis": "x",
         "y": [
          26.88819,
          8.056254,
          9.65209,
          10.599753,
          1.680013,
          14.419043,
          2.848927,
          13.21053,
          13.391515,
          1.272189,
          10.540891,
          5.871257,
          16.741974,
          8.214176
         ],
         "yaxis": "y"
        },
        {
         "hovertemplate": "color=a<br>x=%{x}<br>y=%{y}<extra></extra>",
         "legendgroup": "a",
         "marker": {
          "color": "#FF97FF",
          "symbol": "circle"
         },
         "mode": "markers",
         "name": "a",
         "orientation": "v",
         "showlegend": true,
         "type": "scatter",
         "x": [
          "2021-06-08T19:33:22.837748",
          "2021-06-08T19:33:22.884246",
          "2021-06-08T19:33:22.941676",
          "2021-06-08T19:33:22.990137",
          "2021-06-08T19:33:23.317840",
          "2021-06-08T19:34:44.043274",
          "2021-06-08T19:35:45.643957",
          "2021-06-08T19:41:00.141825"
         ],
         "xaxis": "x",
         "y": [
          16.152746,
          16.199242,
          16.256673,
          16.305135,
          16.63284,
          1.891149,
          1.962137,
          0.971011
         ],
         "yaxis": "y"
        },
        {
         "hovertemplate": "color=whïte<br>x=%{x}<br>y=%{y}<extra></extra>",
         "legendgroup": "whïte",
         "marker": {
          "color": "#FECB52",
          "symbol": "circle"
         },
         "mode": "markers",
         "name": "whïte",
         "orientation": "v",
         "showlegend": true,
         "type": "scatter",
         "x": [
          "2021-06-08T19:33:46.036994",
          "2021-06-08T19:38:24.810606",
          "2021-06-08T19:40:09.332345",
          "2021-06-08T19:40:09.446014",
          "2021-06-08T19:41:06.710067",
          "2021-06-08T19:43:24.834368",
          "2021-06-08T19:44:25.068155",
          "2021-06-08T19:57:56.794088",
          "2021-06-08T19:58:40.640626"
         ],
         "xaxis": "x",
         "y": [
          3.049482,
          4.084803,
          10.514471,
          10.628148,
          5.758088,
          8.025879,
          13.820716,
          2.08943,
          1.520843
         ],
         "yaxis": "y"
        },
        {
         "hovertemplate": "color=tooth<br>x=%{x}<br>y=%{y}<extra></extra>",
         "legendgroup": "tooth",
         "marker": {
          "color": "#636efa",
          "symbol": "circle"
         },
         "mode": "markers",
         "name": "tooth",
         "orientation": "v",
         "showlegend": true,
         "type": "scatter",
         "x": [
          "2021-06-08T19:33:54.202082",
          "2021-06-08T19:34:39.339547",
          "2021-06-08T19:38:27.682531",
          "2021-06-08T19:41:08.716551",
          "2021-06-08T19:43:27.941628",
          "2021-06-08T19:58:42.907116",
          "2021-06-08T19:59:57.820526",
          "2021-06-08T20:04:03.501053",
          "2021-06-08T20:04:47.697033",
          "2021-06-08T20:06:06.008482",
          "2021-06-08T20:20:03.593882",
          "2021-06-08T20:26:59.336453"
         ],
         "xaxis": "x",
         "y": [
          8.158395,
          9.889698,
          2.868356,
          2.003076,
          3.101516,
          2.260482,
          2.569197,
          9.6103,
          11.607365,
          10.854203,
          7.209813,
          9.921151
         ],
         "yaxis": "y"
        },
        {
         "hovertemplate": "color=to<br>x=%{x}<br>y=%{y}<extra></extra>",
         "legendgroup": "to",
         "marker": {
          "color": "#EF553B",
          "symbol": "circle"
         },
         "mode": "markers",
         "name": "to",
         "orientation": "v",
         "showlegend": true,
         "type": "scatter",
         "x": [
          "2021-06-08T19:34:07.179263",
          "2021-06-08T19:35:59.278583",
          "2021-06-08T19:44:06.557760",
          "2021-06-08T19:45:44.335892",
          "2021-06-08T20:10:31.144751"
         ],
         "xaxis": "x",
         "y": [
          12.973389,
          4.93922,
          1.83368,
          6.007846,
          2.270269
         ],
         "yaxis": "y"
        },
        {
         "hovertemplate": "color=brush<br>x=%{x}<br>y=%{y}<extra></extra>",
         "legendgroup": "brush",
         "marker": {
          "color": "#00cc96",
          "symbol": "circle"
         },
         "mode": "markers",
         "name": "brush",
         "orientation": "v",
         "showlegend": true,
         "type": "scatter",
         "x": [
          "2021-06-08T19:34:40.872673",
          "2021-06-08T19:36:08.623706",
          "2021-06-08T19:38:30.303803",
          "2021-06-08T19:41:10.318318",
          "2021-06-08T19:42:44.899562",
          "2021-06-08T19:42:45.110175",
          "2021-06-08T19:43:28.256245",
          "2021-06-08T20:19:03.533636",
          "2021-06-08T20:19:03.655469",
          "2021-06-08T20:20:14.562212",
          "2021-06-08T20:20:54.219148",
          "2021-06-08T20:22:09.669870",
          "2021-06-08T20:27:09.801570",
          "2021-06-08T20:31:59.854821"
         ],
         "xaxis": "x",
         "y": [
          1.522242,
          9.339725,
          2.617858,
          1.597977,
          14.227567,
          14.438183,
          0.310914,
          10.65827,
          10.7801,
          10.964765,
          10.16674,
          12.815213,
          10.461636,
          14.287574
         ],
         "yaxis": "y"
        },
        {
         "hovertemplate": "color=girl<br>x=%{x}<br>y=%{y}<extra></extra>",
         "legendgroup": "girl",
         "marker": {
          "color": "#ab63fa",
          "symbol": "circle"
         },
         "mode": "markers",
         "name": "girl",
         "orientation": "v",
         "showlegend": true,
         "type": "scatter",
         "x": [
          "2021-06-08T19:34:45.004314",
          "2021-06-08T19:35:46.258078",
          "2021-06-08T20:07:02.939811",
          "2021-06-08T20:20:19.506300",
          "2021-06-08T20:35:15.617268",
          "2021-06-08T20:43:58.306184"
         ],
         "xaxis": "x",
         "y": [
          0.957571,
          0.608731,
          0.946787,
          1.043738,
          0.934039,
          1.198534
         ],
         "yaxis": "y"
        },
        {
         "hovertemplate": "color=teeth<br>x=%{x}<br>y=%{y}<extra></extra>",
         "legendgroup": "teeth",
         "marker": {
          "color": "#FFA15A",
          "symbol": "circle"
         },
         "mode": "markers",
         "name": "teeth",
         "orientation": "v",
         "showlegend": true,
         "type": "scatter",
         "x": [
          "2021-06-08T19:35:00.917163"
         ],
         "xaxis": "x",
         "y": [
          15.907867
         ],
         "yaxis": "y"
        },
        {
         "hovertemplate": "color=lïked<br>x=%{x}<br>y=%{y}<extra></extra>",
         "legendgroup": "lïked",
         "marker": {
          "color": "#19d3f3",
          "symbol": "circle"
         },
         "mode": "markers",
         "name": "lïked",
         "orientation": "v",
         "showlegend": true,
         "type": "scatter",
         "x": [
          "2021-06-08T19:35:54.333159",
          "2021-06-08T19:41:29.494881",
          "2021-06-08T19:42:11.209819"
         ],
         "xaxis": "x",
         "y": [
          8.071555,
          11.975531,
          11.261506
         ],
         "yaxis": "y"
        },
        {
         "hovertemplate": "color=her<br>x=%{x}<br>y=%{y}<extra></extra>",
         "legendgroup": "her",
         "marker": {
          "color": "#FF6692",
          "symbol": "circle"
         },
         "mode": "markers",
         "name": "her",
         "orientation": "v",
         "showlegend": true,
         "type": "scatter",
         "x": [
          "2021-06-08T19:36:18.987884",
          "2021-06-08T19:37:52.356940",
          "2021-06-08T19:39:58.812037",
          "2021-06-08T19:40:33.355175",
          "2021-06-08T19:41:41.650618",
          "2021-06-08T19:41:41.705660",
          "2021-06-08T19:41:41.815299",
          "2021-06-08T19:43:16.804463",
          "2021-06-08T19:44:11.243804",
          "2021-06-08T19:45:45.785703",
          "2021-06-08T20:04:52.744787",
          "2021-06-08T20:06:10.368129",
          "2021-06-08T20:10:41.044120",
          "2021-06-08T20:15:24.272325"
         ],
         "xaxis": "x",
         "y": [
          10.360343,
          12.815539,
          14.862661,
          5.533823,
          12.151169,
          12.206182,
          12.315848,
          1.488446,
          4.68206,
          1.40478,
          3.445406,
          2.056202,
          9.895778,
          7.465019
         ],
         "yaxis": "y"
        },
        {
         "hovertemplate": "color=tēēth<br>x=%{x}<br>y=%{y}<extra></extra>",
         "legendgroup": "tēēth",
         "marker": {
          "color": "#B6E880",
          "symbol": "circle"
         },
         "mode": "markers",
         "name": "tēēth",
         "orientation": "v",
         "showlegend": true,
         "type": "scatter",
         "x": [
          "2021-06-08T19:38:00.475491",
          "2021-06-08T19:40:40.180332",
          "2021-06-08T20:18:52.870495",
          "2021-06-08T20:19:37.780144",
          "2021-06-08T20:27:49.449616",
          "2021-06-08T20:32:40.674624",
          "2021-06-08T20:44:17.110473",
          "2021-06-08T20:46:29.171300"
         ],
         "xaxis": "x",
         "y": [
          8.112813,
          6.818004,
          8.630891,
          13.839744,
          6.678131,
          12.034625,
          4.192826,
          8.550658
         ],
         "yaxis": "y"
        },
        {
         "hovertemplate": "color=had<br>x=%{x}<br>y=%{y}<extra></extra>",
         "legendgroup": "had",
         "marker": {
          "color": "#FF97FF",
          "symbol": "circle"
         },
         "mode": "markers",
         "name": "had",
         "orientation": "v",
         "showlegend": true,
         "type": "scatter",
         "x": [
          "2021-06-08T19:38:17.738833",
          "2021-06-08T19:40:59.167390"
         ],
         "xaxis": "x",
         "y": [
          9.19975,
          8.380007
         ],
         "yaxis": "y"
        },
        {
         "hovertemplate": "color=but<br>x=%{x}<br>y=%{y}<extra></extra>",
         "legendgroup": "but",
         "marker": {
          "color": "#FECB52",
          "symbol": "circle"
         },
         "mode": "markers",
         "name": "but",
         "orientation": "v",
         "showlegend": true,
         "type": "scatter",
         "x": [
          "2021-06-08T19:42:24.080930"
         ],
         "xaxis": "x",
         "y": [
          12.86517
         ],
         "yaxis": "y"
        },
        {
         "hovertemplate": "color=did<br>x=%{x}<br>y=%{y}<extra></extra>",
         "legendgroup": "did",
         "marker": {
          "color": "#636efa",
          "symbol": "circle"
         },
         "mode": "markers",
         "name": "did",
         "orientation": "v",
         "showlegend": true,
         "type": "scatter",
         "x": [
          "2021-06-08T19:42:27.532351",
          "2021-06-08T19:43:10.369318"
         ],
         "xaxis": "x",
         "y": [
          3.44338,
          10.274363
         ],
         "yaxis": "y"
        },
        {
         "hovertemplate": "color=not<br>x=%{x}<br>y=%{y}<extra></extra>",
         "legendgroup": "not",
         "marker": {
          "color": "#EF553B",
          "symbol": "circle"
         },
         "mode": "markers",
         "name": "not",
         "orientation": "v",
         "showlegend": true,
         "type": "scatter",
         "x": [
          "2021-06-08T19:42:29.463074",
          "2021-06-08T19:43:12.173519",
          "2021-06-08T20:06:41.743570"
         ],
         "xaxis": "x",
         "y": [
          1.925956,
          1.797183,
          6.576031
         ],
         "yaxis": "y"
        },
        {
         "hovertemplate": "color=sēē<br>x=%{x}<br>y=%{y}<extra></extra>",
         "legendgroup": "sēē",
         "marker": {
          "color": "#00cc96",
          "symbol": "circle"
         },
         "mode": "markers",
         "name": "sēē",
         "orientation": "v",
         "showlegend": true,
         "type": "scatter",
         "x": [
          "2021-06-08T19:43:15.312644"
         ],
         "xaxis": "x",
         "y": [
          1.414306
         ],
         "yaxis": "y"
        },
        {
         "hovertemplate": "color=looked<br>x=%{x}<br>y=%{y}<extra></extra>",
         "legendgroup": "looked",
         "marker": {
          "color": "#ab63fa",
          "symbol": "circle"
         },
         "mode": "markers",
         "name": "looked",
         "orientation": "v",
         "showlegend": true,
         "type": "scatter",
         "x": [
          "2021-06-08T19:43:43.293921",
          "2021-06-08T20:35:23.145845"
         ],
         "xaxis": "x",
         "y": [
          0.6117,
          7.524985
         ],
         "yaxis": "y"
        },
        {
         "hovertemplate": "color=for<br>x=%{x}<br>y=%{y}<extra></extra>",
         "legendgroup": "for",
         "marker": {
          "color": "#FFA15A",
          "symbol": "circle"
         },
         "mode": "markers",
         "name": "for",
         "orientation": "v",
         "showlegend": true,
         "type": "scatter",
         "x": [
          "2021-06-08T19:43:51.951383"
         ],
         "xaxis": "x",
         "y": [
          8.652834
         ],
         "yaxis": "y"
        },
        {
         "hovertemplate": "color=it<br>x=%{x}<br>y=%{y}<extra></extra>",
         "legendgroup": "it",
         "marker": {
          "color": "#19d3f3",
          "symbol": "circle"
         },
         "mode": "markers",
         "name": "it",
         "orientation": "v",
         "showlegend": true,
         "type": "scatter",
         "x": [
          "2021-06-08T19:44:00.655962",
          "2021-06-08T20:06:59.354167"
         ],
         "xaxis": "x",
         "y": [
          8.701082,
          6.839502
         ],
         "yaxis": "y"
        },
        {
         "hovertemplate": "color=said<br>x=%{x}<br>y=%{y}<extra></extra>",
         "legendgroup": "said",
         "marker": {
          "color": "#FF6692",
          "symbol": "circle"
         },
         "mode": "markers",
         "name": "said",
         "orientation": "v",
         "showlegend": true,
         "type": "scatter",
         "x": [
          "2021-06-08T19:44:04.719516"
         ],
         "xaxis": "x",
         "y": [
          0.44224
         ],
         "yaxis": "y"
        },
        {
         "hovertemplate": "color=mother,<br>x=%{x}<br>y=%{y}<extra></extra>",
         "legendgroup": "mother,",
         "marker": {
          "color": "#B6E880",
          "symbol": "circle"
         },
         "mode": "markers",
         "name": "mother,",
         "orientation": "v",
         "showlegend": true,
         "type": "scatter",
         "x": [
          "2021-06-08T19:45:55.111160"
         ],
         "xaxis": "x",
         "y": [
          9.313858
         ],
         "yaxis": "y"
        },
        {
         "hovertemplate": "color=where<br>x=%{x}<br>y=%{y}<extra></extra>",
         "legendgroup": "where",
         "marker": {
          "color": "#FF97FF",
          "symbol": "circle"
         },
         "mode": "markers",
         "name": "where",
         "orientation": "v",
         "showlegend": true,
         "type": "scatter",
         "x": [
          "2021-06-08T19:46:04.727118"
         ],
         "xaxis": "x",
         "y": [
          9.610848
         ],
         "yaxis": "y"
        },
        {
         "hovertemplate": "color=brush?<br>x=%{x}<br>y=%{y}<extra></extra>",
         "legendgroup": "brush?",
         "marker": {
          "color": "#FECB52",
          "symbol": "circle"
         },
         "mode": "markers",
         "name": "brush?",
         "orientation": "v",
         "showlegend": true,
         "type": "scatter",
         "x": [
          "2021-06-08T19:47:11.396911",
          "2021-06-08T20:02:40.110910",
          "2021-06-08T20:02:40.614505",
          "2021-06-08T20:03:13.687575",
          "2021-06-08T20:03:22.670247",
          "2021-06-08T20:03:23.293993",
          "2021-06-08T20:03:23.829683",
          "2021-06-08T20:03:24.333917",
          "2021-06-08T20:04:48.215205",
          "2021-06-08T20:06:07.257536"
         ],
         "xaxis": "x",
         "y": [
          23.046087,
          0.166858,
          0.670453,
          18.613981,
          27.596666,
          28.22041,
          28.756102,
          29.260335,
          0.510188,
          1.237444
         ],
         "yaxis": "y"
        },
        {
         "hovertemplate": "color=mÿ<br>x=%{x}<br>y=%{y}<extra></extra>",
         "legendgroup": "mÿ",
         "marker": {
          "color": "#636efa",
          "symbol": "circle"
         },
         "mode": "markers",
         "name": "mÿ",
         "orientation": "v",
         "showlegend": true,
         "type": "scatter",
         "x": [
          "2021-06-08T19:48:41.686785",
          "2021-06-08T19:49:33.210308"
         ],
         "xaxis": "x",
         "y": [
          8.241948,
          21.161438
         ],
         "yaxis": "y"
        },
        {
         "hovertemplate": "color=my<br>x=%{x}<br>y=%{y}<extra></extra>",
         "legendgroup": "my",
         "marker": {
          "color": "#EF553B",
          "symbol": "circle"
         },
         "mode": "markers",
         "name": "my",
         "orientation": "v",
         "showlegend": true,
         "type": "scatter",
         "x": [
          "2021-06-08T19:54:46.675608",
          "2021-06-08T19:56:37.436044",
          "2021-06-08T19:57:54.689653",
          "2021-06-08T19:58:39.111535",
          "2021-06-08T19:59:50.467583",
          "2021-06-08T20:02:39.924800",
          "2021-06-08T20:03:46.864353",
          "2021-06-08T20:25:27.027523",
          "2021-06-08T20:26:39.806307",
          "2021-06-08T20:30:09.580741"
         ],
         "xaxis": "x",
         "y": [
          3.421674,
          4.299,
          2.876123,
          2.931855,
          2.794157,
          134.060849,
          10.151523,
          10.435042,
          5.330293,
          7.287546
         ],
         "yaxis": "y"
        },
        {
         "hovertemplate": "color=white<br>x=%{x}<br>y=%{y}<extra></extra>",
         "legendgroup": "white",
         "marker": {
          "color": "#00cc96",
          "symbol": "circle"
         },
         "mode": "markers",
         "name": "white",
         "orientation": "v",
         "showlegend": true,
         "type": "scatter",
         "x": [
          "2021-06-08T19:59:55.246685",
          "2021-06-08T20:03:53.884879",
          "2021-06-08T20:17:31.420003",
          "2021-06-08T20:19:56.380559",
          "2021-06-08T20:26:49.411696",
          "2021-06-08T20:30:17.999449",
          "2021-06-08T20:31:45.548907",
          "2021-06-08T20:44:50.902459",
          "2021-06-08T20:59:40.369240"
         ],
         "xaxis": "x",
         "y": [
          4.769695,
          7.0125,
          13.281299,
          12.969813,
          9.601811,
          8.414693,
          6.455431,
          0.66259,
          2.065972
         ],
         "yaxis": "y"
        },
        {
         "hovertemplate": "color=mother<br>x=%{x}<br>y=%{y}<extra></extra>",
         "legendgroup": "mother",
         "marker": {
          "color": "#ab63fa",
          "symbol": "circle"
         },
         "mode": "markers",
         "name": "mother",
         "orientation": "v",
         "showlegend": true,
         "type": "scatter",
         "x": [
          "2021-06-08T20:04:15.299686",
          "2021-06-08T20:05:42.559593",
          "2021-06-08T20:06:25.140369"
         ],
         "xaxis": "x",
         "y": [
          11.791754,
          20.10337,
          14.76854
         ],
         "yaxis": "y"
        },
        {
         "hovertemplate": "color=have<br>x=%{x}<br>y=%{y}<extra></extra>",
         "legendgroup": "have",
         "marker": {
          "color": "#FFA15A",
          "symbol": "circle"
         },
         "mode": "markers",
         "name": "have",
         "orientation": "v",
         "showlegend": true,
         "type": "scatter",
         "x": [
          "2021-06-08T20:05:08.553531",
          "2021-06-08T20:06:52.509885",
          "2021-06-08T20:20:44.048918",
          "2021-06-08T20:21:56.835583",
          "2021-06-08T20:25:16.583704",
          "2021-06-08T20:26:34.470604",
          "2021-06-08T20:30:02.276107",
          "2021-06-08T20:44:12.914033",
          "2021-06-08T20:46:20.614943"
         ],
         "xaxis": "x",
         "y": [
          15.802338,
          10.760818,
          9.081066,
          10.636694,
          15.874297,
          12.952998,
          29.118902,
          10.330605,
          3.627539
         ],
         "yaxis": "y"
        },
        {
         "hovertemplate": "color=said,<br>x=%{x}<br>y=%{y}<extra></extra>",
         "legendgroup": "said,",
         "marker": {
          "color": "#19d3f3",
          "symbol": "circle"
         },
         "mode": "markers",
         "name": "said,",
         "orientation": "v",
         "showlegend": true,
         "type": "scatter",
         "x": [
          "2021-06-08T20:06:29.902365",
          "2021-06-08T20:20:21.478295",
          "2021-06-08T20:27:28.286465",
          "2021-06-08T20:30:33.146562",
          "2021-06-08T20:32:18.491302",
          "2021-06-08T20:41:07.918163",
          "2021-06-08T20:42:02.726147",
          "2021-06-08T20:43:20.407324",
          "2021-06-08T20:43:59.009494",
          "2021-06-08T20:45:15.887445"
         ],
         "xaxis": "x",
         "y": [
          4.755855,
          1.968616,
          3.149449,
          15.133673,
          2.565203,
          8.789719,
          8.401548,
          18.010179,
          0.699727,
          3.127481
         ],
         "yaxis": "y"
        },
        {
         "hovertemplate": "color=do<br>x=%{x}<br>y=%{y}<extra></extra>",
         "legendgroup": "do",
         "marker": {
          "color": "#FF6692",
          "symbol": "circle"
         },
         "mode": "markers",
         "name": "do",
         "orientation": "v",
         "showlegend": true,
         "type": "scatter",
         "x": [
          "2021-06-08T20:06:35.160933"
         ],
         "xaxis": "x",
         "y": [
          3.422935
         ],
         "yaxis": "y"
        },
        {
         "hovertemplate": "color=room<br>x=%{x}<br>y=%{y}<extra></extra>",
         "legendgroup": "room",
         "marker": {
          "color": "#B6E880",
          "symbol": "circle"
         },
         "mode": "markers",
         "name": "room",
         "orientation": "v",
         "showlegend": true,
         "type": "scatter",
         "x": [
          "2021-06-08T20:07:28.220659",
          "2021-06-08T20:07:28.428864",
          "2021-06-08T20:07:28.509518",
          "2021-06-08T20:08:56.027577",
          "2021-06-08T20:08:56.369446",
          "2021-06-08T20:10:49.236008"
         ],
         "xaxis": "x",
         "y": [
          9.516925,
          9.725137,
          9.805789,
          12.589284,
          12.931153,
          8.187408
         ],
         "yaxis": "y"
        },
        {
         "hovertemplate": "color=walking<br>x=%{x}<br>y=%{y}<extra></extra>",
         "legendgroup": "walking",
         "marker": {
          "color": "#FF97FF",
          "symbol": "circle"
         },
         "mode": "markers",
         "name": "walking",
         "orientation": "v",
         "showlegend": true,
         "type": "scatter",
         "x": [
          "2021-06-08T20:09:26.046889",
          "2021-06-08T20:10:19.283125"
         ],
         "xaxis": "x",
         "y": [
          9.224463,
          19.976101
         ],
         "yaxis": "y"
        },
        {
         "hovertemplate": "color=back<br>x=%{x}<br>y=%{y}<extra></extra>",
         "legendgroup": "back",
         "marker": {
          "color": "#FECB52",
          "symbol": "circle"
         },
         "mode": "markers",
         "name": "back",
         "orientation": "v",
         "showlegend": true,
         "type": "scatter",
         "x": [
          "2021-06-08T20:10:28.870762"
         ],
         "xaxis": "x",
         "y": [
          9.57583
         ],
         "yaxis": "y"
        },
        {
         "hovertemplate": "color=when<br>x=%{x}<br>y=%{y}<extra></extra>",
         "legendgroup": "when",
         "marker": {
          "color": "#636efa",
          "symbol": "circle"
         },
         "mode": "markers",
         "name": "when",
         "orientation": "v",
         "showlegend": true,
         "type": "scatter",
         "x": [
          "2021-06-08T20:10:58.325149",
          "2021-06-08T20:11:31.354959",
          "2021-06-08T20:35:13.545760"
         ],
         "xaxis": "x",
         "y": [
          9.085329,
          13.820283,
          2.98393
         ],
         "yaxis": "y"
        },
        {
         "hovertemplate": "color=fell<br>x=%{x}<br>y=%{y}<extra></extra>",
         "legendgroup": "fell",
         "marker": {
          "color": "#EF553B",
          "symbol": "circle"
         },
         "mode": "markers",
         "name": "fell",
         "orientation": "v",
         "showlegend": true,
         "type": "scatter",
         "x": [
          "2021-06-08T20:11:48.528101",
          "2021-06-08T20:12:33.774196",
          "2021-06-08T20:13:43.005673",
          "2021-06-08T20:15:12.023384"
         ],
         "xaxis": "x",
         "y": [
          15.887075,
          19.059503,
          18.987734,
          10.351937
         ],
         "yaxis": "y"
        },
        {
         "hovertemplate": "color=over<br>x=%{x}<br>y=%{y}<extra></extra>",
         "legendgroup": "over",
         "marker": {
          "color": "#00cc96",
          "symbol": "circle"
         },
         "mode": "markers",
         "name": "over",
         "orientation": "v",
         "showlegend": true,
         "type": "scatter",
         "x": [
          "2021-06-08T20:11:58.439361",
          "2021-06-08T20:11:58.488719",
          "2021-06-08T20:11:58.763096"
         ],
         "xaxis": "x",
         "y": [
          9.907506,
          9.956868,
          10.231236
         ],
         "yaxis": "y"
        },
        {
         "hovertemplate": "color=dog<br>x=%{x}<br>y=%{y}<extra></extra>",
         "legendgroup": "dog",
         "marker": {
          "color": "#ab63fa",
          "symbol": "circle"
         },
         "mode": "markers",
         "name": "dog",
         "orientation": "v",
         "showlegend": true,
         "type": "scatter",
         "x": [
          "2021-06-08T20:13:55.024156",
          "2021-06-08T20:13:55.486922",
          "2021-06-08T20:15:30.058362",
          "2021-06-08T20:16:04.061671",
          "2021-06-08T20:16:17.603887",
          "2021-06-08T20:27:25.133478",
          "2021-06-08T20:32:15.922340",
          "2021-06-08T20:38:10.556364",
          "2021-06-08T20:40:59.124573",
          "2021-06-08T20:41:54.308320",
          "2021-06-08T20:43:40.316287",
          "2021-06-08T20:45:12.756446"
         ],
         "xaxis": "x",
         "y": [
          12.012002,
          12.474768,
          5.782574,
          4.203313,
          4.308728,
          12.649577,
          10.433848,
          14.896386,
          12.085725,
          17.427962,
          7.004518,
          12.668509
         ],
         "yaxis": "y"
        },
        {
         "hovertemplate": "color=ōver<br>x=%{x}<br>y=%{y}<extra></extra>",
         "legendgroup": "ōver",
         "marker": {
          "color": "#FFA15A",
          "symbol": "circle"
         },
         "mode": "markers",
         "name": "ōver",
         "orientation": "v",
         "showlegend": true,
         "type": "scatter",
         "x": [
          "2021-06-08T20:15:16.803766"
         ],
         "xaxis": "x",
         "y": [
          4.775277
         ],
         "yaxis": "y"
        },
        {
         "hovertemplate": "color=brushing<br>x=%{x}<br>y=%{y}<extra></extra>",
         "legendgroup": "brushing",
         "marker": {
          "color": "#19d3f3",
          "symbol": "circle"
         },
         "mode": "markers",
         "name": "brushing",
         "orientation": "v",
         "showlegend": true,
         "type": "scatter",
         "x": [
          "2021-06-08T20:15:41.910982",
          "2021-06-08T20:15:42.009821",
          "2021-06-08T20:15:42.272209",
          "2021-06-08T20:15:42.615668",
          "2021-06-08T20:15:43.398644",
          "2021-06-08T20:15:44.102864",
          "2021-06-08T20:17:18.134976",
          "2021-06-08T20:18:32.879998"
         ],
         "xaxis": "x",
         "y": [
          11.848666,
          11.947508,
          12.209892,
          12.553356,
          13.336331,
          14.040552,
          15.054472,
          9.99165
         ],
         "yaxis": "y"
        },
        {
         "hovertemplate": "color=with<br>x=%{x}<br>y=%{y}<extra></extra>",
         "legendgroup": "with",
         "marker": {
          "color": "#FF6692",
          "symbol": "circle"
         },
         "mode": "markers",
         "name": "with",
         "orientation": "v",
         "showlegend": true,
         "type": "scatter",
         "x": [
          "2021-06-08T20:16:39.148143",
          "2021-06-08T20:19:43.402717"
         ],
         "xaxis": "x",
         "y": [
          13.307209,
          5.603449
         ],
         "yaxis": "y"
        },
        {
         "hovertemplate": "color=his<br>x=%{x}<br>y=%{y}<extra></extra>",
         "legendgroup": "his",
         "marker": {
          "color": "#B6E880",
          "symbol": "circle"
         },
         "mode": "markers",
         "name": "his",
         "orientation": "v",
         "showlegend": true,
         "type": "scatter",
         "x": [
          "2021-06-08T20:18:44.235767"
         ],
         "xaxis": "x",
         "y": [
          11.347292
         ],
         "yaxis": "y"
        },
        {
         "hovertemplate": "color=you<br>x=%{x}<br>y=%{y}<extra></extra>",
         "legendgroup": "you",
         "marker": {
          "color": "#FF97FF",
          "symbol": "circle"
         },
         "mode": "markers",
         "name": "you",
         "orientation": "v",
         "showlegend": true,
         "type": "scatter",
         "x": [
          "2021-06-08T20:20:34.964147"
         ],
         "xaxis": "x",
         "y": [
          13.482426
         ],
         "yaxis": "y"
        },
        {
         "hovertemplate": "color=like<br>x=%{x}<br>y=%{y}<extra></extra>",
         "legendgroup": "like",
         "marker": {
          "color": "#FECB52",
          "symbol": "circle"
         },
         "mode": "markers",
         "name": "like",
         "orientation": "v",
         "showlegend": true,
         "type": "scatter",
         "x": [
          "2021-06-08T20:27:42.767941",
          "2021-06-08T20:32:28.636035",
          "2021-06-08T20:34:55.688266",
          "2021-06-08T20:49:36.677275"
         ],
         "xaxis": "x",
         "y": [
          12.511523,
          7.762733,
          7.024054,
          8.837342
         ],
         "yaxis": "y"
        },
        {
         "hovertemplate": "color=moon<br>x=%{x}<br>y=%{y}<extra></extra>",
         "legendgroup": "moon",
         "marker": {
          "color": "#636efa",
          "symbol": "circle"
         },
         "mode": "markers",
         "name": "moon",
         "orientation": "v",
         "showlegend": true,
         "type": "scatter",
         "x": [
          "2021-06-08T20:28:05.179416",
          "2021-06-08T20:33:53.860900",
          "2021-06-08T20:34:25.794536",
          "2021-06-08T20:35:09.845112",
          "2021-06-08T20:46:49.399597",
          "2021-06-08T20:48:05.402137",
          "2021-06-08T20:48:08.644407",
          "2021-06-08T20:48:09.203803",
          "2021-06-08T20:49:40.389715"
         ],
         "xaxis": "x",
         "y": [
          15.718452,
          18.360891,
          18.88706,
          10.875693,
          9.382986,
          13.677634,
          16.919909,
          17.479304,
          0.713273
         ],
         "yaxis": "y"
        },
        {
         "hovertemplate": "color=shine<br>x=%{x}<br>y=%{y}<extra></extra>",
         "legendgroup": "shine",
         "marker": {
          "color": "#EF553B",
          "symbol": "circle"
         },
         "mode": "markers",
         "name": "shine",
         "orientation": "v",
         "showlegend": true,
         "type": "scatter",
         "x": [
          "2021-06-08T20:32:57.384602",
          "2021-06-08T20:34:48.650578",
          "2021-06-08T20:45:28.216643",
          "2021-06-08T20:48:39.943351",
          "2021-06-08T20:49:27.822197"
         ],
         "xaxis": "x",
         "y": [
          8.238639,
          6.512644,
          12.32556,
          10.756335,
          14.463312
         ],
         "yaxis": "y"
        },
        {
         "hovertemplate": "color=at<br>x=%{x}<br>y=%{y}<extra></extra>",
         "legendgroup": "at",
         "marker": {
          "color": "#00cc96",
          "symbol": "circle"
         },
         "mode": "markers",
         "name": "at",
         "orientation": "v",
         "showlegend": true,
         "type": "scatter",
         "x": [
          "2021-06-08T20:35:25.385723"
         ],
         "xaxis": "x",
         "y": [
          2.236318
         ],
         "yaxis": "y"
        },
        {
         "hovertemplate": "color=dog's<br>x=%{x}<br>y=%{y}<extra></extra>",
         "legendgroup": "dog's",
         "marker": {
          "color": "#ab63fa",
          "symbol": "circle"
         },
         "mode": "markers",
         "name": "dog's",
         "orientation": "v",
         "showlegend": true,
         "type": "scatter",
         "x": [
          "2021-06-08T20:35:39.025326",
          "2021-06-08T20:36:30.108955"
         ],
         "xaxis": "x",
         "y": [
          11.190453,
          13.883271
         ],
         "yaxis": "y"
        },
        {
         "hovertemplate": "color=then<br>x=%{x}<br>y=%{y}<extra></extra>",
         "legendgroup": "then",
         "marker": {
          "color": "#FFA15A",
          "symbol": "circle"
         },
         "mode": "markers",
         "name": "then",
         "orientation": "v",
         "showlegend": true,
         "type": "scatter",
         "x": [
          "2021-06-08T20:35:50.732746",
          "2021-06-08T20:35:50.784912",
          "2021-06-08T20:35:51.139381",
          "2021-06-08T20:36:42.258196",
          "2021-06-08T20:37:30.749343",
          "2021-06-08T20:40:39.139337"
         ],
         "xaxis": "x",
         "y": [
          11.703722,
          11.755887,
          12.110359,
          12.143992,
          33.466819,
          0.430153
         ],
         "yaxis": "y"
        },
        {
         "hovertemplate": "color=tēēth,<br>x=%{x}<br>y=%{y}<extra></extra>",
         "legendgroup": "tēēth,",
         "marker": {
          "color": "#19d3f3",
          "symbol": "circle"
         },
         "mode": "markers",
         "name": "tēēth,",
         "orientation": "v",
         "showlegend": true,
         "type": "scatter",
         "x": [
          "2021-06-08T20:37:55.643915",
          "2021-06-08T20:38:59.536665"
         ],
         "xaxis": "x",
         "y": [
          10.919611,
          20.415361
         ],
         "yaxis": "y"
        },
        {
         "hovertemplate": "color=smiled<br>x=%{x}<br>y=%{y}<extra></extra>",
         "legendgroup": "smiled",
         "marker": {
          "color": "#FF6692",
          "symbol": "circle"
         },
         "mode": "markers",
         "name": "smiled",
         "orientation": "v",
         "showlegend": true,
         "type": "scatter",
         "x": [
          "2021-06-08T20:40:36.980471",
          "2021-06-08T20:43:55.298069"
         ],
         "xaxis": "x",
         "y": [
          11.679445,
          14.971022
         ],
         "yaxis": "y"
        },
        {
         "hovertemplate": "color=wē<br>x=%{x}<br>y=%{y}<extra></extra>",
         "legendgroup": "wē",
         "marker": {
          "color": "#B6E880",
          "symbol": "circle"
         },
         "mode": "markers",
         "name": "wē",
         "orientation": "v",
         "showlegend": true,
         "type": "scatter",
         "x": [
          "2021-06-08T20:44:02.578458",
          "2021-06-08T20:46:16.965774"
         ],
         "xaxis": "x",
         "y": [
          3.565558,
          20.032583
         ],
         "yaxis": "y"
        },
        {
         "hovertemplate": "color=are<br>x=%{x}<br>y=%{y}<extra></extra>",
         "legendgroup": "are",
         "marker": {
          "color": "#FF97FF",
          "symbol": "circle"
         },
         "mode": "markers",
         "name": "are",
         "orientation": "v",
         "showlegend": true,
         "type": "scatter",
         "x": [
          "2021-06-08T20:44:34.199568"
         ],
         "xaxis": "x",
         "y": [
          6.735155
         ],
         "yaxis": "y"
        },
        {
         "hovertemplate": "color=white,<br>x=%{x}<br>y=%{y}<extra></extra>",
         "legendgroup": "white,",
         "marker": {
          "color": "#FECB52",
          "symbol": "circle"
         },
         "mode": "markers",
         "name": "white,",
         "orientation": "v",
         "showlegend": true,
         "type": "scatter",
         "x": [
          "2021-06-08T20:44:43.791679",
          "2021-06-08T20:44:50.232091"
         ],
         "xaxis": "x",
         "y": [
          9.588233,
          6.436517
         ],
         "yaxis": "y"
        }
       ],
       "layout": {
        "legend": {
         "title": {
          "text": "color"
         },
         "tracegroupgap": 0
        },
        "margin": {
         "t": 60
        },
        "template": {
         "data": {
          "bar": [
           {
            "error_x": {
             "color": "#2a3f5f"
            },
            "error_y": {
             "color": "#2a3f5f"
            },
            "marker": {
             "line": {
              "color": "#E5ECF6",
              "width": 0.5
             }
            },
            "type": "bar"
           }
          ],
          "barpolar": [
           {
            "marker": {
             "line": {
              "color": "#E5ECF6",
              "width": 0.5
             }
            },
            "type": "barpolar"
           }
          ],
          "carpet": [
           {
            "aaxis": {
             "endlinecolor": "#2a3f5f",
             "gridcolor": "white",
             "linecolor": "white",
             "minorgridcolor": "white",
             "startlinecolor": "#2a3f5f"
            },
            "baxis": {
             "endlinecolor": "#2a3f5f",
             "gridcolor": "white",
             "linecolor": "white",
             "minorgridcolor": "white",
             "startlinecolor": "#2a3f5f"
            },
            "type": "carpet"
           }
          ],
          "choropleth": [
           {
            "colorbar": {
             "outlinewidth": 0,
             "ticks": ""
            },
            "type": "choropleth"
           }
          ],
          "contour": [
           {
            "colorbar": {
             "outlinewidth": 0,
             "ticks": ""
            },
            "colorscale": [
             [
              0,
              "#0d0887"
             ],
             [
              0.1111111111111111,
              "#46039f"
             ],
             [
              0.2222222222222222,
              "#7201a8"
             ],
             [
              0.3333333333333333,
              "#9c179e"
             ],
             [
              0.4444444444444444,
              "#bd3786"
             ],
             [
              0.5555555555555556,
              "#d8576b"
             ],
             [
              0.6666666666666666,
              "#ed7953"
             ],
             [
              0.7777777777777778,
              "#fb9f3a"
             ],
             [
              0.8888888888888888,
              "#fdca26"
             ],
             [
              1,
              "#f0f921"
             ]
            ],
            "type": "contour"
           }
          ],
          "contourcarpet": [
           {
            "colorbar": {
             "outlinewidth": 0,
             "ticks": ""
            },
            "type": "contourcarpet"
           }
          ],
          "heatmap": [
           {
            "colorbar": {
             "outlinewidth": 0,
             "ticks": ""
            },
            "colorscale": [
             [
              0,
              "#0d0887"
             ],
             [
              0.1111111111111111,
              "#46039f"
             ],
             [
              0.2222222222222222,
              "#7201a8"
             ],
             [
              0.3333333333333333,
              "#9c179e"
             ],
             [
              0.4444444444444444,
              "#bd3786"
             ],
             [
              0.5555555555555556,
              "#d8576b"
             ],
             [
              0.6666666666666666,
              "#ed7953"
             ],
             [
              0.7777777777777778,
              "#fb9f3a"
             ],
             [
              0.8888888888888888,
              "#fdca26"
             ],
             [
              1,
              "#f0f921"
             ]
            ],
            "type": "heatmap"
           }
          ],
          "heatmapgl": [
           {
            "colorbar": {
             "outlinewidth": 0,
             "ticks": ""
            },
            "colorscale": [
             [
              0,
              "#0d0887"
             ],
             [
              0.1111111111111111,
              "#46039f"
             ],
             [
              0.2222222222222222,
              "#7201a8"
             ],
             [
              0.3333333333333333,
              "#9c179e"
             ],
             [
              0.4444444444444444,
              "#bd3786"
             ],
             [
              0.5555555555555556,
              "#d8576b"
             ],
             [
              0.6666666666666666,
              "#ed7953"
             ],
             [
              0.7777777777777778,
              "#fb9f3a"
             ],
             [
              0.8888888888888888,
              "#fdca26"
             ],
             [
              1,
              "#f0f921"
             ]
            ],
            "type": "heatmapgl"
           }
          ],
          "histogram": [
           {
            "marker": {
             "colorbar": {
              "outlinewidth": 0,
              "ticks": ""
             }
            },
            "type": "histogram"
           }
          ],
          "histogram2d": [
           {
            "colorbar": {
             "outlinewidth": 0,
             "ticks": ""
            },
            "colorscale": [
             [
              0,
              "#0d0887"
             ],
             [
              0.1111111111111111,
              "#46039f"
             ],
             [
              0.2222222222222222,
              "#7201a8"
             ],
             [
              0.3333333333333333,
              "#9c179e"
             ],
             [
              0.4444444444444444,
              "#bd3786"
             ],
             [
              0.5555555555555556,
              "#d8576b"
             ],
             [
              0.6666666666666666,
              "#ed7953"
             ],
             [
              0.7777777777777778,
              "#fb9f3a"
             ],
             [
              0.8888888888888888,
              "#fdca26"
             ],
             [
              1,
              "#f0f921"
             ]
            ],
            "type": "histogram2d"
           }
          ],
          "histogram2dcontour": [
           {
            "colorbar": {
             "outlinewidth": 0,
             "ticks": ""
            },
            "colorscale": [
             [
              0,
              "#0d0887"
             ],
             [
              0.1111111111111111,
              "#46039f"
             ],
             [
              0.2222222222222222,
              "#7201a8"
             ],
             [
              0.3333333333333333,
              "#9c179e"
             ],
             [
              0.4444444444444444,
              "#bd3786"
             ],
             [
              0.5555555555555556,
              "#d8576b"
             ],
             [
              0.6666666666666666,
              "#ed7953"
             ],
             [
              0.7777777777777778,
              "#fb9f3a"
             ],
             [
              0.8888888888888888,
              "#fdca26"
             ],
             [
              1,
              "#f0f921"
             ]
            ],
            "type": "histogram2dcontour"
           }
          ],
          "mesh3d": [
           {
            "colorbar": {
             "outlinewidth": 0,
             "ticks": ""
            },
            "type": "mesh3d"
           }
          ],
          "parcoords": [
           {
            "line": {
             "colorbar": {
              "outlinewidth": 0,
              "ticks": ""
             }
            },
            "type": "parcoords"
           }
          ],
          "pie": [
           {
            "automargin": true,
            "type": "pie"
           }
          ],
          "scatter": [
           {
            "marker": {
             "colorbar": {
              "outlinewidth": 0,
              "ticks": ""
             }
            },
            "type": "scatter"
           }
          ],
          "scatter3d": [
           {
            "line": {
             "colorbar": {
              "outlinewidth": 0,
              "ticks": ""
             }
            },
            "marker": {
             "colorbar": {
              "outlinewidth": 0,
              "ticks": ""
             }
            },
            "type": "scatter3d"
           }
          ],
          "scattercarpet": [
           {
            "marker": {
             "colorbar": {
              "outlinewidth": 0,
              "ticks": ""
             }
            },
            "type": "scattercarpet"
           }
          ],
          "scattergeo": [
           {
            "marker": {
             "colorbar": {
              "outlinewidth": 0,
              "ticks": ""
             }
            },
            "type": "scattergeo"
           }
          ],
          "scattergl": [
           {
            "marker": {
             "colorbar": {
              "outlinewidth": 0,
              "ticks": ""
             }
            },
            "type": "scattergl"
           }
          ],
          "scattermapbox": [
           {
            "marker": {
             "colorbar": {
              "outlinewidth": 0,
              "ticks": ""
             }
            },
            "type": "scattermapbox"
           }
          ],
          "scatterpolar": [
           {
            "marker": {
             "colorbar": {
              "outlinewidth": 0,
              "ticks": ""
             }
            },
            "type": "scatterpolar"
           }
          ],
          "scatterpolargl": [
           {
            "marker": {
             "colorbar": {
              "outlinewidth": 0,
              "ticks": ""
             }
            },
            "type": "scatterpolargl"
           }
          ],
          "scatterternary": [
           {
            "marker": {
             "colorbar": {
              "outlinewidth": 0,
              "ticks": ""
             }
            },
            "type": "scatterternary"
           }
          ],
          "surface": [
           {
            "colorbar": {
             "outlinewidth": 0,
             "ticks": ""
            },
            "colorscale": [
             [
              0,
              "#0d0887"
             ],
             [
              0.1111111111111111,
              "#46039f"
             ],
             [
              0.2222222222222222,
              "#7201a8"
             ],
             [
              0.3333333333333333,
              "#9c179e"
             ],
             [
              0.4444444444444444,
              "#bd3786"
             ],
             [
              0.5555555555555556,
              "#d8576b"
             ],
             [
              0.6666666666666666,
              "#ed7953"
             ],
             [
              0.7777777777777778,
              "#fb9f3a"
             ],
             [
              0.8888888888888888,
              "#fdca26"
             ],
             [
              1,
              "#f0f921"
             ]
            ],
            "type": "surface"
           }
          ],
          "table": [
           {
            "cells": {
             "fill": {
              "color": "#EBF0F8"
             },
             "line": {
              "color": "white"
             }
            },
            "header": {
             "fill": {
              "color": "#C8D4E3"
             },
             "line": {
              "color": "white"
             }
            },
            "type": "table"
           }
          ]
         },
         "layout": {
          "annotationdefaults": {
           "arrowcolor": "#2a3f5f",
           "arrowhead": 0,
           "arrowwidth": 1
          },
          "autotypenumbers": "strict",
          "coloraxis": {
           "colorbar": {
            "outlinewidth": 0,
            "ticks": ""
           }
          },
          "colorscale": {
           "diverging": [
            [
             0,
             "#8e0152"
            ],
            [
             0.1,
             "#c51b7d"
            ],
            [
             0.2,
             "#de77ae"
            ],
            [
             0.3,
             "#f1b6da"
            ],
            [
             0.4,
             "#fde0ef"
            ],
            [
             0.5,
             "#f7f7f7"
            ],
            [
             0.6,
             "#e6f5d0"
            ],
            [
             0.7,
             "#b8e186"
            ],
            [
             0.8,
             "#7fbc41"
            ],
            [
             0.9,
             "#4d9221"
            ],
            [
             1,
             "#276419"
            ]
           ],
           "sequential": [
            [
             0,
             "#0d0887"
            ],
            [
             0.1111111111111111,
             "#46039f"
            ],
            [
             0.2222222222222222,
             "#7201a8"
            ],
            [
             0.3333333333333333,
             "#9c179e"
            ],
            [
             0.4444444444444444,
             "#bd3786"
            ],
            [
             0.5555555555555556,
             "#d8576b"
            ],
            [
             0.6666666666666666,
             "#ed7953"
            ],
            [
             0.7777777777777778,
             "#fb9f3a"
            ],
            [
             0.8888888888888888,
             "#fdca26"
            ],
            [
             1,
             "#f0f921"
            ]
           ],
           "sequentialminus": [
            [
             0,
             "#0d0887"
            ],
            [
             0.1111111111111111,
             "#46039f"
            ],
            [
             0.2222222222222222,
             "#7201a8"
            ],
            [
             0.3333333333333333,
             "#9c179e"
            ],
            [
             0.4444444444444444,
             "#bd3786"
            ],
            [
             0.5555555555555556,
             "#d8576b"
            ],
            [
             0.6666666666666666,
             "#ed7953"
            ],
            [
             0.7777777777777778,
             "#fb9f3a"
            ],
            [
             0.8888888888888888,
             "#fdca26"
            ],
            [
             1,
             "#f0f921"
            ]
           ]
          },
          "colorway": [
           "#636efa",
           "#EF553B",
           "#00cc96",
           "#ab63fa",
           "#FFA15A",
           "#19d3f3",
           "#FF6692",
           "#B6E880",
           "#FF97FF",
           "#FECB52"
          ],
          "font": {
           "color": "#2a3f5f"
          },
          "geo": {
           "bgcolor": "white",
           "lakecolor": "white",
           "landcolor": "#E5ECF6",
           "showlakes": true,
           "showland": true,
           "subunitcolor": "white"
          },
          "hoverlabel": {
           "align": "left"
          },
          "hovermode": "closest",
          "mapbox": {
           "style": "light"
          },
          "paper_bgcolor": "white",
          "plot_bgcolor": "#E5ECF6",
          "polar": {
           "angularaxis": {
            "gridcolor": "white",
            "linecolor": "white",
            "ticks": ""
           },
           "bgcolor": "#E5ECF6",
           "radialaxis": {
            "gridcolor": "white",
            "linecolor": "white",
            "ticks": ""
           }
          },
          "scene": {
           "xaxis": {
            "backgroundcolor": "#E5ECF6",
            "gridcolor": "white",
            "gridwidth": 2,
            "linecolor": "white",
            "showbackground": true,
            "ticks": "",
            "zerolinecolor": "white"
           },
           "yaxis": {
            "backgroundcolor": "#E5ECF6",
            "gridcolor": "white",
            "gridwidth": 2,
            "linecolor": "white",
            "showbackground": true,
            "ticks": "",
            "zerolinecolor": "white"
           },
           "zaxis": {
            "backgroundcolor": "#E5ECF6",
            "gridcolor": "white",
            "gridwidth": 2,
            "linecolor": "white",
            "showbackground": true,
            "ticks": "",
            "zerolinecolor": "white"
           }
          },
          "shapedefaults": {
           "line": {
            "color": "#2a3f5f"
           }
          },
          "ternary": {
           "aaxis": {
            "gridcolor": "white",
            "linecolor": "white",
            "ticks": ""
           },
           "baxis": {
            "gridcolor": "white",
            "linecolor": "white",
            "ticks": ""
           },
           "bgcolor": "#E5ECF6",
           "caxis": {
            "gridcolor": "white",
            "linecolor": "white",
            "ticks": ""
           }
          },
          "title": {
           "x": 0.05
          },
          "xaxis": {
           "automargin": true,
           "gridcolor": "white",
           "linecolor": "white",
           "ticks": "",
           "title": {
            "standoff": 15
           },
           "zerolinecolor": "white",
           "zerolinewidth": 2
          },
          "yaxis": {
           "automargin": true,
           "gridcolor": "white",
           "linecolor": "white",
           "ticks": "",
           "title": {
            "standoff": 15
           },
           "zerolinecolor": "white",
           "zerolinewidth": 2
          }
         }
        },
        "xaxis": {
         "anchor": "y",
         "domain": [
          0,
          1
         ],
         "title": {
          "text": "x"
         }
        },
        "yaxis": {
         "anchor": "x",
         "domain": [
          0,
          1
         ],
         "title": {
          "text": "y"
         }
        }
       }
      },
      "text/html": [
       "<div>                            <div id=\"ce96b7dd-8293-4375-b174-1462054dd66e\" class=\"plotly-graph-div\" style=\"height:525px; width:100%;\"></div>            <script type=\"text/javascript\">                require([\"plotly\"], function(Plotly) {                    window.PLOTLYENV=window.PLOTLYENV || {};                                    if (document.getElementById(\"ce96b7dd-8293-4375-b174-1462054dd66e\")) {                    Plotly.newPlot(                        \"ce96b7dd-8293-4375-b174-1462054dd66e\",                        [{\"hovertemplate\": \"color=s\\u014d<br>x=%{x}<br>y=%{y}<extra></extra>\", \"legendgroup\": \"s\\u014d\", \"marker\": {\"color\": \"#636efa\", \"symbol\": \"circle\"}, \"mode\": \"markers\", \"name\": \"s\\u014d\", \"orientation\": \"v\", \"showlegend\": true, \"type\": \"scatter\", \"x\": [\"2021-06-02T22:21:16.641017\", \"2021-06-02T22:22:36.687587\", \"2021-06-02T22:23:13.914859\", \"2021-06-02T22:28:43.007798\", \"2021-06-03T19:01:46.849267\"], \"xaxis\": \"x\", \"y\": [14.929104, 3.267537, 5.593357, 3.628511, 10.364727], \"yaxis\": \"y\"}, {\"hovertemplate\": \"color=i<br>x=%{x}<br>y=%{y}<extra></extra>\", \"legendgroup\": \"i\", \"marker\": {\"color\": \"#EF553B\", \"symbol\": \"circle\"}, \"mode\": \"markers\", \"name\": \"i\", \"orientation\": \"v\", \"showlegend\": true, \"type\": \"scatter\", \"x\": [\"2021-06-02T22:21:17.447527\", \"2021-06-02T22:22:38.324823\", \"2021-06-02T22:23:14.276443\", \"2021-06-03T19:01:49.089567\", \"2021-06-08T20:06:31.734259\", \"2021-06-08T20:27:30.252150\", \"2021-06-08T20:32:20.869625\"], \"xaxis\": \"x\", \"y\": [0.800786, 1.629701, 0.355704, 2.231525, 1.828104, 1.962176, 2.371681], \"yaxis\": \"y\"}, {\"hovertemplate\": \"color=am<br>x=%{x}<br>y=%{y}<extra></extra>\", \"legendgroup\": \"am\", \"marker\": {\"color\": \"#00cc96\", \"symbol\": \"circle\"}, \"mode\": \"markers\", \"name\": \"am\", \"orientation\": \"v\", \"showlegend\": true, \"type\": \"scatter\", \"x\": [\"2021-06-02T22:21:18.500546\", \"2021-06-02T22:22:39.902119\", \"2021-06-02T22:23:14.625090\", \"2021-06-03T19:01:50.359072\"], \"xaxis\": \"x\", \"y\": [1.049375, 1.573374, 0.345191, 1.265854], \"yaxis\": \"y\"}, {\"hovertemplate\": \"color=rich<br>x=%{x}<br>y=%{y}<extra></extra>\", \"legendgroup\": \"rich\", \"marker\": {\"color\": \"#ab63fa\", \"symbol\": \"circle\"}, \"mode\": \"markers\", \"name\": \"rich\", \"orientation\": \"v\", \"showlegend\": true, \"type\": \"scatter\", \"x\": [\"2021-06-02T22:21:19.483105\", \"2021-06-02T22:22:41.541762\", \"2021-06-02T22:23:16.527522\"], \"xaxis\": \"x\", \"y\": [0.978929, 1.633247, 1.89843], \"yaxis\": \"y\"}, {\"hovertemplate\": \"color=this<br>x=%{x}<br>y=%{y}<extra></extra>\", \"legendgroup\": \"this\", \"marker\": {\"color\": \"#FFA15A\", \"symbol\": \"circle\"}, \"mode\": \"markers\", \"name\": \"this\", \"orientation\": \"v\", \"showlegend\": true, \"type\": \"scatter\", \"x\": [\"2021-06-02T22:22:46.880901\", \"2021-06-02T22:23:19.117732\"], \"xaxis\": \"x\", \"y\": [3.40795, 1.134652], \"yaxis\": \"y\"}, {\"hovertemplate\": \"color=is<br>x=%{x}<br>y=%{y}<extra></extra>\", \"legendgroup\": \"is\", \"marker\": {\"color\": \"#19d3f3\", \"symbol\": \"circle\"}, \"mode\": \"markers\", \"name\": \"is\", \"orientation\": \"v\", \"showlegend\": true, \"type\": \"scatter\", \"x\": [\"2021-06-02T22:22:48.651915\", \"2021-06-08T19:46:18.853401\", \"2021-06-08T19:48:33.425576\"], \"xaxis\": \"x\", \"y\": [1.764257, 14.122191, 14.270009], \"yaxis\": \"y\"}, {\"hovertemplate\": \"color=the<br>x=%{x}<br>y=%{y}<extra></extra>\", \"legendgroup\": \"the\", \"marker\": {\"color\": \"#FF6692\", \"symbol\": \"circle\"}, \"mode\": \"markers\", \"name\": \"the\", \"orientation\": \"v\", \"showlegend\": true, \"type\": \"scatter\", \"x\": [\"2021-06-02T22:22:50.401303\", \"2021-06-02T22:29:00.299114\", \"2021-06-03T19:02:48.747139\", \"2021-06-03T19:05:08.770647\", \"2021-06-08T19:33:06.678457\", \"2021-06-08T19:33:42.981091\", \"2021-06-08T20:07:01.989371\", \"2021-06-08T20:20:18.459216\", \"2021-06-08T20:27:12.480226\", \"2021-06-08T20:32:05.484951\", \"2021-06-08T20:34:57.475064\", \"2021-06-08T20:35:14.677964\", \"2021-06-08T20:35:27.829913\", \"2021-06-08T20:39:10.528001\", \"2021-06-08T20:40:00.514276\", \"2021-06-08T20:40:47.032764\", \"2021-06-08T20:43:57.104161\", \"2021-06-08T20:45:00.082717\", \"2021-06-08T20:49:38.656719\", \"2021-06-08T20:49:46.936647\", \"2021-06-08T20:59:38.282503\"], \"xaxis\": \"x\", \"y\": [1.741993, 17.285668, 4.779927, 6.375244, 5.406186, 6.28, 1.018192, 2.326733, 1.113222, 3.959134, 1.782704, 1.128708, 2.440654, 10.982639, 22.528306, 7.886774, 1.80234, 6.916602, 1.975958, 2.128529, 3.516795], \"yaxis\": \"y\"}, {\"hovertemplate\": \"color=end<br>x=%{x}<br>y=%{y}<extra></extra>\", \"legendgroup\": \"end\", \"marker\": {\"color\": \"#B6E880\", \"symbol\": \"circle\"}, \"mode\": \"markers\", \"name\": \"end\", \"orientation\": \"v\", \"showlegend\": true, \"type\": \"scatter\", \"x\": [\"2021-06-02T22:22:51.351221\", \"2021-06-08T20:49:48.401000\"], \"xaxis\": \"x\", \"y\": [0.946086, 1.460775], \"yaxis\": \"y\"}, {\"hovertemplate\": \"color=fat<br>x=%{x}<br>y=%{y}<extra></extra>\", \"legendgroup\": \"fat\", \"marker\": {\"color\": \"#FF97FF\", \"symbol\": \"circle\"}, \"mode\": \"markers\", \"name\": \"fat\", \"orientation\": \"v\", \"showlegend\": true, \"type\": \"scatter\", \"x\": [\"2021-06-03T19:03:04.500323\", \"2021-06-03T19:05:02.391708\"], \"xaxis\": \"x\", \"y\": [15.7479, 2.902863], \"yaxis\": \"y\"}, {\"hovertemplate\": \"color=\\u0113agle<br>x=%{x}<br>y=%{y}<extra></extra>\", \"legendgroup\": \"\\u0113agle\", \"marker\": {\"color\": \"#FECB52\", \"symbol\": \"circle\"}, \"mode\": \"markers\", \"name\": \"\\u0113agle\", \"orientation\": \"v\", \"showlegend\": true, \"type\": \"scatter\", \"x\": [\"2021-06-03T19:03:11.425807\", \"2021-06-03T19:04:26.988084\"], \"xaxis\": \"x\", \"y\": [6.921717, 5.380808], \"yaxis\": \"y\"}, {\"hovertemplate\": \"color=there<br>x=%{x}<br>y=%{y}<extra></extra>\", \"legendgroup\": \"there\", \"marker\": {\"color\": \"#636efa\", \"symbol\": \"circle\"}, \"mode\": \"markers\", \"name\": \"there\", \"orientation\": \"v\", \"showlegend\": true, \"type\": \"scatter\", \"x\": [\"2021-06-03T19:03:19.741768\"], \"xaxis\": \"x\", \"y\": [7.251217], \"yaxis\": \"y\"}, {\"hovertemplate\": \"color=was<br>x=%{x}<br>y=%{y}<extra></extra>\", \"legendgroup\": \"was\", \"marker\": {\"color\": \"#EF553B\", \"symbol\": \"circle\"}, \"mode\": \"markers\", \"name\": \"was\", \"orientation\": \"v\", \"showlegend\": true, \"type\": \"scatter\", \"x\": [\"2021-06-03T19:03:27.282106\", \"2021-06-03T19:04:40.531566\", \"2021-06-08T20:07:18.699681\", \"2021-06-08T20:08:43.416562\", \"2021-06-08T20:09:16.814312\", \"2021-06-08T20:16:25.179294\", \"2021-06-08T20:17:02.183939\"], \"xaxis\": \"x\", \"y\": [7.536766, 13.526248, 15.756184, 13.39044, 6.843922, 7.568624, 6.863061], \"yaxis\": \"y\"}, {\"hovertemplate\": \"color=an<br>x=%{x}<br>y=%{y}<extra></extra>\", \"legendgroup\": \"an\", \"marker\": {\"color\": \"#00cc96\", \"symbol\": \"circle\"}, \"mode\": \"markers\", \"name\": \"an\", \"orientation\": \"v\", \"showlegend\": true, \"type\": \"scatter\", \"x\": [\"2021-06-03T19:03:37.654536\"], \"xaxis\": \"x\", \"y\": [10.368872], \"yaxis\": \"y\"}, {\"hovertemplate\": \"color=that<br>x=%{x}<br>y=%{y}<extra></extra>\", \"legendgroup\": \"that\", \"marker\": {\"color\": \"#ab63fa\", \"symbol\": \"circle\"}, \"mode\": \"markers\", \"name\": \"that\", \"orientation\": \"v\", \"showlegend\": true, \"type\": \"scatter\", \"x\": [\"2021-06-03T19:03:49.743866\", \"2021-06-08T19:38:36.166231\", \"2021-06-08T19:41:15.831993\", \"2021-06-08T20:13:00.181931\", \"2021-06-08T20:16:13.291602\", \"2021-06-08T20:32:49.141927\", \"2021-06-08T20:44:27.458826\", \"2021-06-08T20:46:40.013148\", \"2021-06-08T20:47:51.716005\", \"2021-06-08T20:48:29.177950\"], \"xaxis\": \"x\", \"y\": [12.078532, 5.856819, 5.506034, 14.585173, 9.222575, 8.462642, 9.614794, 10.836455, 7.277686, 8.362378], \"yaxis\": \"y\"}, {\"hovertemplate\": \"color=other<br>x=%{x}<br>y=%{y}<extra></extra>\", \"legendgroup\": \"other\", \"marker\": {\"color\": \"#FFA15A\", \"symbol\": \"circle\"}, \"mode\": \"markers\", \"name\": \"other\", \"orientation\": \"v\", \"showlegend\": true, \"type\": \"scatter\", \"x\": [\"2021-06-03T19:03:59.876122\", \"2021-06-03T19:04:00.506524\", \"2021-06-03T19:04:02.257906\", \"2021-06-03T19:04:02.800616\", \"2021-06-03T19:04:05.969204\"], \"xaxis\": \"x\", \"y\": [10.128759, 10.759161, 12.510544, 13.053256, 16.221836], \"yaxis\": \"y\"}, {\"hovertemplate\": \"color=fat,<br>x=%{x}<br>y=%{y}<extra></extra>\", \"legendgroup\": \"fat,\", \"marker\": {\"color\": \"#19d3f3\", \"symbol\": \"circle\"}, \"mode\": \"markers\", \"name\": \"fat,\", \"orientation\": \"v\", \"showlegend\": true, \"type\": \"scatter\", \"x\": [\"2021-06-03T19:04:49.967523\", \"2021-06-03T19:04:59.484900\"], \"xaxis\": \"x\", \"y\": [9.428687, 9.513652], \"yaxis\": \"y\"}, {\"hovertemplate\": \"color=\\u0113agles<br>x=%{x}<br>y=%{y}<extra></extra>\", \"legendgroup\": \"\\u0113agles\", \"marker\": {\"color\": \"#FF6692\", \"symbol\": \"circle\"}, \"mode\": \"markers\", \"name\": \"\\u0113agles\", \"orientation\": \"v\", \"showlegend\": true, \"type\": \"scatter\", \"x\": [\"2021-06-03T19:08:56.447115\"], \"xaxis\": \"x\", \"y\": [21.742523], \"yaxis\": \"y\"}, {\"hovertemplate\": \"color=sh\\u0113<br>x=%{x}<br>y=%{y}<extra></extra>\", \"legendgroup\": \"sh\\u0113\", \"marker\": {\"color\": \"#B6E880\", \"symbol\": \"circle\"}, \"mode\": \"markers\", \"name\": \"sh\\u0113\", \"orientation\": \"v\", \"showlegend\": true, \"type\": \"scatter\", \"x\": [\"2021-06-08T19:32:29.393555\", \"2021-06-08T19:38:08.535412\", \"2021-06-08T19:38:45.822296\", \"2021-06-08T19:40:50.783766\", \"2021-06-08T19:41:17.515764\", \"2021-06-08T19:43:42.678759\", \"2021-06-08T19:44:03.508570\", \"2021-06-08T20:09:39.261147\", \"2021-06-08T20:09:39.442125\", \"2021-06-08T20:11:32.632714\", \"2021-06-08T20:12:44.330272\", \"2021-06-08T20:13:22.083033\", \"2021-06-08T20:15:00.547580\", \"2021-06-08T20:40:25.291510\"], \"xaxis\": \"x\", \"y\": [26.88819, 8.056254, 9.65209, 10.599753, 1.680013, 14.419043, 2.848927, 13.21053, 13.391515, 1.272189, 10.540891, 5.871257, 16.741974, 8.214176], \"yaxis\": \"y\"}, {\"hovertemplate\": \"color=a<br>x=%{x}<br>y=%{y}<extra></extra>\", \"legendgroup\": \"a\", \"marker\": {\"color\": \"#FF97FF\", \"symbol\": \"circle\"}, \"mode\": \"markers\", \"name\": \"a\", \"orientation\": \"v\", \"showlegend\": true, \"type\": \"scatter\", \"x\": [\"2021-06-08T19:33:22.837748\", \"2021-06-08T19:33:22.884246\", \"2021-06-08T19:33:22.941676\", \"2021-06-08T19:33:22.990137\", \"2021-06-08T19:33:23.317840\", \"2021-06-08T19:34:44.043274\", \"2021-06-08T19:35:45.643957\", \"2021-06-08T19:41:00.141825\"], \"xaxis\": \"x\", \"y\": [16.152746, 16.199242, 16.256673, 16.305135, 16.63284, 1.891149, 1.962137, 0.971011], \"yaxis\": \"y\"}, {\"hovertemplate\": \"color=wh\\u00efte<br>x=%{x}<br>y=%{y}<extra></extra>\", \"legendgroup\": \"wh\\u00efte\", \"marker\": {\"color\": \"#FECB52\", \"symbol\": \"circle\"}, \"mode\": \"markers\", \"name\": \"wh\\u00efte\", \"orientation\": \"v\", \"showlegend\": true, \"type\": \"scatter\", \"x\": [\"2021-06-08T19:33:46.036994\", \"2021-06-08T19:38:24.810606\", \"2021-06-08T19:40:09.332345\", \"2021-06-08T19:40:09.446014\", \"2021-06-08T19:41:06.710067\", \"2021-06-08T19:43:24.834368\", \"2021-06-08T19:44:25.068155\", \"2021-06-08T19:57:56.794088\", \"2021-06-08T19:58:40.640626\"], \"xaxis\": \"x\", \"y\": [3.049482, 4.084803, 10.514471, 10.628148, 5.758088, 8.025879, 13.820716, 2.08943, 1.520843], \"yaxis\": \"y\"}, {\"hovertemplate\": \"color=tooth<br>x=%{x}<br>y=%{y}<extra></extra>\", \"legendgroup\": \"tooth\", \"marker\": {\"color\": \"#636efa\", \"symbol\": \"circle\"}, \"mode\": \"markers\", \"name\": \"tooth\", \"orientation\": \"v\", \"showlegend\": true, \"type\": \"scatter\", \"x\": [\"2021-06-08T19:33:54.202082\", \"2021-06-08T19:34:39.339547\", \"2021-06-08T19:38:27.682531\", \"2021-06-08T19:41:08.716551\", \"2021-06-08T19:43:27.941628\", \"2021-06-08T19:58:42.907116\", \"2021-06-08T19:59:57.820526\", \"2021-06-08T20:04:03.501053\", \"2021-06-08T20:04:47.697033\", \"2021-06-08T20:06:06.008482\", \"2021-06-08T20:20:03.593882\", \"2021-06-08T20:26:59.336453\"], \"xaxis\": \"x\", \"y\": [8.158395, 9.889698, 2.868356, 2.003076, 3.101516, 2.260482, 2.569197, 9.6103, 11.607365, 10.854203, 7.209813, 9.921151], \"yaxis\": \"y\"}, {\"hovertemplate\": \"color=to<br>x=%{x}<br>y=%{y}<extra></extra>\", \"legendgroup\": \"to\", \"marker\": {\"color\": \"#EF553B\", \"symbol\": \"circle\"}, \"mode\": \"markers\", \"name\": \"to\", \"orientation\": \"v\", \"showlegend\": true, \"type\": \"scatter\", \"x\": [\"2021-06-08T19:34:07.179263\", \"2021-06-08T19:35:59.278583\", \"2021-06-08T19:44:06.557760\", \"2021-06-08T19:45:44.335892\", \"2021-06-08T20:10:31.144751\"], \"xaxis\": \"x\", \"y\": [12.973389, 4.93922, 1.83368, 6.007846, 2.270269], \"yaxis\": \"y\"}, {\"hovertemplate\": \"color=brush<br>x=%{x}<br>y=%{y}<extra></extra>\", \"legendgroup\": \"brush\", \"marker\": {\"color\": \"#00cc96\", \"symbol\": \"circle\"}, \"mode\": \"markers\", \"name\": \"brush\", \"orientation\": \"v\", \"showlegend\": true, \"type\": \"scatter\", \"x\": [\"2021-06-08T19:34:40.872673\", \"2021-06-08T19:36:08.623706\", \"2021-06-08T19:38:30.303803\", \"2021-06-08T19:41:10.318318\", \"2021-06-08T19:42:44.899562\", \"2021-06-08T19:42:45.110175\", \"2021-06-08T19:43:28.256245\", \"2021-06-08T20:19:03.533636\", \"2021-06-08T20:19:03.655469\", \"2021-06-08T20:20:14.562212\", \"2021-06-08T20:20:54.219148\", \"2021-06-08T20:22:09.669870\", \"2021-06-08T20:27:09.801570\", \"2021-06-08T20:31:59.854821\"], \"xaxis\": \"x\", \"y\": [1.522242, 9.339725, 2.617858, 1.597977, 14.227567, 14.438183, 0.310914, 10.65827, 10.7801, 10.964765, 10.16674, 12.815213, 10.461636, 14.287574], \"yaxis\": \"y\"}, {\"hovertemplate\": \"color=girl<br>x=%{x}<br>y=%{y}<extra></extra>\", \"legendgroup\": \"girl\", \"marker\": {\"color\": \"#ab63fa\", \"symbol\": \"circle\"}, \"mode\": \"markers\", \"name\": \"girl\", \"orientation\": \"v\", \"showlegend\": true, \"type\": \"scatter\", \"x\": [\"2021-06-08T19:34:45.004314\", \"2021-06-08T19:35:46.258078\", \"2021-06-08T20:07:02.939811\", \"2021-06-08T20:20:19.506300\", \"2021-06-08T20:35:15.617268\", \"2021-06-08T20:43:58.306184\"], \"xaxis\": \"x\", \"y\": [0.957571, 0.608731, 0.946787, 1.043738, 0.934039, 1.198534], \"yaxis\": \"y\"}, {\"hovertemplate\": \"color=teeth<br>x=%{x}<br>y=%{y}<extra></extra>\", \"legendgroup\": \"teeth\", \"marker\": {\"color\": \"#FFA15A\", \"symbol\": \"circle\"}, \"mode\": \"markers\", \"name\": \"teeth\", \"orientation\": \"v\", \"showlegend\": true, \"type\": \"scatter\", \"x\": [\"2021-06-08T19:35:00.917163\"], \"xaxis\": \"x\", \"y\": [15.907867], \"yaxis\": \"y\"}, {\"hovertemplate\": \"color=l\\u00efked<br>x=%{x}<br>y=%{y}<extra></extra>\", \"legendgroup\": \"l\\u00efked\", \"marker\": {\"color\": \"#19d3f3\", \"symbol\": \"circle\"}, \"mode\": \"markers\", \"name\": \"l\\u00efked\", \"orientation\": \"v\", \"showlegend\": true, \"type\": \"scatter\", \"x\": [\"2021-06-08T19:35:54.333159\", \"2021-06-08T19:41:29.494881\", \"2021-06-08T19:42:11.209819\"], \"xaxis\": \"x\", \"y\": [8.071555, 11.975531, 11.261506], \"yaxis\": \"y\"}, {\"hovertemplate\": \"color=her<br>x=%{x}<br>y=%{y}<extra></extra>\", \"legendgroup\": \"her\", \"marker\": {\"color\": \"#FF6692\", \"symbol\": \"circle\"}, \"mode\": \"markers\", \"name\": \"her\", \"orientation\": \"v\", \"showlegend\": true, \"type\": \"scatter\", \"x\": [\"2021-06-08T19:36:18.987884\", \"2021-06-08T19:37:52.356940\", \"2021-06-08T19:39:58.812037\", \"2021-06-08T19:40:33.355175\", \"2021-06-08T19:41:41.650618\", \"2021-06-08T19:41:41.705660\", \"2021-06-08T19:41:41.815299\", \"2021-06-08T19:43:16.804463\", \"2021-06-08T19:44:11.243804\", \"2021-06-08T19:45:45.785703\", \"2021-06-08T20:04:52.744787\", \"2021-06-08T20:06:10.368129\", \"2021-06-08T20:10:41.044120\", \"2021-06-08T20:15:24.272325\"], \"xaxis\": \"x\", \"y\": [10.360343, 12.815539, 14.862661, 5.533823, 12.151169, 12.206182, 12.315848, 1.488446, 4.68206, 1.40478, 3.445406, 2.056202, 9.895778, 7.465019], \"yaxis\": \"y\"}, {\"hovertemplate\": \"color=t\\u0113\\u0113th<br>x=%{x}<br>y=%{y}<extra></extra>\", \"legendgroup\": \"t\\u0113\\u0113th\", \"marker\": {\"color\": \"#B6E880\", \"symbol\": \"circle\"}, \"mode\": \"markers\", \"name\": \"t\\u0113\\u0113th\", \"orientation\": \"v\", \"showlegend\": true, \"type\": \"scatter\", \"x\": [\"2021-06-08T19:38:00.475491\", \"2021-06-08T19:40:40.180332\", \"2021-06-08T20:18:52.870495\", \"2021-06-08T20:19:37.780144\", \"2021-06-08T20:27:49.449616\", \"2021-06-08T20:32:40.674624\", \"2021-06-08T20:44:17.110473\", \"2021-06-08T20:46:29.171300\"], \"xaxis\": \"x\", \"y\": [8.112813, 6.818004, 8.630891, 13.839744, 6.678131, 12.034625, 4.192826, 8.550658], \"yaxis\": \"y\"}, {\"hovertemplate\": \"color=had<br>x=%{x}<br>y=%{y}<extra></extra>\", \"legendgroup\": \"had\", \"marker\": {\"color\": \"#FF97FF\", \"symbol\": \"circle\"}, \"mode\": \"markers\", \"name\": \"had\", \"orientation\": \"v\", \"showlegend\": true, \"type\": \"scatter\", \"x\": [\"2021-06-08T19:38:17.738833\", \"2021-06-08T19:40:59.167390\"], \"xaxis\": \"x\", \"y\": [9.19975, 8.380007], \"yaxis\": \"y\"}, {\"hovertemplate\": \"color=but<br>x=%{x}<br>y=%{y}<extra></extra>\", \"legendgroup\": \"but\", \"marker\": {\"color\": \"#FECB52\", \"symbol\": \"circle\"}, \"mode\": \"markers\", \"name\": \"but\", \"orientation\": \"v\", \"showlegend\": true, \"type\": \"scatter\", \"x\": [\"2021-06-08T19:42:24.080930\"], \"xaxis\": \"x\", \"y\": [12.86517], \"yaxis\": \"y\"}, {\"hovertemplate\": \"color=did<br>x=%{x}<br>y=%{y}<extra></extra>\", \"legendgroup\": \"did\", \"marker\": {\"color\": \"#636efa\", \"symbol\": \"circle\"}, \"mode\": \"markers\", \"name\": \"did\", \"orientation\": \"v\", \"showlegend\": true, \"type\": \"scatter\", \"x\": [\"2021-06-08T19:42:27.532351\", \"2021-06-08T19:43:10.369318\"], \"xaxis\": \"x\", \"y\": [3.44338, 10.274363], \"yaxis\": \"y\"}, {\"hovertemplate\": \"color=not<br>x=%{x}<br>y=%{y}<extra></extra>\", \"legendgroup\": \"not\", \"marker\": {\"color\": \"#EF553B\", \"symbol\": \"circle\"}, \"mode\": \"markers\", \"name\": \"not\", \"orientation\": \"v\", \"showlegend\": true, \"type\": \"scatter\", \"x\": [\"2021-06-08T19:42:29.463074\", \"2021-06-08T19:43:12.173519\", \"2021-06-08T20:06:41.743570\"], \"xaxis\": \"x\", \"y\": [1.925956, 1.797183, 6.576031], \"yaxis\": \"y\"}, {\"hovertemplate\": \"color=s\\u0113\\u0113<br>x=%{x}<br>y=%{y}<extra></extra>\", \"legendgroup\": \"s\\u0113\\u0113\", \"marker\": {\"color\": \"#00cc96\", \"symbol\": \"circle\"}, \"mode\": \"markers\", \"name\": \"s\\u0113\\u0113\", \"orientation\": \"v\", \"showlegend\": true, \"type\": \"scatter\", \"x\": [\"2021-06-08T19:43:15.312644\"], \"xaxis\": \"x\", \"y\": [1.414306], \"yaxis\": \"y\"}, {\"hovertemplate\": \"color=looked<br>x=%{x}<br>y=%{y}<extra></extra>\", \"legendgroup\": \"looked\", \"marker\": {\"color\": \"#ab63fa\", \"symbol\": \"circle\"}, \"mode\": \"markers\", \"name\": \"looked\", \"orientation\": \"v\", \"showlegend\": true, \"type\": \"scatter\", \"x\": [\"2021-06-08T19:43:43.293921\", \"2021-06-08T20:35:23.145845\"], \"xaxis\": \"x\", \"y\": [0.6117, 7.524985], \"yaxis\": \"y\"}, {\"hovertemplate\": \"color=for<br>x=%{x}<br>y=%{y}<extra></extra>\", \"legendgroup\": \"for\", \"marker\": {\"color\": \"#FFA15A\", \"symbol\": \"circle\"}, \"mode\": \"markers\", \"name\": \"for\", \"orientation\": \"v\", \"showlegend\": true, \"type\": \"scatter\", \"x\": [\"2021-06-08T19:43:51.951383\"], \"xaxis\": \"x\", \"y\": [8.652834], \"yaxis\": \"y\"}, {\"hovertemplate\": \"color=it<br>x=%{x}<br>y=%{y}<extra></extra>\", \"legendgroup\": \"it\", \"marker\": {\"color\": \"#19d3f3\", \"symbol\": \"circle\"}, \"mode\": \"markers\", \"name\": \"it\", \"orientation\": \"v\", \"showlegend\": true, \"type\": \"scatter\", \"x\": [\"2021-06-08T19:44:00.655962\", \"2021-06-08T20:06:59.354167\"], \"xaxis\": \"x\", \"y\": [8.701082, 6.839502], \"yaxis\": \"y\"}, {\"hovertemplate\": \"color=said<br>x=%{x}<br>y=%{y}<extra></extra>\", \"legendgroup\": \"said\", \"marker\": {\"color\": \"#FF6692\", \"symbol\": \"circle\"}, \"mode\": \"markers\", \"name\": \"said\", \"orientation\": \"v\", \"showlegend\": true, \"type\": \"scatter\", \"x\": [\"2021-06-08T19:44:04.719516\"], \"xaxis\": \"x\", \"y\": [0.44224], \"yaxis\": \"y\"}, {\"hovertemplate\": \"color=mother,<br>x=%{x}<br>y=%{y}<extra></extra>\", \"legendgroup\": \"mother,\", \"marker\": {\"color\": \"#B6E880\", \"symbol\": \"circle\"}, \"mode\": \"markers\", \"name\": \"mother,\", \"orientation\": \"v\", \"showlegend\": true, \"type\": \"scatter\", \"x\": [\"2021-06-08T19:45:55.111160\"], \"xaxis\": \"x\", \"y\": [9.313858], \"yaxis\": \"y\"}, {\"hovertemplate\": \"color=where<br>x=%{x}<br>y=%{y}<extra></extra>\", \"legendgroup\": \"where\", \"marker\": {\"color\": \"#FF97FF\", \"symbol\": \"circle\"}, \"mode\": \"markers\", \"name\": \"where\", \"orientation\": \"v\", \"showlegend\": true, \"type\": \"scatter\", \"x\": [\"2021-06-08T19:46:04.727118\"], \"xaxis\": \"x\", \"y\": [9.610848], \"yaxis\": \"y\"}, {\"hovertemplate\": \"color=brush?<br>x=%{x}<br>y=%{y}<extra></extra>\", \"legendgroup\": \"brush?\", \"marker\": {\"color\": \"#FECB52\", \"symbol\": \"circle\"}, \"mode\": \"markers\", \"name\": \"brush?\", \"orientation\": \"v\", \"showlegend\": true, \"type\": \"scatter\", \"x\": [\"2021-06-08T19:47:11.396911\", \"2021-06-08T20:02:40.110910\", \"2021-06-08T20:02:40.614505\", \"2021-06-08T20:03:13.687575\", \"2021-06-08T20:03:22.670247\", \"2021-06-08T20:03:23.293993\", \"2021-06-08T20:03:23.829683\", \"2021-06-08T20:03:24.333917\", \"2021-06-08T20:04:48.215205\", \"2021-06-08T20:06:07.257536\"], \"xaxis\": \"x\", \"y\": [23.046087, 0.166858, 0.670453, 18.613981, 27.596666, 28.22041, 28.756102, 29.260335, 0.510188, 1.237444], \"yaxis\": \"y\"}, {\"hovertemplate\": \"color=m\\u00ff<br>x=%{x}<br>y=%{y}<extra></extra>\", \"legendgroup\": \"m\\u00ff\", \"marker\": {\"color\": \"#636efa\", \"symbol\": \"circle\"}, \"mode\": \"markers\", \"name\": \"m\\u00ff\", \"orientation\": \"v\", \"showlegend\": true, \"type\": \"scatter\", \"x\": [\"2021-06-08T19:48:41.686785\", \"2021-06-08T19:49:33.210308\"], \"xaxis\": \"x\", \"y\": [8.241948, 21.161438], \"yaxis\": \"y\"}, {\"hovertemplate\": \"color=my<br>x=%{x}<br>y=%{y}<extra></extra>\", \"legendgroup\": \"my\", \"marker\": {\"color\": \"#EF553B\", \"symbol\": \"circle\"}, \"mode\": \"markers\", \"name\": \"my\", \"orientation\": \"v\", \"showlegend\": true, \"type\": \"scatter\", \"x\": [\"2021-06-08T19:54:46.675608\", \"2021-06-08T19:56:37.436044\", \"2021-06-08T19:57:54.689653\", \"2021-06-08T19:58:39.111535\", \"2021-06-08T19:59:50.467583\", \"2021-06-08T20:02:39.924800\", \"2021-06-08T20:03:46.864353\", \"2021-06-08T20:25:27.027523\", \"2021-06-08T20:26:39.806307\", \"2021-06-08T20:30:09.580741\"], \"xaxis\": \"x\", \"y\": [3.421674, 4.299, 2.876123, 2.931855, 2.794157, 134.060849, 10.151523, 10.435042, 5.330293, 7.287546], \"yaxis\": \"y\"}, {\"hovertemplate\": \"color=white<br>x=%{x}<br>y=%{y}<extra></extra>\", \"legendgroup\": \"white\", \"marker\": {\"color\": \"#00cc96\", \"symbol\": \"circle\"}, \"mode\": \"markers\", \"name\": \"white\", \"orientation\": \"v\", \"showlegend\": true, \"type\": \"scatter\", \"x\": [\"2021-06-08T19:59:55.246685\", \"2021-06-08T20:03:53.884879\", \"2021-06-08T20:17:31.420003\", \"2021-06-08T20:19:56.380559\", \"2021-06-08T20:26:49.411696\", \"2021-06-08T20:30:17.999449\", \"2021-06-08T20:31:45.548907\", \"2021-06-08T20:44:50.902459\", \"2021-06-08T20:59:40.369240\"], \"xaxis\": \"x\", \"y\": [4.769695, 7.0125, 13.281299, 12.969813, 9.601811, 8.414693, 6.455431, 0.66259, 2.065972], \"yaxis\": \"y\"}, {\"hovertemplate\": \"color=mother<br>x=%{x}<br>y=%{y}<extra></extra>\", \"legendgroup\": \"mother\", \"marker\": {\"color\": \"#ab63fa\", \"symbol\": \"circle\"}, \"mode\": \"markers\", \"name\": \"mother\", \"orientation\": \"v\", \"showlegend\": true, \"type\": \"scatter\", \"x\": [\"2021-06-08T20:04:15.299686\", \"2021-06-08T20:05:42.559593\", \"2021-06-08T20:06:25.140369\"], \"xaxis\": \"x\", \"y\": [11.791754, 20.10337, 14.76854], \"yaxis\": \"y\"}, {\"hovertemplate\": \"color=have<br>x=%{x}<br>y=%{y}<extra></extra>\", \"legendgroup\": \"have\", \"marker\": {\"color\": \"#FFA15A\", \"symbol\": \"circle\"}, \"mode\": \"markers\", \"name\": \"have\", \"orientation\": \"v\", \"showlegend\": true, \"type\": \"scatter\", \"x\": [\"2021-06-08T20:05:08.553531\", \"2021-06-08T20:06:52.509885\", \"2021-06-08T20:20:44.048918\", \"2021-06-08T20:21:56.835583\", \"2021-06-08T20:25:16.583704\", \"2021-06-08T20:26:34.470604\", \"2021-06-08T20:30:02.276107\", \"2021-06-08T20:44:12.914033\", \"2021-06-08T20:46:20.614943\"], \"xaxis\": \"x\", \"y\": [15.802338, 10.760818, 9.081066, 10.636694, 15.874297, 12.952998, 29.118902, 10.330605, 3.627539], \"yaxis\": \"y\"}, {\"hovertemplate\": \"color=said,<br>x=%{x}<br>y=%{y}<extra></extra>\", \"legendgroup\": \"said,\", \"marker\": {\"color\": \"#19d3f3\", \"symbol\": \"circle\"}, \"mode\": \"markers\", \"name\": \"said,\", \"orientation\": \"v\", \"showlegend\": true, \"type\": \"scatter\", \"x\": [\"2021-06-08T20:06:29.902365\", \"2021-06-08T20:20:21.478295\", \"2021-06-08T20:27:28.286465\", \"2021-06-08T20:30:33.146562\", \"2021-06-08T20:32:18.491302\", \"2021-06-08T20:41:07.918163\", \"2021-06-08T20:42:02.726147\", \"2021-06-08T20:43:20.407324\", \"2021-06-08T20:43:59.009494\", \"2021-06-08T20:45:15.887445\"], \"xaxis\": \"x\", \"y\": [4.755855, 1.968616, 3.149449, 15.133673, 2.565203, 8.789719, 8.401548, 18.010179, 0.699727, 3.127481], \"yaxis\": \"y\"}, {\"hovertemplate\": \"color=do<br>x=%{x}<br>y=%{y}<extra></extra>\", \"legendgroup\": \"do\", \"marker\": {\"color\": \"#FF6692\", \"symbol\": \"circle\"}, \"mode\": \"markers\", \"name\": \"do\", \"orientation\": \"v\", \"showlegend\": true, \"type\": \"scatter\", \"x\": [\"2021-06-08T20:06:35.160933\"], \"xaxis\": \"x\", \"y\": [3.422935], \"yaxis\": \"y\"}, {\"hovertemplate\": \"color=room<br>x=%{x}<br>y=%{y}<extra></extra>\", \"legendgroup\": \"room\", \"marker\": {\"color\": \"#B6E880\", \"symbol\": \"circle\"}, \"mode\": \"markers\", \"name\": \"room\", \"orientation\": \"v\", \"showlegend\": true, \"type\": \"scatter\", \"x\": [\"2021-06-08T20:07:28.220659\", \"2021-06-08T20:07:28.428864\", \"2021-06-08T20:07:28.509518\", \"2021-06-08T20:08:56.027577\", \"2021-06-08T20:08:56.369446\", \"2021-06-08T20:10:49.236008\"], \"xaxis\": \"x\", \"y\": [9.516925, 9.725137, 9.805789, 12.589284, 12.931153, 8.187408], \"yaxis\": \"y\"}, {\"hovertemplate\": \"color=walking<br>x=%{x}<br>y=%{y}<extra></extra>\", \"legendgroup\": \"walking\", \"marker\": {\"color\": \"#FF97FF\", \"symbol\": \"circle\"}, \"mode\": \"markers\", \"name\": \"walking\", \"orientation\": \"v\", \"showlegend\": true, \"type\": \"scatter\", \"x\": [\"2021-06-08T20:09:26.046889\", \"2021-06-08T20:10:19.283125\"], \"xaxis\": \"x\", \"y\": [9.224463, 19.976101], \"yaxis\": \"y\"}, {\"hovertemplate\": \"color=back<br>x=%{x}<br>y=%{y}<extra></extra>\", \"legendgroup\": \"back\", \"marker\": {\"color\": \"#FECB52\", \"symbol\": \"circle\"}, \"mode\": \"markers\", \"name\": \"back\", \"orientation\": \"v\", \"showlegend\": true, \"type\": \"scatter\", \"x\": [\"2021-06-08T20:10:28.870762\"], \"xaxis\": \"x\", \"y\": [9.57583], \"yaxis\": \"y\"}, {\"hovertemplate\": \"color=when<br>x=%{x}<br>y=%{y}<extra></extra>\", \"legendgroup\": \"when\", \"marker\": {\"color\": \"#636efa\", \"symbol\": \"circle\"}, \"mode\": \"markers\", \"name\": \"when\", \"orientation\": \"v\", \"showlegend\": true, \"type\": \"scatter\", \"x\": [\"2021-06-08T20:10:58.325149\", \"2021-06-08T20:11:31.354959\", \"2021-06-08T20:35:13.545760\"], \"xaxis\": \"x\", \"y\": [9.085329, 13.820283, 2.98393], \"yaxis\": \"y\"}, {\"hovertemplate\": \"color=fell<br>x=%{x}<br>y=%{y}<extra></extra>\", \"legendgroup\": \"fell\", \"marker\": {\"color\": \"#EF553B\", \"symbol\": \"circle\"}, \"mode\": \"markers\", \"name\": \"fell\", \"orientation\": \"v\", \"showlegend\": true, \"type\": \"scatter\", \"x\": [\"2021-06-08T20:11:48.528101\", \"2021-06-08T20:12:33.774196\", \"2021-06-08T20:13:43.005673\", \"2021-06-08T20:15:12.023384\"], \"xaxis\": \"x\", \"y\": [15.887075, 19.059503, 18.987734, 10.351937], \"yaxis\": \"y\"}, {\"hovertemplate\": \"color=over<br>x=%{x}<br>y=%{y}<extra></extra>\", \"legendgroup\": \"over\", \"marker\": {\"color\": \"#00cc96\", \"symbol\": \"circle\"}, \"mode\": \"markers\", \"name\": \"over\", \"orientation\": \"v\", \"showlegend\": true, \"type\": \"scatter\", \"x\": [\"2021-06-08T20:11:58.439361\", \"2021-06-08T20:11:58.488719\", \"2021-06-08T20:11:58.763096\"], \"xaxis\": \"x\", \"y\": [9.907506, 9.956868, 10.231236], \"yaxis\": \"y\"}, {\"hovertemplate\": \"color=dog<br>x=%{x}<br>y=%{y}<extra></extra>\", \"legendgroup\": \"dog\", \"marker\": {\"color\": \"#ab63fa\", \"symbol\": \"circle\"}, \"mode\": \"markers\", \"name\": \"dog\", \"orientation\": \"v\", \"showlegend\": true, \"type\": \"scatter\", \"x\": [\"2021-06-08T20:13:55.024156\", \"2021-06-08T20:13:55.486922\", \"2021-06-08T20:15:30.058362\", \"2021-06-08T20:16:04.061671\", \"2021-06-08T20:16:17.603887\", \"2021-06-08T20:27:25.133478\", \"2021-06-08T20:32:15.922340\", \"2021-06-08T20:38:10.556364\", \"2021-06-08T20:40:59.124573\", \"2021-06-08T20:41:54.308320\", \"2021-06-08T20:43:40.316287\", \"2021-06-08T20:45:12.756446\"], \"xaxis\": \"x\", \"y\": [12.012002, 12.474768, 5.782574, 4.203313, 4.308728, 12.649577, 10.433848, 14.896386, 12.085725, 17.427962, 7.004518, 12.668509], \"yaxis\": \"y\"}, {\"hovertemplate\": \"color=\\u014dver<br>x=%{x}<br>y=%{y}<extra></extra>\", \"legendgroup\": \"\\u014dver\", \"marker\": {\"color\": \"#FFA15A\", \"symbol\": \"circle\"}, \"mode\": \"markers\", \"name\": \"\\u014dver\", \"orientation\": \"v\", \"showlegend\": true, \"type\": \"scatter\", \"x\": [\"2021-06-08T20:15:16.803766\"], \"xaxis\": \"x\", \"y\": [4.775277], \"yaxis\": \"y\"}, {\"hovertemplate\": \"color=brushing<br>x=%{x}<br>y=%{y}<extra></extra>\", \"legendgroup\": \"brushing\", \"marker\": {\"color\": \"#19d3f3\", \"symbol\": \"circle\"}, \"mode\": \"markers\", \"name\": \"brushing\", \"orientation\": \"v\", \"showlegend\": true, \"type\": \"scatter\", \"x\": [\"2021-06-08T20:15:41.910982\", \"2021-06-08T20:15:42.009821\", \"2021-06-08T20:15:42.272209\", \"2021-06-08T20:15:42.615668\", \"2021-06-08T20:15:43.398644\", \"2021-06-08T20:15:44.102864\", \"2021-06-08T20:17:18.134976\", \"2021-06-08T20:18:32.879998\"], \"xaxis\": \"x\", \"y\": [11.848666, 11.947508, 12.209892, 12.553356, 13.336331, 14.040552, 15.054472, 9.99165], \"yaxis\": \"y\"}, {\"hovertemplate\": \"color=with<br>x=%{x}<br>y=%{y}<extra></extra>\", \"legendgroup\": \"with\", \"marker\": {\"color\": \"#FF6692\", \"symbol\": \"circle\"}, \"mode\": \"markers\", \"name\": \"with\", \"orientation\": \"v\", \"showlegend\": true, \"type\": \"scatter\", \"x\": [\"2021-06-08T20:16:39.148143\", \"2021-06-08T20:19:43.402717\"], \"xaxis\": \"x\", \"y\": [13.307209, 5.603449], \"yaxis\": \"y\"}, {\"hovertemplate\": \"color=his<br>x=%{x}<br>y=%{y}<extra></extra>\", \"legendgroup\": \"his\", \"marker\": {\"color\": \"#B6E880\", \"symbol\": \"circle\"}, \"mode\": \"markers\", \"name\": \"his\", \"orientation\": \"v\", \"showlegend\": true, \"type\": \"scatter\", \"x\": [\"2021-06-08T20:18:44.235767\"], \"xaxis\": \"x\", \"y\": [11.347292], \"yaxis\": \"y\"}, {\"hovertemplate\": \"color=you<br>x=%{x}<br>y=%{y}<extra></extra>\", \"legendgroup\": \"you\", \"marker\": {\"color\": \"#FF97FF\", \"symbol\": \"circle\"}, \"mode\": \"markers\", \"name\": \"you\", \"orientation\": \"v\", \"showlegend\": true, \"type\": \"scatter\", \"x\": [\"2021-06-08T20:20:34.964147\"], \"xaxis\": \"x\", \"y\": [13.482426], \"yaxis\": \"y\"}, {\"hovertemplate\": \"color=like<br>x=%{x}<br>y=%{y}<extra></extra>\", \"legendgroup\": \"like\", \"marker\": {\"color\": \"#FECB52\", \"symbol\": \"circle\"}, \"mode\": \"markers\", \"name\": \"like\", \"orientation\": \"v\", \"showlegend\": true, \"type\": \"scatter\", \"x\": [\"2021-06-08T20:27:42.767941\", \"2021-06-08T20:32:28.636035\", \"2021-06-08T20:34:55.688266\", \"2021-06-08T20:49:36.677275\"], \"xaxis\": \"x\", \"y\": [12.511523, 7.762733, 7.024054, 8.837342], \"yaxis\": \"y\"}, {\"hovertemplate\": \"color=moon<br>x=%{x}<br>y=%{y}<extra></extra>\", \"legendgroup\": \"moon\", \"marker\": {\"color\": \"#636efa\", \"symbol\": \"circle\"}, \"mode\": \"markers\", \"name\": \"moon\", \"orientation\": \"v\", \"showlegend\": true, \"type\": \"scatter\", \"x\": [\"2021-06-08T20:28:05.179416\", \"2021-06-08T20:33:53.860900\", \"2021-06-08T20:34:25.794536\", \"2021-06-08T20:35:09.845112\", \"2021-06-08T20:46:49.399597\", \"2021-06-08T20:48:05.402137\", \"2021-06-08T20:48:08.644407\", \"2021-06-08T20:48:09.203803\", \"2021-06-08T20:49:40.389715\"], \"xaxis\": \"x\", \"y\": [15.718452, 18.360891, 18.88706, 10.875693, 9.382986, 13.677634, 16.919909, 17.479304, 0.713273], \"yaxis\": \"y\"}, {\"hovertemplate\": \"color=shine<br>x=%{x}<br>y=%{y}<extra></extra>\", \"legendgroup\": \"shine\", \"marker\": {\"color\": \"#EF553B\", \"symbol\": \"circle\"}, \"mode\": \"markers\", \"name\": \"shine\", \"orientation\": \"v\", \"showlegend\": true, \"type\": \"scatter\", \"x\": [\"2021-06-08T20:32:57.384602\", \"2021-06-08T20:34:48.650578\", \"2021-06-08T20:45:28.216643\", \"2021-06-08T20:48:39.943351\", \"2021-06-08T20:49:27.822197\"], \"xaxis\": \"x\", \"y\": [8.238639, 6.512644, 12.32556, 10.756335, 14.463312], \"yaxis\": \"y\"}, {\"hovertemplate\": \"color=at<br>x=%{x}<br>y=%{y}<extra></extra>\", \"legendgroup\": \"at\", \"marker\": {\"color\": \"#00cc96\", \"symbol\": \"circle\"}, \"mode\": \"markers\", \"name\": \"at\", \"orientation\": \"v\", \"showlegend\": true, \"type\": \"scatter\", \"x\": [\"2021-06-08T20:35:25.385723\"], \"xaxis\": \"x\", \"y\": [2.236318], \"yaxis\": \"y\"}, {\"hovertemplate\": \"color=dog's<br>x=%{x}<br>y=%{y}<extra></extra>\", \"legendgroup\": \"dog's\", \"marker\": {\"color\": \"#ab63fa\", \"symbol\": \"circle\"}, \"mode\": \"markers\", \"name\": \"dog's\", \"orientation\": \"v\", \"showlegend\": true, \"type\": \"scatter\", \"x\": [\"2021-06-08T20:35:39.025326\", \"2021-06-08T20:36:30.108955\"], \"xaxis\": \"x\", \"y\": [11.190453, 13.883271], \"yaxis\": \"y\"}, {\"hovertemplate\": \"color=then<br>x=%{x}<br>y=%{y}<extra></extra>\", \"legendgroup\": \"then\", \"marker\": {\"color\": \"#FFA15A\", \"symbol\": \"circle\"}, \"mode\": \"markers\", \"name\": \"then\", \"orientation\": \"v\", \"showlegend\": true, \"type\": \"scatter\", \"x\": [\"2021-06-08T20:35:50.732746\", \"2021-06-08T20:35:50.784912\", \"2021-06-08T20:35:51.139381\", \"2021-06-08T20:36:42.258196\", \"2021-06-08T20:37:30.749343\", \"2021-06-08T20:40:39.139337\"], \"xaxis\": \"x\", \"y\": [11.703722, 11.755887, 12.110359, 12.143992, 33.466819, 0.430153], \"yaxis\": \"y\"}, {\"hovertemplate\": \"color=t\\u0113\\u0113th,<br>x=%{x}<br>y=%{y}<extra></extra>\", \"legendgroup\": \"t\\u0113\\u0113th,\", \"marker\": {\"color\": \"#19d3f3\", \"symbol\": \"circle\"}, \"mode\": \"markers\", \"name\": \"t\\u0113\\u0113th,\", \"orientation\": \"v\", \"showlegend\": true, \"type\": \"scatter\", \"x\": [\"2021-06-08T20:37:55.643915\", \"2021-06-08T20:38:59.536665\"], \"xaxis\": \"x\", \"y\": [10.919611, 20.415361], \"yaxis\": \"y\"}, {\"hovertemplate\": \"color=smiled<br>x=%{x}<br>y=%{y}<extra></extra>\", \"legendgroup\": \"smiled\", \"marker\": {\"color\": \"#FF6692\", \"symbol\": \"circle\"}, \"mode\": \"markers\", \"name\": \"smiled\", \"orientation\": \"v\", \"showlegend\": true, \"type\": \"scatter\", \"x\": [\"2021-06-08T20:40:36.980471\", \"2021-06-08T20:43:55.298069\"], \"xaxis\": \"x\", \"y\": [11.679445, 14.971022], \"yaxis\": \"y\"}, {\"hovertemplate\": \"color=w\\u0113<br>x=%{x}<br>y=%{y}<extra></extra>\", \"legendgroup\": \"w\\u0113\", \"marker\": {\"color\": \"#B6E880\", \"symbol\": \"circle\"}, \"mode\": \"markers\", \"name\": \"w\\u0113\", \"orientation\": \"v\", \"showlegend\": true, \"type\": \"scatter\", \"x\": [\"2021-06-08T20:44:02.578458\", \"2021-06-08T20:46:16.965774\"], \"xaxis\": \"x\", \"y\": [3.565558, 20.032583], \"yaxis\": \"y\"}, {\"hovertemplate\": \"color=are<br>x=%{x}<br>y=%{y}<extra></extra>\", \"legendgroup\": \"are\", \"marker\": {\"color\": \"#FF97FF\", \"symbol\": \"circle\"}, \"mode\": \"markers\", \"name\": \"are\", \"orientation\": \"v\", \"showlegend\": true, \"type\": \"scatter\", \"x\": [\"2021-06-08T20:44:34.199568\"], \"xaxis\": \"x\", \"y\": [6.735155], \"yaxis\": \"y\"}, {\"hovertemplate\": \"color=white,<br>x=%{x}<br>y=%{y}<extra></extra>\", \"legendgroup\": \"white,\", \"marker\": {\"color\": \"#FECB52\", \"symbol\": \"circle\"}, \"mode\": \"markers\", \"name\": \"white,\", \"orientation\": \"v\", \"showlegend\": true, \"type\": \"scatter\", \"x\": [\"2021-06-08T20:44:43.791679\", \"2021-06-08T20:44:50.232091\"], \"xaxis\": \"x\", \"y\": [9.588233, 6.436517], \"yaxis\": \"y\"}],                        {\"legend\": {\"title\": {\"text\": \"color\"}, \"tracegroupgap\": 0}, \"margin\": {\"t\": 60}, \"template\": {\"data\": {\"bar\": [{\"error_x\": {\"color\": \"#2a3f5f\"}, \"error_y\": {\"color\": \"#2a3f5f\"}, \"marker\": {\"line\": {\"color\": \"#E5ECF6\", \"width\": 0.5}}, \"type\": \"bar\"}], \"barpolar\": [{\"marker\": {\"line\": {\"color\": \"#E5ECF6\", \"width\": 0.5}}, \"type\": \"barpolar\"}], \"carpet\": [{\"aaxis\": {\"endlinecolor\": \"#2a3f5f\", \"gridcolor\": \"white\", \"linecolor\": \"white\", \"minorgridcolor\": \"white\", \"startlinecolor\": \"#2a3f5f\"}, \"baxis\": {\"endlinecolor\": \"#2a3f5f\", \"gridcolor\": \"white\", \"linecolor\": \"white\", \"minorgridcolor\": \"white\", \"startlinecolor\": \"#2a3f5f\"}, \"type\": \"carpet\"}], \"choropleth\": [{\"colorbar\": {\"outlinewidth\": 0, \"ticks\": \"\"}, \"type\": \"choropleth\"}], \"contour\": [{\"colorbar\": {\"outlinewidth\": 0, \"ticks\": \"\"}, \"colorscale\": [[0.0, \"#0d0887\"], [0.1111111111111111, \"#46039f\"], [0.2222222222222222, \"#7201a8\"], [0.3333333333333333, \"#9c179e\"], [0.4444444444444444, \"#bd3786\"], [0.5555555555555556, \"#d8576b\"], [0.6666666666666666, \"#ed7953\"], [0.7777777777777778, \"#fb9f3a\"], [0.8888888888888888, \"#fdca26\"], [1.0, \"#f0f921\"]], \"type\": \"contour\"}], \"contourcarpet\": [{\"colorbar\": {\"outlinewidth\": 0, \"ticks\": \"\"}, \"type\": \"contourcarpet\"}], \"heatmap\": [{\"colorbar\": {\"outlinewidth\": 0, \"ticks\": \"\"}, \"colorscale\": [[0.0, \"#0d0887\"], [0.1111111111111111, \"#46039f\"], [0.2222222222222222, \"#7201a8\"], [0.3333333333333333, \"#9c179e\"], [0.4444444444444444, \"#bd3786\"], [0.5555555555555556, \"#d8576b\"], [0.6666666666666666, \"#ed7953\"], [0.7777777777777778, \"#fb9f3a\"], [0.8888888888888888, \"#fdca26\"], [1.0, \"#f0f921\"]], \"type\": \"heatmap\"}], \"heatmapgl\": [{\"colorbar\": {\"outlinewidth\": 0, \"ticks\": \"\"}, \"colorscale\": [[0.0, \"#0d0887\"], [0.1111111111111111, \"#46039f\"], [0.2222222222222222, \"#7201a8\"], [0.3333333333333333, \"#9c179e\"], [0.4444444444444444, \"#bd3786\"], [0.5555555555555556, \"#d8576b\"], [0.6666666666666666, \"#ed7953\"], [0.7777777777777778, \"#fb9f3a\"], [0.8888888888888888, \"#fdca26\"], [1.0, \"#f0f921\"]], \"type\": \"heatmapgl\"}], \"histogram\": [{\"marker\": {\"colorbar\": {\"outlinewidth\": 0, \"ticks\": \"\"}}, \"type\": \"histogram\"}], \"histogram2d\": [{\"colorbar\": {\"outlinewidth\": 0, \"ticks\": \"\"}, \"colorscale\": [[0.0, \"#0d0887\"], [0.1111111111111111, \"#46039f\"], [0.2222222222222222, \"#7201a8\"], [0.3333333333333333, \"#9c179e\"], [0.4444444444444444, \"#bd3786\"], [0.5555555555555556, \"#d8576b\"], [0.6666666666666666, \"#ed7953\"], [0.7777777777777778, \"#fb9f3a\"], [0.8888888888888888, \"#fdca26\"], [1.0, \"#f0f921\"]], \"type\": \"histogram2d\"}], \"histogram2dcontour\": [{\"colorbar\": {\"outlinewidth\": 0, \"ticks\": \"\"}, \"colorscale\": [[0.0, \"#0d0887\"], [0.1111111111111111, \"#46039f\"], [0.2222222222222222, \"#7201a8\"], [0.3333333333333333, \"#9c179e\"], [0.4444444444444444, \"#bd3786\"], [0.5555555555555556, \"#d8576b\"], [0.6666666666666666, \"#ed7953\"], [0.7777777777777778, \"#fb9f3a\"], [0.8888888888888888, \"#fdca26\"], [1.0, \"#f0f921\"]], \"type\": \"histogram2dcontour\"}], \"mesh3d\": [{\"colorbar\": {\"outlinewidth\": 0, \"ticks\": \"\"}, \"type\": \"mesh3d\"}], \"parcoords\": [{\"line\": {\"colorbar\": {\"outlinewidth\": 0, \"ticks\": \"\"}}, \"type\": \"parcoords\"}], \"pie\": [{\"automargin\": true, \"type\": \"pie\"}], \"scatter\": [{\"marker\": {\"colorbar\": {\"outlinewidth\": 0, \"ticks\": \"\"}}, \"type\": \"scatter\"}], \"scatter3d\": [{\"line\": {\"colorbar\": {\"outlinewidth\": 0, \"ticks\": \"\"}}, \"marker\": {\"colorbar\": {\"outlinewidth\": 0, \"ticks\": \"\"}}, \"type\": \"scatter3d\"}], \"scattercarpet\": [{\"marker\": {\"colorbar\": {\"outlinewidth\": 0, \"ticks\": \"\"}}, \"type\": \"scattercarpet\"}], \"scattergeo\": [{\"marker\": {\"colorbar\": {\"outlinewidth\": 0, \"ticks\": \"\"}}, \"type\": \"scattergeo\"}], \"scattergl\": [{\"marker\": {\"colorbar\": {\"outlinewidth\": 0, \"ticks\": \"\"}}, \"type\": \"scattergl\"}], \"scattermapbox\": [{\"marker\": {\"colorbar\": {\"outlinewidth\": 0, \"ticks\": \"\"}}, \"type\": \"scattermapbox\"}], \"scatterpolar\": [{\"marker\": {\"colorbar\": {\"outlinewidth\": 0, \"ticks\": \"\"}}, \"type\": \"scatterpolar\"}], \"scatterpolargl\": [{\"marker\": {\"colorbar\": {\"outlinewidth\": 0, \"ticks\": \"\"}}, \"type\": \"scatterpolargl\"}], \"scatterternary\": [{\"marker\": {\"colorbar\": {\"outlinewidth\": 0, \"ticks\": \"\"}}, \"type\": \"scatterternary\"}], \"surface\": [{\"colorbar\": {\"outlinewidth\": 0, \"ticks\": \"\"}, \"colorscale\": [[0.0, \"#0d0887\"], [0.1111111111111111, \"#46039f\"], [0.2222222222222222, \"#7201a8\"], [0.3333333333333333, \"#9c179e\"], [0.4444444444444444, \"#bd3786\"], [0.5555555555555556, \"#d8576b\"], [0.6666666666666666, \"#ed7953\"], [0.7777777777777778, \"#fb9f3a\"], [0.8888888888888888, \"#fdca26\"], [1.0, \"#f0f921\"]], \"type\": \"surface\"}], \"table\": [{\"cells\": {\"fill\": {\"color\": \"#EBF0F8\"}, \"line\": {\"color\": \"white\"}}, \"header\": {\"fill\": {\"color\": \"#C8D4E3\"}, \"line\": {\"color\": \"white\"}}, \"type\": \"table\"}]}, \"layout\": {\"annotationdefaults\": {\"arrowcolor\": \"#2a3f5f\", \"arrowhead\": 0, \"arrowwidth\": 1}, \"autotypenumbers\": \"strict\", \"coloraxis\": {\"colorbar\": {\"outlinewidth\": 0, \"ticks\": \"\"}}, \"colorscale\": {\"diverging\": [[0, \"#8e0152\"], [0.1, \"#c51b7d\"], [0.2, \"#de77ae\"], [0.3, \"#f1b6da\"], [0.4, \"#fde0ef\"], [0.5, \"#f7f7f7\"], [0.6, \"#e6f5d0\"], [0.7, \"#b8e186\"], [0.8, \"#7fbc41\"], [0.9, \"#4d9221\"], [1, \"#276419\"]], \"sequential\": [[0.0, \"#0d0887\"], [0.1111111111111111, \"#46039f\"], [0.2222222222222222, \"#7201a8\"], [0.3333333333333333, \"#9c179e\"], [0.4444444444444444, \"#bd3786\"], [0.5555555555555556, \"#d8576b\"], [0.6666666666666666, \"#ed7953\"], [0.7777777777777778, \"#fb9f3a\"], [0.8888888888888888, \"#fdca26\"], [1.0, \"#f0f921\"]], \"sequentialminus\": [[0.0, \"#0d0887\"], [0.1111111111111111, \"#46039f\"], [0.2222222222222222, \"#7201a8\"], [0.3333333333333333, \"#9c179e\"], [0.4444444444444444, \"#bd3786\"], [0.5555555555555556, \"#d8576b\"], [0.6666666666666666, \"#ed7953\"], [0.7777777777777778, \"#fb9f3a\"], [0.8888888888888888, \"#fdca26\"], [1.0, \"#f0f921\"]]}, \"colorway\": [\"#636efa\", \"#EF553B\", \"#00cc96\", \"#ab63fa\", \"#FFA15A\", \"#19d3f3\", \"#FF6692\", \"#B6E880\", \"#FF97FF\", \"#FECB52\"], \"font\": {\"color\": \"#2a3f5f\"}, \"geo\": {\"bgcolor\": \"white\", \"lakecolor\": \"white\", \"landcolor\": \"#E5ECF6\", \"showlakes\": true, \"showland\": true, \"subunitcolor\": \"white\"}, \"hoverlabel\": {\"align\": \"left\"}, \"hovermode\": \"closest\", \"mapbox\": {\"style\": \"light\"}, \"paper_bgcolor\": \"white\", \"plot_bgcolor\": \"#E5ECF6\", \"polar\": {\"angularaxis\": {\"gridcolor\": \"white\", \"linecolor\": \"white\", \"ticks\": \"\"}, \"bgcolor\": \"#E5ECF6\", \"radialaxis\": {\"gridcolor\": \"white\", \"linecolor\": \"white\", \"ticks\": \"\"}}, \"scene\": {\"xaxis\": {\"backgroundcolor\": \"#E5ECF6\", \"gridcolor\": \"white\", \"gridwidth\": 2, \"linecolor\": \"white\", \"showbackground\": true, \"ticks\": \"\", \"zerolinecolor\": \"white\"}, \"yaxis\": {\"backgroundcolor\": \"#E5ECF6\", \"gridcolor\": \"white\", \"gridwidth\": 2, \"linecolor\": \"white\", \"showbackground\": true, \"ticks\": \"\", \"zerolinecolor\": \"white\"}, \"zaxis\": {\"backgroundcolor\": \"#E5ECF6\", \"gridcolor\": \"white\", \"gridwidth\": 2, \"linecolor\": \"white\", \"showbackground\": true, \"ticks\": \"\", \"zerolinecolor\": \"white\"}}, \"shapedefaults\": {\"line\": {\"color\": \"#2a3f5f\"}}, \"ternary\": {\"aaxis\": {\"gridcolor\": \"white\", \"linecolor\": \"white\", \"ticks\": \"\"}, \"baxis\": {\"gridcolor\": \"white\", \"linecolor\": \"white\", \"ticks\": \"\"}, \"bgcolor\": \"#E5ECF6\", \"caxis\": {\"gridcolor\": \"white\", \"linecolor\": \"white\", \"ticks\": \"\"}}, \"title\": {\"x\": 0.05}, \"xaxis\": {\"automargin\": true, \"gridcolor\": \"white\", \"linecolor\": \"white\", \"ticks\": \"\", \"title\": {\"standoff\": 15}, \"zerolinecolor\": \"white\", \"zerolinewidth\": 2}, \"yaxis\": {\"automargin\": true, \"gridcolor\": \"white\", \"linecolor\": \"white\", \"ticks\": \"\", \"title\": {\"standoff\": 15}, \"zerolinecolor\": \"white\", \"zerolinewidth\": 2}}}, \"xaxis\": {\"anchor\": \"y\", \"domain\": [0.0, 1.0], \"title\": {\"text\": \"x\"}}, \"yaxis\": {\"anchor\": \"x\", \"domain\": [0.0, 1.0], \"title\": {\"text\": \"y\"}}},                        {\"responsive\": true}                    ).then(function(){\n",
       "                            \n",
       "var gd = document.getElementById('ce96b7dd-8293-4375-b174-1462054dd66e');\n",
       "var x = new MutationObserver(function (mutations, observer) {{\n",
       "        var display = window.getComputedStyle(gd).display;\n",
       "        if (!display || display === 'none') {{\n",
       "            console.log([gd, 'removed!']);\n",
       "            Plotly.purge(gd);\n",
       "            observer.disconnect();\n",
       "        }}\n",
       "}});\n",
       "\n",
       "// Listen for the removal of the full notebook cells\n",
       "var notebookContainer = gd.closest('#notebook-container');\n",
       "if (notebookContainer) {{\n",
       "    x.observe(notebookContainer, {childList: true});\n",
       "}}\n",
       "\n",
       "// Listen for the clearing of the current output cell\n",
       "var outputEl = gd.closest('.output');\n",
       "if (outputEl) {{\n",
       "    x.observe(outputEl, {childList: true});\n",
       "}}\n",
       "\n",
       "                        })                };                });            </script>        </div>"
      ]
     },
     "metadata": {},
     "output_type": "display_data"
    }
   ],
   "source": [
    "import plotly.express as px\n",
    "fig = px.scatter(x=focus_word.datetime, y=focus_word.read_duration,color=focus_word.english_word)\n",
    "fig.show()"
   ]
  },
  {
   "cell_type": "code",
   "execution_count": 96,
   "metadata": {},
   "outputs": [
    {
     "data": {
      "text/html": [
       "<div>\n",
       "<style scoped>\n",
       "    .dataframe tbody tr th:only-of-type {\n",
       "        vertical-align: middle;\n",
       "    }\n",
       "\n",
       "    .dataframe tbody tr th {\n",
       "        vertical-align: top;\n",
       "    }\n",
       "\n",
       "    .dataframe thead th {\n",
       "        text-align: right;\n",
       "    }\n",
       "</style>\n",
       "<table border=\"1\" class=\"dataframe\">\n",
       "  <thead>\n",
       "    <tr style=\"text-align: right;\">\n",
       "      <th></th>\n",
       "      <th>english_word</th>\n",
       "      <th>median_read_duration</th>\n",
       "      <th>appearance_count</th>\n",
       "    </tr>\n",
       "  </thead>\n",
       "  <tbody>\n",
       "    <tr>\n",
       "      <th>0</th>\n",
       "      <td>a</td>\n",
       "      <td>16.175994</td>\n",
       "      <td>8</td>\n",
       "    </tr>\n",
       "    <tr>\n",
       "      <th>1</th>\n",
       "      <td>am</td>\n",
       "      <td>1.157614</td>\n",
       "      <td>4</td>\n",
       "    </tr>\n",
       "    <tr>\n",
       "      <th>2</th>\n",
       "      <td>an</td>\n",
       "      <td>10.368872</td>\n",
       "      <td>1</td>\n",
       "    </tr>\n",
       "    <tr>\n",
       "      <th>3</th>\n",
       "      <td>are</td>\n",
       "      <td>6.735155</td>\n",
       "      <td>1</td>\n",
       "    </tr>\n",
       "    <tr>\n",
       "      <th>4</th>\n",
       "      <td>at</td>\n",
       "      <td>2.236318</td>\n",
       "      <td>1</td>\n",
       "    </tr>\n",
       "    <tr>\n",
       "      <th>5</th>\n",
       "      <td>back</td>\n",
       "      <td>9.575830</td>\n",
       "      <td>1</td>\n",
       "    </tr>\n",
       "    <tr>\n",
       "      <th>6</th>\n",
       "      <td>brush</td>\n",
       "      <td>10.559953</td>\n",
       "      <td>14</td>\n",
       "    </tr>\n",
       "    <tr>\n",
       "      <th>7</th>\n",
       "      <td>brush?</td>\n",
       "      <td>20.830034</td>\n",
       "      <td>10</td>\n",
       "    </tr>\n",
       "    <tr>\n",
       "      <th>8</th>\n",
       "      <td>brushing</td>\n",
       "      <td>12.381624</td>\n",
       "      <td>8</td>\n",
       "    </tr>\n",
       "    <tr>\n",
       "      <th>9</th>\n",
       "      <td>but</td>\n",
       "      <td>12.865170</td>\n",
       "      <td>1</td>\n",
       "    </tr>\n",
       "    <tr>\n",
       "      <th>10</th>\n",
       "      <td>did</td>\n",
       "      <td>6.858871</td>\n",
       "      <td>2</td>\n",
       "    </tr>\n",
       "    <tr>\n",
       "      <th>11</th>\n",
       "      <td>do</td>\n",
       "      <td>3.422935</td>\n",
       "      <td>1</td>\n",
       "    </tr>\n",
       "    <tr>\n",
       "      <th>12</th>\n",
       "      <td>dog</td>\n",
       "      <td>12.048863</td>\n",
       "      <td>12</td>\n",
       "    </tr>\n",
       "    <tr>\n",
       "      <th>13</th>\n",
       "      <td>dog's</td>\n",
       "      <td>12.536862</td>\n",
       "      <td>2</td>\n",
       "    </tr>\n",
       "    <tr>\n",
       "      <th>14</th>\n",
       "      <td>end</td>\n",
       "      <td>1.203431</td>\n",
       "      <td>2</td>\n",
       "    </tr>\n",
       "    <tr>\n",
       "      <th>15</th>\n",
       "      <td>fat</td>\n",
       "      <td>9.325381</td>\n",
       "      <td>2</td>\n",
       "    </tr>\n",
       "    <tr>\n",
       "      <th>16</th>\n",
       "      <td>fat,</td>\n",
       "      <td>9.471170</td>\n",
       "      <td>2</td>\n",
       "    </tr>\n",
       "    <tr>\n",
       "      <th>17</th>\n",
       "      <td>fell</td>\n",
       "      <td>17.437404</td>\n",
       "      <td>4</td>\n",
       "    </tr>\n",
       "    <tr>\n",
       "      <th>18</th>\n",
       "      <td>for</td>\n",
       "      <td>8.652834</td>\n",
       "      <td>1</td>\n",
       "    </tr>\n",
       "    <tr>\n",
       "      <th>19</th>\n",
       "      <td>girl</td>\n",
       "      <td>0.952179</td>\n",
       "      <td>6</td>\n",
       "    </tr>\n",
       "    <tr>\n",
       "      <th>20</th>\n",
       "      <td>had</td>\n",
       "      <td>8.789879</td>\n",
       "      <td>2</td>\n",
       "    </tr>\n",
       "    <tr>\n",
       "      <th>21</th>\n",
       "      <td>have</td>\n",
       "      <td>10.760818</td>\n",
       "      <td>9</td>\n",
       "    </tr>\n",
       "    <tr>\n",
       "      <th>22</th>\n",
       "      <td>her</td>\n",
       "      <td>8.680398</td>\n",
       "      <td>14</td>\n",
       "    </tr>\n",
       "    <tr>\n",
       "      <th>23</th>\n",
       "      <td>his</td>\n",
       "      <td>11.347292</td>\n",
       "      <td>1</td>\n",
       "    </tr>\n",
       "    <tr>\n",
       "      <th>24</th>\n",
       "      <td>i</td>\n",
       "      <td>1.828104</td>\n",
       "      <td>7</td>\n",
       "    </tr>\n",
       "    <tr>\n",
       "      <th>25</th>\n",
       "      <td>is</td>\n",
       "      <td>14.122191</td>\n",
       "      <td>3</td>\n",
       "    </tr>\n",
       "    <tr>\n",
       "      <th>26</th>\n",
       "      <td>it</td>\n",
       "      <td>7.770292</td>\n",
       "      <td>2</td>\n",
       "    </tr>\n",
       "    <tr>\n",
       "      <th>27</th>\n",
       "      <td>like</td>\n",
       "      <td>8.300038</td>\n",
       "      <td>4</td>\n",
       "    </tr>\n",
       "    <tr>\n",
       "      <th>28</th>\n",
       "      <td>looked</td>\n",
       "      <td>4.068342</td>\n",
       "      <td>2</td>\n",
       "    </tr>\n",
       "    <tr>\n",
       "      <th>29</th>\n",
       "      <td>lïked</td>\n",
       "      <td>11.261506</td>\n",
       "      <td>3</td>\n",
       "    </tr>\n",
       "    <tr>\n",
       "      <th>...</th>\n",
       "      <td>...</td>\n",
       "      <td>...</td>\n",
       "      <td>...</td>\n",
       "    </tr>\n",
       "    <tr>\n",
       "      <th>40</th>\n",
       "      <td>said</td>\n",
       "      <td>0.442240</td>\n",
       "      <td>1</td>\n",
       "    </tr>\n",
       "    <tr>\n",
       "      <th>41</th>\n",
       "      <td>said,</td>\n",
       "      <td>3.952652</td>\n",
       "      <td>10</td>\n",
       "    </tr>\n",
       "    <tr>\n",
       "      <th>42</th>\n",
       "      <td>shine</td>\n",
       "      <td>10.756335</td>\n",
       "      <td>5</td>\n",
       "    </tr>\n",
       "    <tr>\n",
       "      <th>43</th>\n",
       "      <td>shē</td>\n",
       "      <td>10.096490</td>\n",
       "      <td>14</td>\n",
       "    </tr>\n",
       "    <tr>\n",
       "      <th>44</th>\n",
       "      <td>smiled</td>\n",
       "      <td>13.325233</td>\n",
       "      <td>2</td>\n",
       "    </tr>\n",
       "    <tr>\n",
       "      <th>45</th>\n",
       "      <td>sēē</td>\n",
       "      <td>1.414306</td>\n",
       "      <td>1</td>\n",
       "    </tr>\n",
       "    <tr>\n",
       "      <th>46</th>\n",
       "      <td>sō</td>\n",
       "      <td>5.593357</td>\n",
       "      <td>5</td>\n",
       "    </tr>\n",
       "    <tr>\n",
       "      <th>47</th>\n",
       "      <td>teeth</td>\n",
       "      <td>15.907867</td>\n",
       "      <td>1</td>\n",
       "    </tr>\n",
       "    <tr>\n",
       "      <th>48</th>\n",
       "      <td>that</td>\n",
       "      <td>8.842609</td>\n",
       "      <td>10</td>\n",
       "    </tr>\n",
       "    <tr>\n",
       "      <th>49</th>\n",
       "      <td>the</td>\n",
       "      <td>3.516795</td>\n",
       "      <td>21</td>\n",
       "    </tr>\n",
       "    <tr>\n",
       "      <th>50</th>\n",
       "      <td>then</td>\n",
       "      <td>11.933123</td>\n",
       "      <td>6</td>\n",
       "    </tr>\n",
       "    <tr>\n",
       "      <th>51</th>\n",
       "      <td>there</td>\n",
       "      <td>7.251217</td>\n",
       "      <td>1</td>\n",
       "    </tr>\n",
       "    <tr>\n",
       "      <th>52</th>\n",
       "      <td>this</td>\n",
       "      <td>2.271301</td>\n",
       "      <td>2</td>\n",
       "    </tr>\n",
       "    <tr>\n",
       "      <th>53</th>\n",
       "      <td>to</td>\n",
       "      <td>4.939220</td>\n",
       "      <td>5</td>\n",
       "    </tr>\n",
       "    <tr>\n",
       "      <th>54</th>\n",
       "      <td>tooth</td>\n",
       "      <td>7.684104</td>\n",
       "      <td>12</td>\n",
       "    </tr>\n",
       "    <tr>\n",
       "      <th>55</th>\n",
       "      <td>tēēth</td>\n",
       "      <td>8.331736</td>\n",
       "      <td>8</td>\n",
       "    </tr>\n",
       "    <tr>\n",
       "      <th>56</th>\n",
       "      <td>tēēth,</td>\n",
       "      <td>15.667486</td>\n",
       "      <td>2</td>\n",
       "    </tr>\n",
       "    <tr>\n",
       "      <th>57</th>\n",
       "      <td>walking</td>\n",
       "      <td>14.600282</td>\n",
       "      <td>2</td>\n",
       "    </tr>\n",
       "    <tr>\n",
       "      <th>58</th>\n",
       "      <td>was</td>\n",
       "      <td>7.568624</td>\n",
       "      <td>7</td>\n",
       "    </tr>\n",
       "    <tr>\n",
       "      <th>59</th>\n",
       "      <td>when</td>\n",
       "      <td>9.085329</td>\n",
       "      <td>3</td>\n",
       "    </tr>\n",
       "    <tr>\n",
       "      <th>60</th>\n",
       "      <td>where</td>\n",
       "      <td>9.610848</td>\n",
       "      <td>1</td>\n",
       "    </tr>\n",
       "    <tr>\n",
       "      <th>61</th>\n",
       "      <td>white</td>\n",
       "      <td>7.012500</td>\n",
       "      <td>9</td>\n",
       "    </tr>\n",
       "    <tr>\n",
       "      <th>62</th>\n",
       "      <td>white,</td>\n",
       "      <td>8.012375</td>\n",
       "      <td>2</td>\n",
       "    </tr>\n",
       "    <tr>\n",
       "      <th>63</th>\n",
       "      <td>whïte</td>\n",
       "      <td>5.758088</td>\n",
       "      <td>9</td>\n",
       "    </tr>\n",
       "    <tr>\n",
       "      <th>64</th>\n",
       "      <td>with</td>\n",
       "      <td>9.455329</td>\n",
       "      <td>2</td>\n",
       "    </tr>\n",
       "    <tr>\n",
       "      <th>65</th>\n",
       "      <td>wē</td>\n",
       "      <td>11.799070</td>\n",
       "      <td>2</td>\n",
       "    </tr>\n",
       "    <tr>\n",
       "      <th>66</th>\n",
       "      <td>you</td>\n",
       "      <td>13.482426</td>\n",
       "      <td>1</td>\n",
       "    </tr>\n",
       "    <tr>\n",
       "      <th>67</th>\n",
       "      <td>ēagle</td>\n",
       "      <td>6.151262</td>\n",
       "      <td>2</td>\n",
       "    </tr>\n",
       "    <tr>\n",
       "      <th>68</th>\n",
       "      <td>ēagles</td>\n",
       "      <td>21.742523</td>\n",
       "      <td>1</td>\n",
       "    </tr>\n",
       "    <tr>\n",
       "      <th>69</th>\n",
       "      <td>ōver</td>\n",
       "      <td>4.775277</td>\n",
       "      <td>1</td>\n",
       "    </tr>\n",
       "  </tbody>\n",
       "</table>\n",
       "<p>70 rows × 3 columns</p>\n",
       "</div>"
      ],
      "text/plain": [
       "   english_word  median_read_duration  appearance_count\n",
       "0             a             16.175994                 8\n",
       "1            am              1.157614                 4\n",
       "2            an             10.368872                 1\n",
       "3           are              6.735155                 1\n",
       "4            at              2.236318                 1\n",
       "5          back              9.575830                 1\n",
       "6         brush             10.559953                14\n",
       "7        brush?             20.830034                10\n",
       "8      brushing             12.381624                 8\n",
       "9           but             12.865170                 1\n",
       "10          did              6.858871                 2\n",
       "11           do              3.422935                 1\n",
       "12          dog             12.048863                12\n",
       "13        dog's             12.536862                 2\n",
       "14          end              1.203431                 2\n",
       "15          fat              9.325381                 2\n",
       "16         fat,              9.471170                 2\n",
       "17         fell             17.437404                 4\n",
       "18          for              8.652834                 1\n",
       "19         girl              0.952179                 6\n",
       "20          had              8.789879                 2\n",
       "21         have             10.760818                 9\n",
       "22          her              8.680398                14\n",
       "23          his             11.347292                 1\n",
       "24            i              1.828104                 7\n",
       "25           is             14.122191                 3\n",
       "26           it              7.770292                 2\n",
       "27         like              8.300038                 4\n",
       "28       looked              4.068342                 2\n",
       "29        lïked             11.261506                 3\n",
       "..          ...                   ...               ...\n",
       "40         said              0.442240                 1\n",
       "41        said,              3.952652                10\n",
       "42        shine             10.756335                 5\n",
       "43          shē             10.096490                14\n",
       "44       smiled             13.325233                 2\n",
       "45          sēē              1.414306                 1\n",
       "46           sō              5.593357                 5\n",
       "47        teeth             15.907867                 1\n",
       "48         that              8.842609                10\n",
       "49          the              3.516795                21\n",
       "50         then             11.933123                 6\n",
       "51        there              7.251217                 1\n",
       "52         this              2.271301                 2\n",
       "53           to              4.939220                 5\n",
       "54        tooth              7.684104                12\n",
       "55        tēēth              8.331736                 8\n",
       "56       tēēth,             15.667486                 2\n",
       "57      walking             14.600282                 2\n",
       "58          was              7.568624                 7\n",
       "59         when              9.085329                 3\n",
       "60        where              9.610848                 1\n",
       "61        white              7.012500                 9\n",
       "62       white,              8.012375                 2\n",
       "63        whïte              5.758088                 9\n",
       "64         with              9.455329                 2\n",
       "65           wē             11.799070                 2\n",
       "66          you             13.482426                 1\n",
       "67        ēagle              6.151262                 2\n",
       "68       ēagles             21.742523                 1\n",
       "69         ōver              4.775277                 1\n",
       "\n",
       "[70 rows x 3 columns]"
      ]
     },
     "execution_count": 96,
     "metadata": {},
     "output_type": "execute_result"
    }
   ],
   "source": [
    "focus_word_summary = focus_word.groupby(focus_word.english_word)[['read_duration']].median()\n",
    "focus_word_summary2 = focus_word.groupby(focus_word.english_word)[['read_duration']].count()\n",
    "summary = focus_word_summary.merge(focus_word_summary2,on='english_word')\n",
    "summary.reset_index(inplace=True)\n",
    "summary.columns =  ['english_word','median_read_duration','appearance_count']\n",
    "summary\n",
    "#focus_word_summary2.read_duration.sort_values()"
   ]
  },
  {
   "cell_type": "code",
   "execution_count": 99,
   "metadata": {},
   "outputs": [
    {
     "data": {
      "application/vnd.plotly.v1+json": {
       "config": {
        "plotlyServerURL": "https://plot.ly"
       },
       "data": [
        {
         "hovertemplate": "appearance_count=%{x}<br>median_read_duration=%{y}<br>english_word=%{text}<extra></extra>",
         "legendgroup": "",
         "marker": {
          "color": "#636efa",
          "symbol": "circle"
         },
         "mode": "markers+text",
         "name": "",
         "orientation": "v",
         "showlegend": false,
         "text": [
          "a",
          "am",
          "an",
          "are",
          "at",
          "back",
          "brush",
          "brush?",
          "brushing",
          "but",
          "did",
          "do",
          "dog",
          "dog's",
          "end",
          "fat",
          "fat,",
          "fell",
          "for",
          "girl",
          "had",
          "have",
          "her",
          "his",
          "i",
          "is",
          "it",
          "like",
          "looked",
          "lïked",
          "moon",
          "mother",
          "mother,",
          "my",
          "mÿ",
          "not",
          "other",
          "over",
          "rich",
          "room",
          "said",
          "said,",
          "shine",
          "shē",
          "smiled",
          "sēē",
          "sō",
          "teeth",
          "that",
          "the",
          "then",
          "there",
          "this",
          "to",
          "tooth",
          "tēēth",
          "tēēth,",
          "walking",
          "was",
          "when",
          "where",
          "white",
          "white,",
          "whïte",
          "with",
          "wē",
          "you",
          "ēagle",
          "ēagles",
          "ōver"
         ],
         "type": "scatter",
         "x": [
          8,
          4,
          1,
          1,
          1,
          1,
          14,
          10,
          8,
          1,
          2,
          1,
          12,
          2,
          2,
          2,
          2,
          4,
          1,
          6,
          2,
          9,
          14,
          1,
          7,
          3,
          2,
          4,
          2,
          3,
          9,
          3,
          1,
          10,
          2,
          3,
          5,
          3,
          3,
          6,
          1,
          10,
          5,
          14,
          2,
          1,
          5,
          1,
          10,
          21,
          6,
          1,
          2,
          5,
          12,
          8,
          2,
          2,
          7,
          3,
          1,
          9,
          2,
          9,
          2,
          2,
          1,
          2,
          1,
          1
         ],
         "xaxis": "x",
         "y": [
          16.175994000000003,
          1.1576145,
          10.368872,
          6.735155,
          2.236318,
          9.57583,
          10.559953,
          20.830033999999998,
          12.381624,
          12.86517,
          6.858871499999999,
          3.422935,
          12.0488635,
          12.536862,
          1.2034305,
          9.325381499999999,
          9.4711695,
          17.4374045,
          8.652834,
          0.952179,
          8.7898785,
          10.760818,
          8.680398499999999,
          11.347292,
          1.828104,
          14.122191,
          7.7702919999999995,
          8.3000375,
          4.0683425,
          11.261506,
          15.718452,
          14.76854,
          9.313858,
          4.8146465,
          14.701693,
          1.925956,
          12.510544,
          9.956868,
          1.633247,
          9.765463,
          0.44224,
          3.9526520000000005,
          10.756335,
          10.0964905,
          13.3252335,
          1.414306,
          5.593357,
          15.907867,
          8.8426085,
          3.516795,
          11.933123,
          7.251217,
          2.2713010000000002,
          4.93922,
          7.684104,
          8.3317355,
          15.667486,
          14.600282,
          7.568624,
          9.085329,
          9.610848,
          7.0125,
          8.012375,
          5.758088,
          9.455329,
          11.7990705,
          13.482426,
          6.1512625,
          21.742523,
          4.775277
         ],
         "yaxis": "y"
        }
       ],
       "layout": {
        "legend": {
         "tracegroupgap": 0
        },
        "margin": {
         "t": 60
        },
        "template": {
         "data": {
          "bar": [
           {
            "error_x": {
             "color": "#2a3f5f"
            },
            "error_y": {
             "color": "#2a3f5f"
            },
            "marker": {
             "line": {
              "color": "#E5ECF6",
              "width": 0.5
             }
            },
            "type": "bar"
           }
          ],
          "barpolar": [
           {
            "marker": {
             "line": {
              "color": "#E5ECF6",
              "width": 0.5
             }
            },
            "type": "barpolar"
           }
          ],
          "carpet": [
           {
            "aaxis": {
             "endlinecolor": "#2a3f5f",
             "gridcolor": "white",
             "linecolor": "white",
             "minorgridcolor": "white",
             "startlinecolor": "#2a3f5f"
            },
            "baxis": {
             "endlinecolor": "#2a3f5f",
             "gridcolor": "white",
             "linecolor": "white",
             "minorgridcolor": "white",
             "startlinecolor": "#2a3f5f"
            },
            "type": "carpet"
           }
          ],
          "choropleth": [
           {
            "colorbar": {
             "outlinewidth": 0,
             "ticks": ""
            },
            "type": "choropleth"
           }
          ],
          "contour": [
           {
            "colorbar": {
             "outlinewidth": 0,
             "ticks": ""
            },
            "colorscale": [
             [
              0,
              "#0d0887"
             ],
             [
              0.1111111111111111,
              "#46039f"
             ],
             [
              0.2222222222222222,
              "#7201a8"
             ],
             [
              0.3333333333333333,
              "#9c179e"
             ],
             [
              0.4444444444444444,
              "#bd3786"
             ],
             [
              0.5555555555555556,
              "#d8576b"
             ],
             [
              0.6666666666666666,
              "#ed7953"
             ],
             [
              0.7777777777777778,
              "#fb9f3a"
             ],
             [
              0.8888888888888888,
              "#fdca26"
             ],
             [
              1,
              "#f0f921"
             ]
            ],
            "type": "contour"
           }
          ],
          "contourcarpet": [
           {
            "colorbar": {
             "outlinewidth": 0,
             "ticks": ""
            },
            "type": "contourcarpet"
           }
          ],
          "heatmap": [
           {
            "colorbar": {
             "outlinewidth": 0,
             "ticks": ""
            },
            "colorscale": [
             [
              0,
              "#0d0887"
             ],
             [
              0.1111111111111111,
              "#46039f"
             ],
             [
              0.2222222222222222,
              "#7201a8"
             ],
             [
              0.3333333333333333,
              "#9c179e"
             ],
             [
              0.4444444444444444,
              "#bd3786"
             ],
             [
              0.5555555555555556,
              "#d8576b"
             ],
             [
              0.6666666666666666,
              "#ed7953"
             ],
             [
              0.7777777777777778,
              "#fb9f3a"
             ],
             [
              0.8888888888888888,
              "#fdca26"
             ],
             [
              1,
              "#f0f921"
             ]
            ],
            "type": "heatmap"
           }
          ],
          "heatmapgl": [
           {
            "colorbar": {
             "outlinewidth": 0,
             "ticks": ""
            },
            "colorscale": [
             [
              0,
              "#0d0887"
             ],
             [
              0.1111111111111111,
              "#46039f"
             ],
             [
              0.2222222222222222,
              "#7201a8"
             ],
             [
              0.3333333333333333,
              "#9c179e"
             ],
             [
              0.4444444444444444,
              "#bd3786"
             ],
             [
              0.5555555555555556,
              "#d8576b"
             ],
             [
              0.6666666666666666,
              "#ed7953"
             ],
             [
              0.7777777777777778,
              "#fb9f3a"
             ],
             [
              0.8888888888888888,
              "#fdca26"
             ],
             [
              1,
              "#f0f921"
             ]
            ],
            "type": "heatmapgl"
           }
          ],
          "histogram": [
           {
            "marker": {
             "colorbar": {
              "outlinewidth": 0,
              "ticks": ""
             }
            },
            "type": "histogram"
           }
          ],
          "histogram2d": [
           {
            "colorbar": {
             "outlinewidth": 0,
             "ticks": ""
            },
            "colorscale": [
             [
              0,
              "#0d0887"
             ],
             [
              0.1111111111111111,
              "#46039f"
             ],
             [
              0.2222222222222222,
              "#7201a8"
             ],
             [
              0.3333333333333333,
              "#9c179e"
             ],
             [
              0.4444444444444444,
              "#bd3786"
             ],
             [
              0.5555555555555556,
              "#d8576b"
             ],
             [
              0.6666666666666666,
              "#ed7953"
             ],
             [
              0.7777777777777778,
              "#fb9f3a"
             ],
             [
              0.8888888888888888,
              "#fdca26"
             ],
             [
              1,
              "#f0f921"
             ]
            ],
            "type": "histogram2d"
           }
          ],
          "histogram2dcontour": [
           {
            "colorbar": {
             "outlinewidth": 0,
             "ticks": ""
            },
            "colorscale": [
             [
              0,
              "#0d0887"
             ],
             [
              0.1111111111111111,
              "#46039f"
             ],
             [
              0.2222222222222222,
              "#7201a8"
             ],
             [
              0.3333333333333333,
              "#9c179e"
             ],
             [
              0.4444444444444444,
              "#bd3786"
             ],
             [
              0.5555555555555556,
              "#d8576b"
             ],
             [
              0.6666666666666666,
              "#ed7953"
             ],
             [
              0.7777777777777778,
              "#fb9f3a"
             ],
             [
              0.8888888888888888,
              "#fdca26"
             ],
             [
              1,
              "#f0f921"
             ]
            ],
            "type": "histogram2dcontour"
           }
          ],
          "mesh3d": [
           {
            "colorbar": {
             "outlinewidth": 0,
             "ticks": ""
            },
            "type": "mesh3d"
           }
          ],
          "parcoords": [
           {
            "line": {
             "colorbar": {
              "outlinewidth": 0,
              "ticks": ""
             }
            },
            "type": "parcoords"
           }
          ],
          "pie": [
           {
            "automargin": true,
            "type": "pie"
           }
          ],
          "scatter": [
           {
            "marker": {
             "colorbar": {
              "outlinewidth": 0,
              "ticks": ""
             }
            },
            "type": "scatter"
           }
          ],
          "scatter3d": [
           {
            "line": {
             "colorbar": {
              "outlinewidth": 0,
              "ticks": ""
             }
            },
            "marker": {
             "colorbar": {
              "outlinewidth": 0,
              "ticks": ""
             }
            },
            "type": "scatter3d"
           }
          ],
          "scattercarpet": [
           {
            "marker": {
             "colorbar": {
              "outlinewidth": 0,
              "ticks": ""
             }
            },
            "type": "scattercarpet"
           }
          ],
          "scattergeo": [
           {
            "marker": {
             "colorbar": {
              "outlinewidth": 0,
              "ticks": ""
             }
            },
            "type": "scattergeo"
           }
          ],
          "scattergl": [
           {
            "marker": {
             "colorbar": {
              "outlinewidth": 0,
              "ticks": ""
             }
            },
            "type": "scattergl"
           }
          ],
          "scattermapbox": [
           {
            "marker": {
             "colorbar": {
              "outlinewidth": 0,
              "ticks": ""
             }
            },
            "type": "scattermapbox"
           }
          ],
          "scatterpolar": [
           {
            "marker": {
             "colorbar": {
              "outlinewidth": 0,
              "ticks": ""
             }
            },
            "type": "scatterpolar"
           }
          ],
          "scatterpolargl": [
           {
            "marker": {
             "colorbar": {
              "outlinewidth": 0,
              "ticks": ""
             }
            },
            "type": "scatterpolargl"
           }
          ],
          "scatterternary": [
           {
            "marker": {
             "colorbar": {
              "outlinewidth": 0,
              "ticks": ""
             }
            },
            "type": "scatterternary"
           }
          ],
          "surface": [
           {
            "colorbar": {
             "outlinewidth": 0,
             "ticks": ""
            },
            "colorscale": [
             [
              0,
              "#0d0887"
             ],
             [
              0.1111111111111111,
              "#46039f"
             ],
             [
              0.2222222222222222,
              "#7201a8"
             ],
             [
              0.3333333333333333,
              "#9c179e"
             ],
             [
              0.4444444444444444,
              "#bd3786"
             ],
             [
              0.5555555555555556,
              "#d8576b"
             ],
             [
              0.6666666666666666,
              "#ed7953"
             ],
             [
              0.7777777777777778,
              "#fb9f3a"
             ],
             [
              0.8888888888888888,
              "#fdca26"
             ],
             [
              1,
              "#f0f921"
             ]
            ],
            "type": "surface"
           }
          ],
          "table": [
           {
            "cells": {
             "fill": {
              "color": "#EBF0F8"
             },
             "line": {
              "color": "white"
             }
            },
            "header": {
             "fill": {
              "color": "#C8D4E3"
             },
             "line": {
              "color": "white"
             }
            },
            "type": "table"
           }
          ]
         },
         "layout": {
          "annotationdefaults": {
           "arrowcolor": "#2a3f5f",
           "arrowhead": 0,
           "arrowwidth": 1
          },
          "autotypenumbers": "strict",
          "coloraxis": {
           "colorbar": {
            "outlinewidth": 0,
            "ticks": ""
           }
          },
          "colorscale": {
           "diverging": [
            [
             0,
             "#8e0152"
            ],
            [
             0.1,
             "#c51b7d"
            ],
            [
             0.2,
             "#de77ae"
            ],
            [
             0.3,
             "#f1b6da"
            ],
            [
             0.4,
             "#fde0ef"
            ],
            [
             0.5,
             "#f7f7f7"
            ],
            [
             0.6,
             "#e6f5d0"
            ],
            [
             0.7,
             "#b8e186"
            ],
            [
             0.8,
             "#7fbc41"
            ],
            [
             0.9,
             "#4d9221"
            ],
            [
             1,
             "#276419"
            ]
           ],
           "sequential": [
            [
             0,
             "#0d0887"
            ],
            [
             0.1111111111111111,
             "#46039f"
            ],
            [
             0.2222222222222222,
             "#7201a8"
            ],
            [
             0.3333333333333333,
             "#9c179e"
            ],
            [
             0.4444444444444444,
             "#bd3786"
            ],
            [
             0.5555555555555556,
             "#d8576b"
            ],
            [
             0.6666666666666666,
             "#ed7953"
            ],
            [
             0.7777777777777778,
             "#fb9f3a"
            ],
            [
             0.8888888888888888,
             "#fdca26"
            ],
            [
             1,
             "#f0f921"
            ]
           ],
           "sequentialminus": [
            [
             0,
             "#0d0887"
            ],
            [
             0.1111111111111111,
             "#46039f"
            ],
            [
             0.2222222222222222,
             "#7201a8"
            ],
            [
             0.3333333333333333,
             "#9c179e"
            ],
            [
             0.4444444444444444,
             "#bd3786"
            ],
            [
             0.5555555555555556,
             "#d8576b"
            ],
            [
             0.6666666666666666,
             "#ed7953"
            ],
            [
             0.7777777777777778,
             "#fb9f3a"
            ],
            [
             0.8888888888888888,
             "#fdca26"
            ],
            [
             1,
             "#f0f921"
            ]
           ]
          },
          "colorway": [
           "#636efa",
           "#EF553B",
           "#00cc96",
           "#ab63fa",
           "#FFA15A",
           "#19d3f3",
           "#FF6692",
           "#B6E880",
           "#FF97FF",
           "#FECB52"
          ],
          "font": {
           "color": "#2a3f5f"
          },
          "geo": {
           "bgcolor": "white",
           "lakecolor": "white",
           "landcolor": "#E5ECF6",
           "showlakes": true,
           "showland": true,
           "subunitcolor": "white"
          },
          "hoverlabel": {
           "align": "left"
          },
          "hovermode": "closest",
          "mapbox": {
           "style": "light"
          },
          "paper_bgcolor": "white",
          "plot_bgcolor": "#E5ECF6",
          "polar": {
           "angularaxis": {
            "gridcolor": "white",
            "linecolor": "white",
            "ticks": ""
           },
           "bgcolor": "#E5ECF6",
           "radialaxis": {
            "gridcolor": "white",
            "linecolor": "white",
            "ticks": ""
           }
          },
          "scene": {
           "xaxis": {
            "backgroundcolor": "#E5ECF6",
            "gridcolor": "white",
            "gridwidth": 2,
            "linecolor": "white",
            "showbackground": true,
            "ticks": "",
            "zerolinecolor": "white"
           },
           "yaxis": {
            "backgroundcolor": "#E5ECF6",
            "gridcolor": "white",
            "gridwidth": 2,
            "linecolor": "white",
            "showbackground": true,
            "ticks": "",
            "zerolinecolor": "white"
           },
           "zaxis": {
            "backgroundcolor": "#E5ECF6",
            "gridcolor": "white",
            "gridwidth": 2,
            "linecolor": "white",
            "showbackground": true,
            "ticks": "",
            "zerolinecolor": "white"
           }
          },
          "shapedefaults": {
           "line": {
            "color": "#2a3f5f"
           }
          },
          "ternary": {
           "aaxis": {
            "gridcolor": "white",
            "linecolor": "white",
            "ticks": ""
           },
           "baxis": {
            "gridcolor": "white",
            "linecolor": "white",
            "ticks": ""
           },
           "bgcolor": "#E5ECF6",
           "caxis": {
            "gridcolor": "white",
            "linecolor": "white",
            "ticks": ""
           }
          },
          "title": {
           "x": 0.05
          },
          "xaxis": {
           "automargin": true,
           "gridcolor": "white",
           "linecolor": "white",
           "ticks": "",
           "title": {
            "standoff": 15
           },
           "zerolinecolor": "white",
           "zerolinewidth": 2
          },
          "yaxis": {
           "automargin": true,
           "gridcolor": "white",
           "linecolor": "white",
           "ticks": "",
           "title": {
            "standoff": 15
           },
           "zerolinecolor": "white",
           "zerolinewidth": 2
          }
         }
        },
        "xaxis": {
         "anchor": "y",
         "domain": [
          0,
          1
         ],
         "title": {
          "text": "appearance_count"
         }
        },
        "yaxis": {
         "anchor": "x",
         "domain": [
          0,
          1
         ],
         "title": {
          "text": "median_read_duration"
         }
        }
       }
      },
      "text/html": [
       "<div>                            <div id=\"3809330e-7aa6-4b9f-bfd1-31589d54f022\" class=\"plotly-graph-div\" style=\"height:525px; width:100%;\"></div>            <script type=\"text/javascript\">                require([\"plotly\"], function(Plotly) {                    window.PLOTLYENV=window.PLOTLYENV || {};                                    if (document.getElementById(\"3809330e-7aa6-4b9f-bfd1-31589d54f022\")) {                    Plotly.newPlot(                        \"3809330e-7aa6-4b9f-bfd1-31589d54f022\",                        [{\"hovertemplate\": \"appearance_count=%{x}<br>median_read_duration=%{y}<br>english_word=%{text}<extra></extra>\", \"legendgroup\": \"\", \"marker\": {\"color\": \"#636efa\", \"symbol\": \"circle\"}, \"mode\": \"markers+text\", \"name\": \"\", \"orientation\": \"v\", \"showlegend\": false, \"text\": [\"a\", \"am\", \"an\", \"are\", \"at\", \"back\", \"brush\", \"brush?\", \"brushing\", \"but\", \"did\", \"do\", \"dog\", \"dog's\", \"end\", \"fat\", \"fat,\", \"fell\", \"for\", \"girl\", \"had\", \"have\", \"her\", \"his\", \"i\", \"is\", \"it\", \"like\", \"looked\", \"l\\u00efked\", \"moon\", \"mother\", \"mother,\", \"my\", \"m\\u00ff\", \"not\", \"other\", \"over\", \"rich\", \"room\", \"said\", \"said,\", \"shine\", \"sh\\u0113\", \"smiled\", \"s\\u0113\\u0113\", \"s\\u014d\", \"teeth\", \"that\", \"the\", \"then\", \"there\", \"this\", \"to\", \"tooth\", \"t\\u0113\\u0113th\", \"t\\u0113\\u0113th,\", \"walking\", \"was\", \"when\", \"where\", \"white\", \"white,\", \"wh\\u00efte\", \"with\", \"w\\u0113\", \"you\", \"\\u0113agle\", \"\\u0113agles\", \"\\u014dver\"], \"type\": \"scatter\", \"x\": [8, 4, 1, 1, 1, 1, 14, 10, 8, 1, 2, 1, 12, 2, 2, 2, 2, 4, 1, 6, 2, 9, 14, 1, 7, 3, 2, 4, 2, 3, 9, 3, 1, 10, 2, 3, 5, 3, 3, 6, 1, 10, 5, 14, 2, 1, 5, 1, 10, 21, 6, 1, 2, 5, 12, 8, 2, 2, 7, 3, 1, 9, 2, 9, 2, 2, 1, 2, 1, 1], \"xaxis\": \"x\", \"y\": [16.175994000000003, 1.1576145, 10.368872, 6.735155, 2.236318, 9.57583, 10.559953, 20.830033999999998, 12.381624, 12.86517, 6.858871499999999, 3.422935, 12.0488635, 12.536862, 1.2034305, 9.325381499999999, 9.4711695, 17.4374045, 8.652834, 0.952179, 8.7898785, 10.760818, 8.680398499999999, 11.347292, 1.828104, 14.122191, 7.7702919999999995, 8.3000375, 4.0683425, 11.261506, 15.718452, 14.76854, 9.313858, 4.8146465, 14.701693, 1.925956, 12.510544, 9.956868, 1.633247, 9.765463, 0.44224, 3.9526520000000005, 10.756335, 10.0964905, 13.3252335, 1.414306, 5.593357, 15.907867, 8.8426085, 3.516795, 11.933123, 7.251217, 2.2713010000000002, 4.93922, 7.684104, 8.3317355, 15.667486, 14.600282, 7.568624, 9.085329, 9.610848, 7.0125, 8.012375, 5.758088, 9.455329, 11.7990705, 13.482426, 6.1512625, 21.742523, 4.775277], \"yaxis\": \"y\"}],                        {\"legend\": {\"tracegroupgap\": 0}, \"margin\": {\"t\": 60}, \"template\": {\"data\": {\"bar\": [{\"error_x\": {\"color\": \"#2a3f5f\"}, \"error_y\": {\"color\": \"#2a3f5f\"}, \"marker\": {\"line\": {\"color\": \"#E5ECF6\", \"width\": 0.5}}, \"type\": \"bar\"}], \"barpolar\": [{\"marker\": {\"line\": {\"color\": \"#E5ECF6\", \"width\": 0.5}}, \"type\": \"barpolar\"}], \"carpet\": [{\"aaxis\": {\"endlinecolor\": \"#2a3f5f\", \"gridcolor\": \"white\", \"linecolor\": \"white\", \"minorgridcolor\": \"white\", \"startlinecolor\": \"#2a3f5f\"}, \"baxis\": {\"endlinecolor\": \"#2a3f5f\", \"gridcolor\": \"white\", \"linecolor\": \"white\", \"minorgridcolor\": \"white\", \"startlinecolor\": \"#2a3f5f\"}, \"type\": \"carpet\"}], \"choropleth\": [{\"colorbar\": {\"outlinewidth\": 0, \"ticks\": \"\"}, \"type\": \"choropleth\"}], \"contour\": [{\"colorbar\": {\"outlinewidth\": 0, \"ticks\": \"\"}, \"colorscale\": [[0.0, \"#0d0887\"], [0.1111111111111111, \"#46039f\"], [0.2222222222222222, \"#7201a8\"], [0.3333333333333333, \"#9c179e\"], [0.4444444444444444, \"#bd3786\"], [0.5555555555555556, \"#d8576b\"], [0.6666666666666666, \"#ed7953\"], [0.7777777777777778, \"#fb9f3a\"], [0.8888888888888888, \"#fdca26\"], [1.0, \"#f0f921\"]], \"type\": \"contour\"}], \"contourcarpet\": [{\"colorbar\": {\"outlinewidth\": 0, \"ticks\": \"\"}, \"type\": \"contourcarpet\"}], \"heatmap\": [{\"colorbar\": {\"outlinewidth\": 0, \"ticks\": \"\"}, \"colorscale\": [[0.0, \"#0d0887\"], [0.1111111111111111, \"#46039f\"], [0.2222222222222222, \"#7201a8\"], [0.3333333333333333, \"#9c179e\"], [0.4444444444444444, \"#bd3786\"], [0.5555555555555556, \"#d8576b\"], [0.6666666666666666, \"#ed7953\"], [0.7777777777777778, \"#fb9f3a\"], [0.8888888888888888, \"#fdca26\"], [1.0, \"#f0f921\"]], \"type\": \"heatmap\"}], \"heatmapgl\": [{\"colorbar\": {\"outlinewidth\": 0, \"ticks\": \"\"}, \"colorscale\": [[0.0, \"#0d0887\"], [0.1111111111111111, \"#46039f\"], [0.2222222222222222, \"#7201a8\"], [0.3333333333333333, \"#9c179e\"], [0.4444444444444444, \"#bd3786\"], [0.5555555555555556, \"#d8576b\"], [0.6666666666666666, \"#ed7953\"], [0.7777777777777778, \"#fb9f3a\"], [0.8888888888888888, \"#fdca26\"], [1.0, \"#f0f921\"]], \"type\": \"heatmapgl\"}], \"histogram\": [{\"marker\": {\"colorbar\": {\"outlinewidth\": 0, \"ticks\": \"\"}}, \"type\": \"histogram\"}], \"histogram2d\": [{\"colorbar\": {\"outlinewidth\": 0, \"ticks\": \"\"}, \"colorscale\": [[0.0, \"#0d0887\"], [0.1111111111111111, \"#46039f\"], [0.2222222222222222, \"#7201a8\"], [0.3333333333333333, \"#9c179e\"], [0.4444444444444444, \"#bd3786\"], [0.5555555555555556, \"#d8576b\"], [0.6666666666666666, \"#ed7953\"], [0.7777777777777778, \"#fb9f3a\"], [0.8888888888888888, \"#fdca26\"], [1.0, \"#f0f921\"]], \"type\": \"histogram2d\"}], \"histogram2dcontour\": [{\"colorbar\": {\"outlinewidth\": 0, \"ticks\": \"\"}, \"colorscale\": [[0.0, \"#0d0887\"], [0.1111111111111111, \"#46039f\"], [0.2222222222222222, \"#7201a8\"], [0.3333333333333333, \"#9c179e\"], [0.4444444444444444, \"#bd3786\"], [0.5555555555555556, \"#d8576b\"], [0.6666666666666666, \"#ed7953\"], [0.7777777777777778, \"#fb9f3a\"], [0.8888888888888888, \"#fdca26\"], [1.0, \"#f0f921\"]], \"type\": \"histogram2dcontour\"}], \"mesh3d\": [{\"colorbar\": {\"outlinewidth\": 0, \"ticks\": \"\"}, \"type\": \"mesh3d\"}], \"parcoords\": [{\"line\": {\"colorbar\": {\"outlinewidth\": 0, \"ticks\": \"\"}}, \"type\": \"parcoords\"}], \"pie\": [{\"automargin\": true, \"type\": \"pie\"}], \"scatter\": [{\"marker\": {\"colorbar\": {\"outlinewidth\": 0, \"ticks\": \"\"}}, \"type\": \"scatter\"}], \"scatter3d\": [{\"line\": {\"colorbar\": {\"outlinewidth\": 0, \"ticks\": \"\"}}, \"marker\": {\"colorbar\": {\"outlinewidth\": 0, \"ticks\": \"\"}}, \"type\": \"scatter3d\"}], \"scattercarpet\": [{\"marker\": {\"colorbar\": {\"outlinewidth\": 0, \"ticks\": \"\"}}, \"type\": \"scattercarpet\"}], \"scattergeo\": [{\"marker\": {\"colorbar\": {\"outlinewidth\": 0, \"ticks\": \"\"}}, \"type\": \"scattergeo\"}], \"scattergl\": [{\"marker\": {\"colorbar\": {\"outlinewidth\": 0, \"ticks\": \"\"}}, \"type\": \"scattergl\"}], \"scattermapbox\": [{\"marker\": {\"colorbar\": {\"outlinewidth\": 0, \"ticks\": \"\"}}, \"type\": \"scattermapbox\"}], \"scatterpolar\": [{\"marker\": {\"colorbar\": {\"outlinewidth\": 0, \"ticks\": \"\"}}, \"type\": \"scatterpolar\"}], \"scatterpolargl\": [{\"marker\": {\"colorbar\": {\"outlinewidth\": 0, \"ticks\": \"\"}}, \"type\": \"scatterpolargl\"}], \"scatterternary\": [{\"marker\": {\"colorbar\": {\"outlinewidth\": 0, \"ticks\": \"\"}}, \"type\": \"scatterternary\"}], \"surface\": [{\"colorbar\": {\"outlinewidth\": 0, \"ticks\": \"\"}, \"colorscale\": [[0.0, \"#0d0887\"], [0.1111111111111111, \"#46039f\"], [0.2222222222222222, \"#7201a8\"], [0.3333333333333333, \"#9c179e\"], [0.4444444444444444, \"#bd3786\"], [0.5555555555555556, \"#d8576b\"], [0.6666666666666666, \"#ed7953\"], [0.7777777777777778, \"#fb9f3a\"], [0.8888888888888888, \"#fdca26\"], [1.0, \"#f0f921\"]], \"type\": \"surface\"}], \"table\": [{\"cells\": {\"fill\": {\"color\": \"#EBF0F8\"}, \"line\": {\"color\": \"white\"}}, \"header\": {\"fill\": {\"color\": \"#C8D4E3\"}, \"line\": {\"color\": \"white\"}}, \"type\": \"table\"}]}, \"layout\": {\"annotationdefaults\": {\"arrowcolor\": \"#2a3f5f\", \"arrowhead\": 0, \"arrowwidth\": 1}, \"autotypenumbers\": \"strict\", \"coloraxis\": {\"colorbar\": {\"outlinewidth\": 0, \"ticks\": \"\"}}, \"colorscale\": {\"diverging\": [[0, \"#8e0152\"], [0.1, \"#c51b7d\"], [0.2, \"#de77ae\"], [0.3, \"#f1b6da\"], [0.4, \"#fde0ef\"], [0.5, \"#f7f7f7\"], [0.6, \"#e6f5d0\"], [0.7, \"#b8e186\"], [0.8, \"#7fbc41\"], [0.9, \"#4d9221\"], [1, \"#276419\"]], \"sequential\": [[0.0, \"#0d0887\"], [0.1111111111111111, \"#46039f\"], [0.2222222222222222, \"#7201a8\"], [0.3333333333333333, \"#9c179e\"], [0.4444444444444444, \"#bd3786\"], [0.5555555555555556, \"#d8576b\"], [0.6666666666666666, \"#ed7953\"], [0.7777777777777778, \"#fb9f3a\"], [0.8888888888888888, \"#fdca26\"], [1.0, \"#f0f921\"]], \"sequentialminus\": [[0.0, \"#0d0887\"], [0.1111111111111111, \"#46039f\"], [0.2222222222222222, \"#7201a8\"], [0.3333333333333333, \"#9c179e\"], [0.4444444444444444, \"#bd3786\"], [0.5555555555555556, \"#d8576b\"], [0.6666666666666666, \"#ed7953\"], [0.7777777777777778, \"#fb9f3a\"], [0.8888888888888888, \"#fdca26\"], [1.0, \"#f0f921\"]]}, \"colorway\": [\"#636efa\", \"#EF553B\", \"#00cc96\", \"#ab63fa\", \"#FFA15A\", \"#19d3f3\", \"#FF6692\", \"#B6E880\", \"#FF97FF\", \"#FECB52\"], \"font\": {\"color\": \"#2a3f5f\"}, \"geo\": {\"bgcolor\": \"white\", \"lakecolor\": \"white\", \"landcolor\": \"#E5ECF6\", \"showlakes\": true, \"showland\": true, \"subunitcolor\": \"white\"}, \"hoverlabel\": {\"align\": \"left\"}, \"hovermode\": \"closest\", \"mapbox\": {\"style\": \"light\"}, \"paper_bgcolor\": \"white\", \"plot_bgcolor\": \"#E5ECF6\", \"polar\": {\"angularaxis\": {\"gridcolor\": \"white\", \"linecolor\": \"white\", \"ticks\": \"\"}, \"bgcolor\": \"#E5ECF6\", \"radialaxis\": {\"gridcolor\": \"white\", \"linecolor\": \"white\", \"ticks\": \"\"}}, \"scene\": {\"xaxis\": {\"backgroundcolor\": \"#E5ECF6\", \"gridcolor\": \"white\", \"gridwidth\": 2, \"linecolor\": \"white\", \"showbackground\": true, \"ticks\": \"\", \"zerolinecolor\": \"white\"}, \"yaxis\": {\"backgroundcolor\": \"#E5ECF6\", \"gridcolor\": \"white\", \"gridwidth\": 2, \"linecolor\": \"white\", \"showbackground\": true, \"ticks\": \"\", \"zerolinecolor\": \"white\"}, \"zaxis\": {\"backgroundcolor\": \"#E5ECF6\", \"gridcolor\": \"white\", \"gridwidth\": 2, \"linecolor\": \"white\", \"showbackground\": true, \"ticks\": \"\", \"zerolinecolor\": \"white\"}}, \"shapedefaults\": {\"line\": {\"color\": \"#2a3f5f\"}}, \"ternary\": {\"aaxis\": {\"gridcolor\": \"white\", \"linecolor\": \"white\", \"ticks\": \"\"}, \"baxis\": {\"gridcolor\": \"white\", \"linecolor\": \"white\", \"ticks\": \"\"}, \"bgcolor\": \"#E5ECF6\", \"caxis\": {\"gridcolor\": \"white\", \"linecolor\": \"white\", \"ticks\": \"\"}}, \"title\": {\"x\": 0.05}, \"xaxis\": {\"automargin\": true, \"gridcolor\": \"white\", \"linecolor\": \"white\", \"ticks\": \"\", \"title\": {\"standoff\": 15}, \"zerolinecolor\": \"white\", \"zerolinewidth\": 2}, \"yaxis\": {\"automargin\": true, \"gridcolor\": \"white\", \"linecolor\": \"white\", \"ticks\": \"\", \"title\": {\"standoff\": 15}, \"zerolinecolor\": \"white\", \"zerolinewidth\": 2}}}, \"xaxis\": {\"anchor\": \"y\", \"domain\": [0.0, 1.0], \"title\": {\"text\": \"appearance_count\"}}, \"yaxis\": {\"anchor\": \"x\", \"domain\": [0.0, 1.0], \"title\": {\"text\": \"median_read_duration\"}}},                        {\"responsive\": true}                    ).then(function(){\n",
       "                            \n",
       "var gd = document.getElementById('3809330e-7aa6-4b9f-bfd1-31589d54f022');\n",
       "var x = new MutationObserver(function (mutations, observer) {{\n",
       "        var display = window.getComputedStyle(gd).display;\n",
       "        if (!display || display === 'none') {{\n",
       "            console.log([gd, 'removed!']);\n",
       "            Plotly.purge(gd);\n",
       "            observer.disconnect();\n",
       "        }}\n",
       "}});\n",
       "\n",
       "// Listen for the removal of the full notebook cells\n",
       "var notebookContainer = gd.closest('#notebook-container');\n",
       "if (notebookContainer) {{\n",
       "    x.observe(notebookContainer, {childList: true});\n",
       "}}\n",
       "\n",
       "// Listen for the clearing of the current output cell\n",
       "var outputEl = gd.closest('.output');\n",
       "if (outputEl) {{\n",
       "    x.observe(outputEl, {childList: true});\n",
       "}}\n",
       "\n",
       "                        })                };                });            </script>        </div>"
      ]
     },
     "metadata": {},
     "output_type": "display_data"
    }
   ],
   "source": [
    "\n",
    "fig = px.scatter(summary, x='appearance_count', y='median_read_duration',text='english_word')\n",
    "fig.show()"
   ]
  },
  {
   "cell_type": "code",
   "execution_count": 87,
   "metadata": {},
   "outputs": [
    {
     "data": {
      "text/html": [
       "<div>\n",
       "<style scoped>\n",
       "    .dataframe tbody tr th:only-of-type {\n",
       "        vertical-align: middle;\n",
       "    }\n",
       "\n",
       "    .dataframe tbody tr th {\n",
       "        vertical-align: top;\n",
       "    }\n",
       "\n",
       "    .dataframe thead th {\n",
       "        text-align: right;\n",
       "    }\n",
       "</style>\n",
       "<table border=\"1\" class=\"dataframe\">\n",
       "  <thead>\n",
       "    <tr style=\"text-align: right;\">\n",
       "      <th></th>\n",
       "      <th>read_duration_x</th>\n",
       "      <th>read_duration_y</th>\n",
       "    </tr>\n",
       "    <tr>\n",
       "      <th>english_word</th>\n",
       "      <th></th>\n",
       "      <th></th>\n",
       "    </tr>\n",
       "  </thead>\n",
       "  <tbody>\n",
       "    <tr>\n",
       "      <th></th>\n",
       "      <td>0.898896</td>\n",
       "      <td>84</td>\n",
       "    </tr>\n",
       "    <tr>\n",
       "      <th>a</th>\n",
       "      <td>16.175994</td>\n",
       "      <td>8</td>\n",
       "    </tr>\n",
       "    <tr>\n",
       "      <th>am</th>\n",
       "      <td>1.157614</td>\n",
       "      <td>4</td>\n",
       "    </tr>\n",
       "    <tr>\n",
       "      <th>an</th>\n",
       "      <td>10.368872</td>\n",
       "      <td>1</td>\n",
       "    </tr>\n",
       "    <tr>\n",
       "      <th>are</th>\n",
       "      <td>6.735155</td>\n",
       "      <td>1</td>\n",
       "    </tr>\n",
       "    <tr>\n",
       "      <th>at</th>\n",
       "      <td>2.236318</td>\n",
       "      <td>1</td>\n",
       "    </tr>\n",
       "    <tr>\n",
       "      <th>back</th>\n",
       "      <td>9.575830</td>\n",
       "      <td>1</td>\n",
       "    </tr>\n",
       "    <tr>\n",
       "      <th>brush</th>\n",
       "      <td>10.559953</td>\n",
       "      <td>14</td>\n",
       "    </tr>\n",
       "    <tr>\n",
       "      <th>brush?</th>\n",
       "      <td>20.830034</td>\n",
       "      <td>10</td>\n",
       "    </tr>\n",
       "    <tr>\n",
       "      <th>brushing</th>\n",
       "      <td>12.381624</td>\n",
       "      <td>8</td>\n",
       "    </tr>\n",
       "    <tr>\n",
       "      <th>but</th>\n",
       "      <td>12.865170</td>\n",
       "      <td>1</td>\n",
       "    </tr>\n",
       "    <tr>\n",
       "      <th>did</th>\n",
       "      <td>6.858871</td>\n",
       "      <td>2</td>\n",
       "    </tr>\n",
       "    <tr>\n",
       "      <th>do</th>\n",
       "      <td>3.422935</td>\n",
       "      <td>1</td>\n",
       "    </tr>\n",
       "    <tr>\n",
       "      <th>dog</th>\n",
       "      <td>12.048863</td>\n",
       "      <td>12</td>\n",
       "    </tr>\n",
       "    <tr>\n",
       "      <th>dog's</th>\n",
       "      <td>12.536862</td>\n",
       "      <td>2</td>\n",
       "    </tr>\n",
       "    <tr>\n",
       "      <th>end</th>\n",
       "      <td>1.203431</td>\n",
       "      <td>2</td>\n",
       "    </tr>\n",
       "    <tr>\n",
       "      <th>fat</th>\n",
       "      <td>9.325381</td>\n",
       "      <td>2</td>\n",
       "    </tr>\n",
       "    <tr>\n",
       "      <th>fat,</th>\n",
       "      <td>9.471170</td>\n",
       "      <td>2</td>\n",
       "    </tr>\n",
       "    <tr>\n",
       "      <th>fell</th>\n",
       "      <td>17.437404</td>\n",
       "      <td>4</td>\n",
       "    </tr>\n",
       "    <tr>\n",
       "      <th>for</th>\n",
       "      <td>8.652834</td>\n",
       "      <td>1</td>\n",
       "    </tr>\n",
       "    <tr>\n",
       "      <th>girl</th>\n",
       "      <td>0.952179</td>\n",
       "      <td>6</td>\n",
       "    </tr>\n",
       "    <tr>\n",
       "      <th>had</th>\n",
       "      <td>8.789879</td>\n",
       "      <td>2</td>\n",
       "    </tr>\n",
       "    <tr>\n",
       "      <th>have</th>\n",
       "      <td>10.760818</td>\n",
       "      <td>9</td>\n",
       "    </tr>\n",
       "    <tr>\n",
       "      <th>her</th>\n",
       "      <td>8.680398</td>\n",
       "      <td>14</td>\n",
       "    </tr>\n",
       "    <tr>\n",
       "      <th>his</th>\n",
       "      <td>11.347292</td>\n",
       "      <td>1</td>\n",
       "    </tr>\n",
       "    <tr>\n",
       "      <th>i</th>\n",
       "      <td>1.828104</td>\n",
       "      <td>7</td>\n",
       "    </tr>\n",
       "    <tr>\n",
       "      <th>is</th>\n",
       "      <td>14.122191</td>\n",
       "      <td>3</td>\n",
       "    </tr>\n",
       "    <tr>\n",
       "      <th>it</th>\n",
       "      <td>7.770292</td>\n",
       "      <td>2</td>\n",
       "    </tr>\n",
       "    <tr>\n",
       "      <th>like</th>\n",
       "      <td>8.300038</td>\n",
       "      <td>4</td>\n",
       "    </tr>\n",
       "    <tr>\n",
       "      <th>looked</th>\n",
       "      <td>4.068342</td>\n",
       "      <td>2</td>\n",
       "    </tr>\n",
       "    <tr>\n",
       "      <th>...</th>\n",
       "      <td>...</td>\n",
       "      <td>...</td>\n",
       "    </tr>\n",
       "    <tr>\n",
       "      <th>said</th>\n",
       "      <td>0.442240</td>\n",
       "      <td>1</td>\n",
       "    </tr>\n",
       "    <tr>\n",
       "      <th>said,</th>\n",
       "      <td>3.952652</td>\n",
       "      <td>10</td>\n",
       "    </tr>\n",
       "    <tr>\n",
       "      <th>shine</th>\n",
       "      <td>10.756335</td>\n",
       "      <td>5</td>\n",
       "    </tr>\n",
       "    <tr>\n",
       "      <th>shē</th>\n",
       "      <td>10.096490</td>\n",
       "      <td>14</td>\n",
       "    </tr>\n",
       "    <tr>\n",
       "      <th>smiled</th>\n",
       "      <td>13.325233</td>\n",
       "      <td>2</td>\n",
       "    </tr>\n",
       "    <tr>\n",
       "      <th>sēē</th>\n",
       "      <td>1.414306</td>\n",
       "      <td>1</td>\n",
       "    </tr>\n",
       "    <tr>\n",
       "      <th>sō</th>\n",
       "      <td>5.593357</td>\n",
       "      <td>5</td>\n",
       "    </tr>\n",
       "    <tr>\n",
       "      <th>teeth</th>\n",
       "      <td>15.907867</td>\n",
       "      <td>1</td>\n",
       "    </tr>\n",
       "    <tr>\n",
       "      <th>that</th>\n",
       "      <td>8.842609</td>\n",
       "      <td>10</td>\n",
       "    </tr>\n",
       "    <tr>\n",
       "      <th>the</th>\n",
       "      <td>3.516795</td>\n",
       "      <td>21</td>\n",
       "    </tr>\n",
       "    <tr>\n",
       "      <th>then</th>\n",
       "      <td>11.933123</td>\n",
       "      <td>6</td>\n",
       "    </tr>\n",
       "    <tr>\n",
       "      <th>there</th>\n",
       "      <td>7.251217</td>\n",
       "      <td>1</td>\n",
       "    </tr>\n",
       "    <tr>\n",
       "      <th>this</th>\n",
       "      <td>2.271301</td>\n",
       "      <td>2</td>\n",
       "    </tr>\n",
       "    <tr>\n",
       "      <th>to</th>\n",
       "      <td>4.939220</td>\n",
       "      <td>5</td>\n",
       "    </tr>\n",
       "    <tr>\n",
       "      <th>tooth</th>\n",
       "      <td>7.684104</td>\n",
       "      <td>12</td>\n",
       "    </tr>\n",
       "    <tr>\n",
       "      <th>tēēth</th>\n",
       "      <td>8.331736</td>\n",
       "      <td>8</td>\n",
       "    </tr>\n",
       "    <tr>\n",
       "      <th>tēēth,</th>\n",
       "      <td>15.667486</td>\n",
       "      <td>2</td>\n",
       "    </tr>\n",
       "    <tr>\n",
       "      <th>walking</th>\n",
       "      <td>14.600282</td>\n",
       "      <td>2</td>\n",
       "    </tr>\n",
       "    <tr>\n",
       "      <th>was</th>\n",
       "      <td>7.568624</td>\n",
       "      <td>7</td>\n",
       "    </tr>\n",
       "    <tr>\n",
       "      <th>when</th>\n",
       "      <td>9.085329</td>\n",
       "      <td>3</td>\n",
       "    </tr>\n",
       "    <tr>\n",
       "      <th>where</th>\n",
       "      <td>9.610848</td>\n",
       "      <td>1</td>\n",
       "    </tr>\n",
       "    <tr>\n",
       "      <th>white</th>\n",
       "      <td>7.012500</td>\n",
       "      <td>9</td>\n",
       "    </tr>\n",
       "    <tr>\n",
       "      <th>white,</th>\n",
       "      <td>8.012375</td>\n",
       "      <td>2</td>\n",
       "    </tr>\n",
       "    <tr>\n",
       "      <th>whïte</th>\n",
       "      <td>5.758088</td>\n",
       "      <td>9</td>\n",
       "    </tr>\n",
       "    <tr>\n",
       "      <th>with</th>\n",
       "      <td>9.455329</td>\n",
       "      <td>2</td>\n",
       "    </tr>\n",
       "    <tr>\n",
       "      <th>wē</th>\n",
       "      <td>11.799070</td>\n",
       "      <td>2</td>\n",
       "    </tr>\n",
       "    <tr>\n",
       "      <th>you</th>\n",
       "      <td>13.482426</td>\n",
       "      <td>1</td>\n",
       "    </tr>\n",
       "    <tr>\n",
       "      <th>ēagle</th>\n",
       "      <td>6.151262</td>\n",
       "      <td>2</td>\n",
       "    </tr>\n",
       "    <tr>\n",
       "      <th>ēagles</th>\n",
       "      <td>21.742523</td>\n",
       "      <td>1</td>\n",
       "    </tr>\n",
       "    <tr>\n",
       "      <th>ōver</th>\n",
       "      <td>4.775277</td>\n",
       "      <td>1</td>\n",
       "    </tr>\n",
       "  </tbody>\n",
       "</table>\n",
       "<p>71 rows × 2 columns</p>\n",
       "</div>"
      ],
      "text/plain": [
       "              read_duration_x  read_duration_y\n",
       "english_word                                  \n",
       "                     0.898896               84\n",
       "a                   16.175994                8\n",
       "am                   1.157614                4\n",
       "an                  10.368872                1\n",
       "are                  6.735155                1\n",
       "at                   2.236318                1\n",
       "back                 9.575830                1\n",
       "brush               10.559953               14\n",
       "brush?              20.830034               10\n",
       "brushing            12.381624                8\n",
       "but                 12.865170                1\n",
       "did                  6.858871                2\n",
       "do                   3.422935                1\n",
       "dog                 12.048863               12\n",
       "dog's               12.536862                2\n",
       "end                  1.203431                2\n",
       "fat                  9.325381                2\n",
       "fat,                 9.471170                2\n",
       "fell                17.437404                4\n",
       "for                  8.652834                1\n",
       "girl                 0.952179                6\n",
       "had                  8.789879                2\n",
       "have                10.760818                9\n",
       "her                  8.680398               14\n",
       "his                 11.347292                1\n",
       "i                    1.828104                7\n",
       "is                  14.122191                3\n",
       "it                   7.770292                2\n",
       "like                 8.300038                4\n",
       "looked               4.068342                2\n",
       "...                       ...              ...\n",
       "said                 0.442240                1\n",
       "said,                3.952652               10\n",
       "shine               10.756335                5\n",
       "shē                 10.096490               14\n",
       "smiled              13.325233                2\n",
       "sēē                  1.414306                1\n",
       "sō                   5.593357                5\n",
       "teeth               15.907867                1\n",
       "that                 8.842609               10\n",
       "the                  3.516795               21\n",
       "then                11.933123                6\n",
       "there                7.251217                1\n",
       "this                 2.271301                2\n",
       "to                   4.939220                5\n",
       "tooth                7.684104               12\n",
       "tēēth                8.331736                8\n",
       "tēēth,              15.667486                2\n",
       "walking             14.600282                2\n",
       "was                  7.568624                7\n",
       "when                 9.085329                3\n",
       "where                9.610848                1\n",
       "white                7.012500                9\n",
       "white,               8.012375                2\n",
       "whïte                5.758088                9\n",
       "with                 9.455329                2\n",
       "wē                  11.799070                2\n",
       "you                 13.482426                1\n",
       "ēagle                6.151262                2\n",
       "ēagles              21.742523                1\n",
       "ōver                 4.775277                1\n",
       "\n",
       "[71 rows x 2 columns]"
      ]
     },
     "execution_count": 87,
     "metadata": {},
     "output_type": "execute_result"
    }
   ],
   "source": [
    "summary"
   ]
  },
  {
   "cell_type": "code",
   "execution_count": null,
   "metadata": {},
   "outputs": [],
   "source": []
  },
  {
   "cell_type": "code",
   "execution_count": null,
   "metadata": {},
   "outputs": [],
   "source": []
  }
 ],
 "metadata": {
  "kernelspec": {
   "display_name": "Python 3",
   "language": "python",
   "name": "python3"
  },
  "language_info": {
   "codemirror_mode": {
    "name": "ipython",
    "version": 3
   },
   "file_extension": ".py",
   "mimetype": "text/x-python",
   "name": "python",
   "nbconvert_exporter": "python",
   "pygments_lexer": "ipython3",
   "version": "3.7.2"
  }
 },
 "nbformat": 4,
 "nbformat_minor": 2
}
